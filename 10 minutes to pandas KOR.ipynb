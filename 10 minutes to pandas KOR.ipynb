{
 "cells": [
  {
   "cell_type": "code",
   "execution_count": 4,
   "metadata": {},
   "outputs": [
    {
     "data": {
      "text/html": [
       "<!-- 에디터 폰트를 조정합니다. -->\n",
       "<style type='text/css'>\n",
       ".CodeMirror{\n",
       "    font-size: 14px;\n",
       "    font-family: D2Coding;\n",
       "</style>\n",
       " \n",
       "from matplotlib import font_manager, rc\n",
       "font_name = font_manager.FontProperties(\n",
       "    fname=\"c:/Windows/Fonts/D2Coding-Ver1.3.2-20180524.ttf\").get_name()\n",
       "rc('font', family=font_name)"
      ],
      "text/plain": [
       "<IPython.core.display.HTML object>"
      ]
     },
     "metadata": {},
     "output_type": "display_data"
    }
   ],
   "source": [
    "%%html\n",
    "<!-- 에디터 폰트를 조정합니다. -->\n",
    "<style type='text/css'>\n",
    ".CodeMirror{\n",
    "    font-size: 14px;\n",
    "    font-family: D2Coding;\n",
    "</style>\n",
    " \n",
    "from matplotlib import font_manager, rc\n",
    "font_name = font_manager.FontProperties(\n",
    "    fname=\"c:/Windows/Fonts/D2Coding-Ver1.3.2-20180524.ttf\").get_name()\n",
    "rc('font', family=font_name)"
   ]
  },
  {
   "cell_type": "markdown",
   "metadata": {},
   "source": [
    "pandas에 대한 간략한 소개입니다. 더 자세한 예제들은 <a href=\"https://pandas.pydata.org/pandas-docs/stable/cookbook.html#cookbook\">cookbook</a>에서 볼 수 있습니다.\n",
    "일반적으로 다음과 같이 가져옵니다 :"
   ]
  },
  {
   "cell_type": "code",
   "execution_count": 5,
   "metadata": {},
   "outputs": [],
   "source": [
    "import pandas as pd\n",
    "import numpy as np\n",
    "import matplotlib.pyplot as plt"
   ]
  },
  {
   "cell_type": "markdown",
   "metadata": {},
   "source": [
    "### 객체 생성\n",
    "\n",
    "참조 : <a href=\"https://pandas.pydata.org/pandas-docs/stable/dsintro.html#dsintro\">데이터 구조 소개</a><br>\n",
    "pandas를 이해하기 위해선, 기본적으로 <a href=\"https://pandas.pydata.org/pandas-docs/stable/generated/pandas.Series.html#pandas.Series\">Series</a>와 DataFrame이라는 두 가지 자료구조에 익숙해질 필요가 있습니다. <br>Series객체는 파이썬의 사전형과 비슷하지만 약간 다릅니다. 정수형 인덱스가 자동으로 붙습니다. list를 전달해서 Series를 만듭니다 :"
   ]
  },
  {
   "cell_type": "code",
   "execution_count": 2,
   "metadata": {},
   "outputs": [
    {
     "data": {
      "text/plain": [
       "0    1.0\n",
       "1    3.0\n",
       "2    5.0\n",
       "3    NaN\n",
       "4    6.0\n",
       "5    8.0\n",
       "dtype: float64"
      ]
     },
     "execution_count": 2,
     "metadata": {},
     "output_type": "execute_result"
    }
   ],
   "source": [
    "s = pd.Series([1,3,5,np.nan,6,8])\n",
    "s"
   ]
  },
  {
   "cell_type": "markdown",
   "metadata": {},
   "source": [
    "datetime을 인덱스로 갖는 <a href=\"https://pandas.pydata.org/pandas-docs/stable/generated/pandas.DataFrame.html#pandas.DataFrame\">DataFrame</a>을 numpy array를 전달하여 생성해보기 :"
   ]
  },
  {
   "cell_type": "code",
   "execution_count": 3,
   "metadata": {},
   "outputs": [
    {
     "data": {
      "text/plain": [
       "DatetimeIndex(['2013-01-01', '2013-01-02', '2013-01-03', '2013-01-04',\n",
       "               '2013-01-05', '2013-01-06'],\n",
       "              dtype='datetime64[ns]', freq='D')"
      ]
     },
     "execution_count": 3,
     "metadata": {},
     "output_type": "execute_result"
    }
   ],
   "source": [
    "dates = pd.date_range('20130101', periods=6)\n",
    "dates"
   ]
  },
  {
   "cell_type": "code",
   "execution_count": 4,
   "metadata": {},
   "outputs": [
    {
     "data": {
      "text/html": [
       "<div>\n",
       "<style>\n",
       "    .dataframe thead tr:only-child th {\n",
       "        text-align: right;\n",
       "    }\n",
       "\n",
       "    .dataframe thead th {\n",
       "        text-align: left;\n",
       "    }\n",
       "\n",
       "    .dataframe tbody tr th {\n",
       "        vertical-align: top;\n",
       "    }\n",
       "</style>\n",
       "<table border=\"1\" class=\"dataframe\">\n",
       "  <thead>\n",
       "    <tr style=\"text-align: right;\">\n",
       "      <th></th>\n",
       "      <th>A</th>\n",
       "      <th>B</th>\n",
       "      <th>C</th>\n",
       "      <th>D</th>\n",
       "    </tr>\n",
       "  </thead>\n",
       "  <tbody>\n",
       "    <tr>\n",
       "      <th>2013-01-01</th>\n",
       "      <td>0.056598</td>\n",
       "      <td>0.976321</td>\n",
       "      <td>-0.938536</td>\n",
       "      <td>1.521994</td>\n",
       "    </tr>\n",
       "    <tr>\n",
       "      <th>2013-01-02</th>\n",
       "      <td>1.801178</td>\n",
       "      <td>-0.286565</td>\n",
       "      <td>1.033142</td>\n",
       "      <td>-0.440465</td>\n",
       "    </tr>\n",
       "    <tr>\n",
       "      <th>2013-01-03</th>\n",
       "      <td>-0.578730</td>\n",
       "      <td>0.776866</td>\n",
       "      <td>1.891444</td>\n",
       "      <td>0.834353</td>\n",
       "    </tr>\n",
       "    <tr>\n",
       "      <th>2013-01-04</th>\n",
       "      <td>-0.226171</td>\n",
       "      <td>0.410922</td>\n",
       "      <td>0.469082</td>\n",
       "      <td>1.746701</td>\n",
       "    </tr>\n",
       "    <tr>\n",
       "      <th>2013-01-05</th>\n",
       "      <td>-3.041259</td>\n",
       "      <td>-0.665605</td>\n",
       "      <td>1.311177</td>\n",
       "      <td>-0.978491</td>\n",
       "    </tr>\n",
       "    <tr>\n",
       "      <th>2013-01-06</th>\n",
       "      <td>-0.077595</td>\n",
       "      <td>-0.883355</td>\n",
       "      <td>0.240565</td>\n",
       "      <td>-0.392999</td>\n",
       "    </tr>\n",
       "  </tbody>\n",
       "</table>\n",
       "</div>"
      ],
      "text/plain": [
       "                   A         B         C         D\n",
       "2013-01-01  0.056598  0.976321 -0.938536  1.521994\n",
       "2013-01-02  1.801178 -0.286565  1.033142 -0.440465\n",
       "2013-01-03 -0.578730  0.776866  1.891444  0.834353\n",
       "2013-01-04 -0.226171  0.410922  0.469082  1.746701\n",
       "2013-01-05 -3.041259 -0.665605  1.311177 -0.978491\n",
       "2013-01-06 -0.077595 -0.883355  0.240565 -0.392999"
      ]
     },
     "execution_count": 4,
     "metadata": {},
     "output_type": "execute_result"
    }
   ],
   "source": [
    "df = pd.DataFrame(np.random.randn(6,4), index=dates, columns=list('ABCD'))\n",
    "df"
   ]
  },
  {
   "cell_type": "markdown",
   "metadata": {},
   "source": [
    "series-like 객체들을 dict형으로 전달하여 DataFrame을 생성합니다 :"
   ]
  },
  {
   "cell_type": "code",
   "execution_count": 5,
   "metadata": {},
   "outputs": [
    {
     "data": {
      "text/html": [
       "<div>\n",
       "<style>\n",
       "    .dataframe thead tr:only-child th {\n",
       "        text-align: right;\n",
       "    }\n",
       "\n",
       "    .dataframe thead th {\n",
       "        text-align: left;\n",
       "    }\n",
       "\n",
       "    .dataframe tbody tr th {\n",
       "        vertical-align: top;\n",
       "    }\n",
       "</style>\n",
       "<table border=\"1\" class=\"dataframe\">\n",
       "  <thead>\n",
       "    <tr style=\"text-align: right;\">\n",
       "      <th></th>\n",
       "      <th>A</th>\n",
       "      <th>B</th>\n",
       "      <th>C</th>\n",
       "      <th>D</th>\n",
       "      <th>E</th>\n",
       "      <th>F</th>\n",
       "    </tr>\n",
       "  </thead>\n",
       "  <tbody>\n",
       "    <tr>\n",
       "      <th>0</th>\n",
       "      <td>1.0</td>\n",
       "      <td>2013-01-02</td>\n",
       "      <td>1.0</td>\n",
       "      <td>3</td>\n",
       "      <td>test</td>\n",
       "      <td>foo</td>\n",
       "    </tr>\n",
       "    <tr>\n",
       "      <th>1</th>\n",
       "      <td>1.0</td>\n",
       "      <td>2013-01-02</td>\n",
       "      <td>1.0</td>\n",
       "      <td>3</td>\n",
       "      <td>train</td>\n",
       "      <td>foo</td>\n",
       "    </tr>\n",
       "    <tr>\n",
       "      <th>2</th>\n",
       "      <td>1.0</td>\n",
       "      <td>2013-01-02</td>\n",
       "      <td>1.0</td>\n",
       "      <td>3</td>\n",
       "      <td>test</td>\n",
       "      <td>foo</td>\n",
       "    </tr>\n",
       "    <tr>\n",
       "      <th>3</th>\n",
       "      <td>1.0</td>\n",
       "      <td>2013-01-02</td>\n",
       "      <td>1.0</td>\n",
       "      <td>3</td>\n",
       "      <td>train</td>\n",
       "      <td>foo</td>\n",
       "    </tr>\n",
       "  </tbody>\n",
       "</table>\n",
       "</div>"
      ],
      "text/plain": [
       "     A          B    C  D      E    F\n",
       "0  1.0 2013-01-02  1.0  3   test  foo\n",
       "1  1.0 2013-01-02  1.0  3  train  foo\n",
       "2  1.0 2013-01-02  1.0  3   test  foo\n",
       "3  1.0 2013-01-02  1.0  3  train  foo"
      ]
     },
     "execution_count": 5,
     "metadata": {},
     "output_type": "execute_result"
    }
   ],
   "source": [
    "df2 = pd.DataFrame({'A' : 1.,\n",
    "                    'B' : pd.Timestamp('20130102'),\n",
    "                    'C' : pd.Series(1,index=list(range(4)),dtype='float32'),\n",
    "                    'D' : np.array([3] * 4,dtype='int32'),\n",
    "                    'E' : pd.Categorical([\"test\",\"train\",\"test\",\"train\"]),\n",
    "                    'F' : 'foo' })\n",
    "df2"
   ]
  },
  {
   "cell_type": "markdown",
   "metadata": {},
   "source": [
    "<a href=\"https://pandas.pydata.org/pandas-docs/stable/basics.html#basics-dtypes\">dtype</a> 확인 :"
   ]
  },
  {
   "cell_type": "code",
   "execution_count": 6,
   "metadata": {},
   "outputs": [
    {
     "data": {
      "text/plain": [
       "A           float64\n",
       "B    datetime64[ns]\n",
       "C           float32\n",
       "D             int32\n",
       "E          category\n",
       "F            object\n",
       "dtype: object"
      ]
     },
     "execution_count": 6,
     "metadata": {},
     "output_type": "execute_result"
    }
   ],
   "source": [
    "df2.dtypes"
   ]
  },
  {
   "cell_type": "markdown",
   "metadata": {},
   "source": [
    "### 데이터 보기\n",
    "참조 : <a href=\"https://pandas.pydata.org/pandas-docs/stable/basics.html#basics\">기본 사항 섹션</a>\n",
    "프레임의 위쪽 및 아래쪽 행들을 봅니다 :"
   ]
  },
  {
   "cell_type": "code",
   "execution_count": 7,
   "metadata": {},
   "outputs": [
    {
     "data": {
      "text/html": [
       "<div>\n",
       "<style>\n",
       "    .dataframe thead tr:only-child th {\n",
       "        text-align: right;\n",
       "    }\n",
       "\n",
       "    .dataframe thead th {\n",
       "        text-align: left;\n",
       "    }\n",
       "\n",
       "    .dataframe tbody tr th {\n",
       "        vertical-align: top;\n",
       "    }\n",
       "</style>\n",
       "<table border=\"1\" class=\"dataframe\">\n",
       "  <thead>\n",
       "    <tr style=\"text-align: right;\">\n",
       "      <th></th>\n",
       "      <th>A</th>\n",
       "      <th>B</th>\n",
       "      <th>C</th>\n",
       "      <th>D</th>\n",
       "    </tr>\n",
       "  </thead>\n",
       "  <tbody>\n",
       "    <tr>\n",
       "      <th>2013-01-01</th>\n",
       "      <td>0.056598</td>\n",
       "      <td>0.976321</td>\n",
       "      <td>-0.938536</td>\n",
       "      <td>1.521994</td>\n",
       "    </tr>\n",
       "    <tr>\n",
       "      <th>2013-01-02</th>\n",
       "      <td>1.801178</td>\n",
       "      <td>-0.286565</td>\n",
       "      <td>1.033142</td>\n",
       "      <td>-0.440465</td>\n",
       "    </tr>\n",
       "    <tr>\n",
       "      <th>2013-01-03</th>\n",
       "      <td>-0.578730</td>\n",
       "      <td>0.776866</td>\n",
       "      <td>1.891444</td>\n",
       "      <td>0.834353</td>\n",
       "    </tr>\n",
       "    <tr>\n",
       "      <th>2013-01-04</th>\n",
       "      <td>-0.226171</td>\n",
       "      <td>0.410922</td>\n",
       "      <td>0.469082</td>\n",
       "      <td>1.746701</td>\n",
       "    </tr>\n",
       "    <tr>\n",
       "      <th>2013-01-05</th>\n",
       "      <td>-3.041259</td>\n",
       "      <td>-0.665605</td>\n",
       "      <td>1.311177</td>\n",
       "      <td>-0.978491</td>\n",
       "    </tr>\n",
       "  </tbody>\n",
       "</table>\n",
       "</div>"
      ],
      "text/plain": [
       "                   A         B         C         D\n",
       "2013-01-01  0.056598  0.976321 -0.938536  1.521994\n",
       "2013-01-02  1.801178 -0.286565  1.033142 -0.440465\n",
       "2013-01-03 -0.578730  0.776866  1.891444  0.834353\n",
       "2013-01-04 -0.226171  0.410922  0.469082  1.746701\n",
       "2013-01-05 -3.041259 -0.665605  1.311177 -0.978491"
      ]
     },
     "execution_count": 7,
     "metadata": {},
     "output_type": "execute_result"
    }
   ],
   "source": [
    "df.head()"
   ]
  },
  {
   "cell_type": "code",
   "execution_count": 8,
   "metadata": {},
   "outputs": [
    {
     "data": {
      "text/html": [
       "<div>\n",
       "<style>\n",
       "    .dataframe thead tr:only-child th {\n",
       "        text-align: right;\n",
       "    }\n",
       "\n",
       "    .dataframe thead th {\n",
       "        text-align: left;\n",
       "    }\n",
       "\n",
       "    .dataframe tbody tr th {\n",
       "        vertical-align: top;\n",
       "    }\n",
       "</style>\n",
       "<table border=\"1\" class=\"dataframe\">\n",
       "  <thead>\n",
       "    <tr style=\"text-align: right;\">\n",
       "      <th></th>\n",
       "      <th>A</th>\n",
       "      <th>B</th>\n",
       "      <th>C</th>\n",
       "      <th>D</th>\n",
       "    </tr>\n",
       "  </thead>\n",
       "  <tbody>\n",
       "    <tr>\n",
       "      <th>2013-01-04</th>\n",
       "      <td>-0.226171</td>\n",
       "      <td>0.410922</td>\n",
       "      <td>0.469082</td>\n",
       "      <td>1.746701</td>\n",
       "    </tr>\n",
       "    <tr>\n",
       "      <th>2013-01-05</th>\n",
       "      <td>-3.041259</td>\n",
       "      <td>-0.665605</td>\n",
       "      <td>1.311177</td>\n",
       "      <td>-0.978491</td>\n",
       "    </tr>\n",
       "    <tr>\n",
       "      <th>2013-01-06</th>\n",
       "      <td>-0.077595</td>\n",
       "      <td>-0.883355</td>\n",
       "      <td>0.240565</td>\n",
       "      <td>-0.392999</td>\n",
       "    </tr>\n",
       "  </tbody>\n",
       "</table>\n",
       "</div>"
      ],
      "text/plain": [
       "                   A         B         C         D\n",
       "2013-01-04 -0.226171  0.410922  0.469082  1.746701\n",
       "2013-01-05 -3.041259 -0.665605  1.311177 -0.978491\n",
       "2013-01-06 -0.077595 -0.883355  0.240565 -0.392999"
      ]
     },
     "execution_count": 8,
     "metadata": {},
     "output_type": "execute_result"
    }
   ],
   "source": [
    "df.tail(3)"
   ]
  },
  {
   "cell_type": "markdown",
   "metadata": {},
   "source": [
    "인덱스, 열 및 기본 numpy 데이터 표시 :"
   ]
  },
  {
   "cell_type": "code",
   "execution_count": 9,
   "metadata": {},
   "outputs": [
    {
     "data": {
      "text/plain": [
       "DatetimeIndex(['2013-01-01', '2013-01-02', '2013-01-03', '2013-01-04',\n",
       "               '2013-01-05', '2013-01-06'],\n",
       "              dtype='datetime64[ns]', freq='D')"
      ]
     },
     "execution_count": 9,
     "metadata": {},
     "output_type": "execute_result"
    }
   ],
   "source": [
    "df.index"
   ]
  },
  {
   "cell_type": "code",
   "execution_count": 10,
   "metadata": {},
   "outputs": [
    {
     "data": {
      "text/plain": [
       "Index(['A', 'B', 'C', 'D'], dtype='object')"
      ]
     },
     "execution_count": 10,
     "metadata": {},
     "output_type": "execute_result"
    }
   ],
   "source": [
    "df.columns"
   ]
  },
  {
   "cell_type": "code",
   "execution_count": 11,
   "metadata": {},
   "outputs": [
    {
     "data": {
      "text/plain": [
       "array([[ 0.05659765,  0.97632067, -0.9385356 ,  1.52199372],\n",
       "       [ 1.80117799, -0.28656457,  1.03314191, -0.44046498],\n",
       "       [-0.57872993,  0.77686619,  1.8914439 ,  0.8343529 ],\n",
       "       [-0.22617125,  0.41092186,  0.46908232,  1.74670134],\n",
       "       [-3.0412589 , -0.66560471,  1.31117667, -0.97849069],\n",
       "       [-0.07759519, -0.8833549 ,  0.24056479, -0.39299911]])"
      ]
     },
     "execution_count": 11,
     "metadata": {},
     "output_type": "execute_result"
    }
   ],
   "source": [
    "df.values"
   ]
  },
  {
   "cell_type": "markdown",
   "metadata": {},
   "source": [
    "describe 메소드는 데이터의 통계 요약을 보여줍니다 :"
   ]
  },
  {
   "cell_type": "code",
   "execution_count": 12,
   "metadata": {},
   "outputs": [
    {
     "data": {
      "text/html": [
       "<div>\n",
       "<style>\n",
       "    .dataframe thead tr:only-child th {\n",
       "        text-align: right;\n",
       "    }\n",
       "\n",
       "    .dataframe thead th {\n",
       "        text-align: left;\n",
       "    }\n",
       "\n",
       "    .dataframe tbody tr th {\n",
       "        vertical-align: top;\n",
       "    }\n",
       "</style>\n",
       "<table border=\"1\" class=\"dataframe\">\n",
       "  <thead>\n",
       "    <tr style=\"text-align: right;\">\n",
       "      <th></th>\n",
       "      <th>A</th>\n",
       "      <th>B</th>\n",
       "      <th>C</th>\n",
       "      <th>D</th>\n",
       "    </tr>\n",
       "  </thead>\n",
       "  <tbody>\n",
       "    <tr>\n",
       "      <th>count</th>\n",
       "      <td>6.000000</td>\n",
       "      <td>6.000000</td>\n",
       "      <td>6.000000</td>\n",
       "      <td>6.000000</td>\n",
       "    </tr>\n",
       "    <tr>\n",
       "      <th>mean</th>\n",
       "      <td>-0.344330</td>\n",
       "      <td>0.054764</td>\n",
       "      <td>0.667812</td>\n",
       "      <td>0.381849</td>\n",
       "    </tr>\n",
       "    <tr>\n",
       "      <th>std</th>\n",
       "      <td>1.560604</td>\n",
       "      <td>0.776280</td>\n",
       "      <td>0.984586</td>\n",
       "      <td>1.139704</td>\n",
       "    </tr>\n",
       "    <tr>\n",
       "      <th>min</th>\n",
       "      <td>-3.041259</td>\n",
       "      <td>-0.883355</td>\n",
       "      <td>-0.938536</td>\n",
       "      <td>-0.978491</td>\n",
       "    </tr>\n",
       "    <tr>\n",
       "      <th>25%</th>\n",
       "      <td>-0.490590</td>\n",
       "      <td>-0.570845</td>\n",
       "      <td>0.297694</td>\n",
       "      <td>-0.428599</td>\n",
       "    </tr>\n",
       "    <tr>\n",
       "      <th>50%</th>\n",
       "      <td>-0.151883</td>\n",
       "      <td>0.062179</td>\n",
       "      <td>0.751112</td>\n",
       "      <td>0.220677</td>\n",
       "    </tr>\n",
       "    <tr>\n",
       "      <th>75%</th>\n",
       "      <td>0.023049</td>\n",
       "      <td>0.685380</td>\n",
       "      <td>1.241668</td>\n",
       "      <td>1.350084</td>\n",
       "    </tr>\n",
       "    <tr>\n",
       "      <th>max</th>\n",
       "      <td>1.801178</td>\n",
       "      <td>0.976321</td>\n",
       "      <td>1.891444</td>\n",
       "      <td>1.746701</td>\n",
       "    </tr>\n",
       "  </tbody>\n",
       "</table>\n",
       "</div>"
      ],
      "text/plain": [
       "              A         B         C         D\n",
       "count  6.000000  6.000000  6.000000  6.000000\n",
       "mean  -0.344330  0.054764  0.667812  0.381849\n",
       "std    1.560604  0.776280  0.984586  1.139704\n",
       "min   -3.041259 -0.883355 -0.938536 -0.978491\n",
       "25%   -0.490590 -0.570845  0.297694 -0.428599\n",
       "50%   -0.151883  0.062179  0.751112  0.220677\n",
       "75%    0.023049  0.685380  1.241668  1.350084\n",
       "max    1.801178  0.976321  1.891444  1.746701"
      ]
     },
     "execution_count": 12,
     "metadata": {},
     "output_type": "execute_result"
    }
   ],
   "source": [
    "df.describe()"
   ]
  },
  {
   "cell_type": "markdown",
   "metadata": {},
   "source": [
    "전치 데이터 :"
   ]
  },
  {
   "cell_type": "code",
   "execution_count": 13,
   "metadata": {},
   "outputs": [
    {
     "data": {
      "text/html": [
       "<div>\n",
       "<style>\n",
       "    .dataframe thead tr:only-child th {\n",
       "        text-align: right;\n",
       "    }\n",
       "\n",
       "    .dataframe thead th {\n",
       "        text-align: left;\n",
       "    }\n",
       "\n",
       "    .dataframe tbody tr th {\n",
       "        vertical-align: top;\n",
       "    }\n",
       "</style>\n",
       "<table border=\"1\" class=\"dataframe\">\n",
       "  <thead>\n",
       "    <tr style=\"text-align: right;\">\n",
       "      <th></th>\n",
       "      <th>2013-01-01 00:00:00</th>\n",
       "      <th>2013-01-02 00:00:00</th>\n",
       "      <th>2013-01-03 00:00:00</th>\n",
       "      <th>2013-01-04 00:00:00</th>\n",
       "      <th>2013-01-05 00:00:00</th>\n",
       "      <th>2013-01-06 00:00:00</th>\n",
       "    </tr>\n",
       "  </thead>\n",
       "  <tbody>\n",
       "    <tr>\n",
       "      <th>A</th>\n",
       "      <td>0.056598</td>\n",
       "      <td>1.801178</td>\n",
       "      <td>-0.578730</td>\n",
       "      <td>-0.226171</td>\n",
       "      <td>-3.041259</td>\n",
       "      <td>-0.077595</td>\n",
       "    </tr>\n",
       "    <tr>\n",
       "      <th>B</th>\n",
       "      <td>0.976321</td>\n",
       "      <td>-0.286565</td>\n",
       "      <td>0.776866</td>\n",
       "      <td>0.410922</td>\n",
       "      <td>-0.665605</td>\n",
       "      <td>-0.883355</td>\n",
       "    </tr>\n",
       "    <tr>\n",
       "      <th>C</th>\n",
       "      <td>-0.938536</td>\n",
       "      <td>1.033142</td>\n",
       "      <td>1.891444</td>\n",
       "      <td>0.469082</td>\n",
       "      <td>1.311177</td>\n",
       "      <td>0.240565</td>\n",
       "    </tr>\n",
       "    <tr>\n",
       "      <th>D</th>\n",
       "      <td>1.521994</td>\n",
       "      <td>-0.440465</td>\n",
       "      <td>0.834353</td>\n",
       "      <td>1.746701</td>\n",
       "      <td>-0.978491</td>\n",
       "      <td>-0.392999</td>\n",
       "    </tr>\n",
       "  </tbody>\n",
       "</table>\n",
       "</div>"
      ],
      "text/plain": [
       "   2013-01-01  2013-01-02  2013-01-03  2013-01-04  2013-01-05  2013-01-06\n",
       "A    0.056598    1.801178   -0.578730   -0.226171   -3.041259   -0.077595\n",
       "B    0.976321   -0.286565    0.776866    0.410922   -0.665605   -0.883355\n",
       "C   -0.938536    1.033142    1.891444    0.469082    1.311177    0.240565\n",
       "D    1.521994   -0.440465    0.834353    1.746701   -0.978491   -0.392999"
      ]
     },
     "execution_count": 13,
     "metadata": {},
     "output_type": "execute_result"
    }
   ],
   "source": [
    "df.T"
   ]
  },
  {
   "cell_type": "markdown",
   "metadata": {},
   "source": [
    "축 별 정렬"
   ]
  },
  {
   "cell_type": "code",
   "execution_count": 14,
   "metadata": {},
   "outputs": [
    {
     "data": {
      "text/html": [
       "<div>\n",
       "<style>\n",
       "    .dataframe thead tr:only-child th {\n",
       "        text-align: right;\n",
       "    }\n",
       "\n",
       "    .dataframe thead th {\n",
       "        text-align: left;\n",
       "    }\n",
       "\n",
       "    .dataframe tbody tr th {\n",
       "        vertical-align: top;\n",
       "    }\n",
       "</style>\n",
       "<table border=\"1\" class=\"dataframe\">\n",
       "  <thead>\n",
       "    <tr style=\"text-align: right;\">\n",
       "      <th></th>\n",
       "      <th>D</th>\n",
       "      <th>C</th>\n",
       "      <th>B</th>\n",
       "      <th>A</th>\n",
       "    </tr>\n",
       "  </thead>\n",
       "  <tbody>\n",
       "    <tr>\n",
       "      <th>2013-01-01</th>\n",
       "      <td>1.521994</td>\n",
       "      <td>-0.938536</td>\n",
       "      <td>0.976321</td>\n",
       "      <td>0.056598</td>\n",
       "    </tr>\n",
       "    <tr>\n",
       "      <th>2013-01-02</th>\n",
       "      <td>-0.440465</td>\n",
       "      <td>1.033142</td>\n",
       "      <td>-0.286565</td>\n",
       "      <td>1.801178</td>\n",
       "    </tr>\n",
       "    <tr>\n",
       "      <th>2013-01-03</th>\n",
       "      <td>0.834353</td>\n",
       "      <td>1.891444</td>\n",
       "      <td>0.776866</td>\n",
       "      <td>-0.578730</td>\n",
       "    </tr>\n",
       "    <tr>\n",
       "      <th>2013-01-04</th>\n",
       "      <td>1.746701</td>\n",
       "      <td>0.469082</td>\n",
       "      <td>0.410922</td>\n",
       "      <td>-0.226171</td>\n",
       "    </tr>\n",
       "    <tr>\n",
       "      <th>2013-01-05</th>\n",
       "      <td>-0.978491</td>\n",
       "      <td>1.311177</td>\n",
       "      <td>-0.665605</td>\n",
       "      <td>-3.041259</td>\n",
       "    </tr>\n",
       "    <tr>\n",
       "      <th>2013-01-06</th>\n",
       "      <td>-0.392999</td>\n",
       "      <td>0.240565</td>\n",
       "      <td>-0.883355</td>\n",
       "      <td>-0.077595</td>\n",
       "    </tr>\n",
       "  </tbody>\n",
       "</table>\n",
       "</div>"
      ],
      "text/plain": [
       "                   D         C         B         A\n",
       "2013-01-01  1.521994 -0.938536  0.976321  0.056598\n",
       "2013-01-02 -0.440465  1.033142 -0.286565  1.801178\n",
       "2013-01-03  0.834353  1.891444  0.776866 -0.578730\n",
       "2013-01-04  1.746701  0.469082  0.410922 -0.226171\n",
       "2013-01-05 -0.978491  1.311177 -0.665605 -3.041259\n",
       "2013-01-06 -0.392999  0.240565 -0.883355 -0.077595"
      ]
     },
     "execution_count": 14,
     "metadata": {},
     "output_type": "execute_result"
    }
   ],
   "source": [
    "df.sort_index(axis=1, ascending=False)"
   ]
  },
  {
   "cell_type": "markdown",
   "metadata": {},
   "source": [
    "값으로 정렬"
   ]
  },
  {
   "cell_type": "code",
   "execution_count": 15,
   "metadata": {},
   "outputs": [
    {
     "data": {
      "text/html": [
       "<div>\n",
       "<style>\n",
       "    .dataframe thead tr:only-child th {\n",
       "        text-align: right;\n",
       "    }\n",
       "\n",
       "    .dataframe thead th {\n",
       "        text-align: left;\n",
       "    }\n",
       "\n",
       "    .dataframe tbody tr th {\n",
       "        vertical-align: top;\n",
       "    }\n",
       "</style>\n",
       "<table border=\"1\" class=\"dataframe\">\n",
       "  <thead>\n",
       "    <tr style=\"text-align: right;\">\n",
       "      <th></th>\n",
       "      <th>A</th>\n",
       "      <th>B</th>\n",
       "      <th>C</th>\n",
       "      <th>D</th>\n",
       "    </tr>\n",
       "  </thead>\n",
       "  <tbody>\n",
       "    <tr>\n",
       "      <th>2013-01-06</th>\n",
       "      <td>-0.077595</td>\n",
       "      <td>-0.883355</td>\n",
       "      <td>0.240565</td>\n",
       "      <td>-0.392999</td>\n",
       "    </tr>\n",
       "    <tr>\n",
       "      <th>2013-01-05</th>\n",
       "      <td>-3.041259</td>\n",
       "      <td>-0.665605</td>\n",
       "      <td>1.311177</td>\n",
       "      <td>-0.978491</td>\n",
       "    </tr>\n",
       "    <tr>\n",
       "      <th>2013-01-02</th>\n",
       "      <td>1.801178</td>\n",
       "      <td>-0.286565</td>\n",
       "      <td>1.033142</td>\n",
       "      <td>-0.440465</td>\n",
       "    </tr>\n",
       "    <tr>\n",
       "      <th>2013-01-04</th>\n",
       "      <td>-0.226171</td>\n",
       "      <td>0.410922</td>\n",
       "      <td>0.469082</td>\n",
       "      <td>1.746701</td>\n",
       "    </tr>\n",
       "    <tr>\n",
       "      <th>2013-01-03</th>\n",
       "      <td>-0.578730</td>\n",
       "      <td>0.776866</td>\n",
       "      <td>1.891444</td>\n",
       "      <td>0.834353</td>\n",
       "    </tr>\n",
       "    <tr>\n",
       "      <th>2013-01-01</th>\n",
       "      <td>0.056598</td>\n",
       "      <td>0.976321</td>\n",
       "      <td>-0.938536</td>\n",
       "      <td>1.521994</td>\n",
       "    </tr>\n",
       "  </tbody>\n",
       "</table>\n",
       "</div>"
      ],
      "text/plain": [
       "                   A         B         C         D\n",
       "2013-01-06 -0.077595 -0.883355  0.240565 -0.392999\n",
       "2013-01-05 -3.041259 -0.665605  1.311177 -0.978491\n",
       "2013-01-02  1.801178 -0.286565  1.033142 -0.440465\n",
       "2013-01-04 -0.226171  0.410922  0.469082  1.746701\n",
       "2013-01-03 -0.578730  0.776866  1.891444  0.834353\n",
       "2013-01-01  0.056598  0.976321 -0.938536  1.521994"
      ]
     },
     "execution_count": 15,
     "metadata": {},
     "output_type": "execute_result"
    }
   ],
   "source": [
    "df.sort_values(by='B')"
   ]
  },
  {
   "cell_type": "markdown",
   "metadata": {},
   "source": [
    "## 선택\n",
    "__주의__: 선택 및 설정에는 표준 파이썬/NumPy가 표현이 직관적이고 코드 작성, 대화형 작업에 편리하지만, 우리는 최적화된 pandas 데이터 접근 방법을 더 권장합니다. (.at, .iat, .loc, .iloc, .ix) <br>\n",
    "참조 : <a href=\"https://pandas.pydata.org/pandas-docs/stable/indexing.html#indexing\">인덱싱 및 데이터 선택</a>\n",
    "및 <a href=\"https://pandas.pydata.org/pandas-docs/stable/advanced.html#advanced\">다중 인덱스/고급인덱스</a>"
   ]
  },
  {
   "cell_type": "markdown",
   "metadata": {},
   "source": [
    "### 얻기\n",
    "한 열을 선택하면 Series가 생성됩니다. df.A와 효과는 같습니다 :"
   ]
  },
  {
   "cell_type": "code",
   "execution_count": 16,
   "metadata": {},
   "outputs": [
    {
     "data": {
      "text/plain": [
       "2013-01-01    0.056598\n",
       "2013-01-02    1.801178\n",
       "2013-01-03   -0.578730\n",
       "2013-01-04   -0.226171\n",
       "2013-01-05   -3.041259\n",
       "2013-01-06   -0.077595\n",
       "Freq: D, Name: A, dtype: float64"
      ]
     },
     "execution_count": 16,
     "metadata": {},
     "output_type": "execute_result"
    }
   ],
   "source": [
    "df['A']"
   ]
  },
  {
   "cell_type": "markdown",
   "metadata": {},
   "source": [
    "[]를 이용하면, 행들을 슬라이싱할 수 있습니다 :"
   ]
  },
  {
   "cell_type": "code",
   "execution_count": 17,
   "metadata": {},
   "outputs": [
    {
     "data": {
      "text/html": [
       "<div>\n",
       "<style>\n",
       "    .dataframe thead tr:only-child th {\n",
       "        text-align: right;\n",
       "    }\n",
       "\n",
       "    .dataframe thead th {\n",
       "        text-align: left;\n",
       "    }\n",
       "\n",
       "    .dataframe tbody tr th {\n",
       "        vertical-align: top;\n",
       "    }\n",
       "</style>\n",
       "<table border=\"1\" class=\"dataframe\">\n",
       "  <thead>\n",
       "    <tr style=\"text-align: right;\">\n",
       "      <th></th>\n",
       "      <th>A</th>\n",
       "      <th>B</th>\n",
       "      <th>C</th>\n",
       "      <th>D</th>\n",
       "    </tr>\n",
       "  </thead>\n",
       "  <tbody>\n",
       "    <tr>\n",
       "      <th>2013-01-01</th>\n",
       "      <td>0.056598</td>\n",
       "      <td>0.976321</td>\n",
       "      <td>-0.938536</td>\n",
       "      <td>1.521994</td>\n",
       "    </tr>\n",
       "    <tr>\n",
       "      <th>2013-01-02</th>\n",
       "      <td>1.801178</td>\n",
       "      <td>-0.286565</td>\n",
       "      <td>1.033142</td>\n",
       "      <td>-0.440465</td>\n",
       "    </tr>\n",
       "    <tr>\n",
       "      <th>2013-01-03</th>\n",
       "      <td>-0.578730</td>\n",
       "      <td>0.776866</td>\n",
       "      <td>1.891444</td>\n",
       "      <td>0.834353</td>\n",
       "    </tr>\n",
       "  </tbody>\n",
       "</table>\n",
       "</div>"
      ],
      "text/plain": [
       "                   A         B         C         D\n",
       "2013-01-01  0.056598  0.976321 -0.938536  1.521994\n",
       "2013-01-02  1.801178 -0.286565  1.033142 -0.440465\n",
       "2013-01-03 -0.578730  0.776866  1.891444  0.834353"
      ]
     },
     "execution_count": 17,
     "metadata": {},
     "output_type": "execute_result"
    }
   ],
   "source": [
    "df[0:3]"
   ]
  },
  {
   "cell_type": "markdown",
   "metadata": {},
   "source": [
    "### 레이블 별 선택\n",
    "참조 : <a href=\"https://pandas.pydata.org/pandas-docs/stable/indexing.html#indexing-label\">레이블 별 선택</a><br>\n",
    "레이블을 사용하여 행 선택 :"
   ]
  },
  {
   "cell_type": "code",
   "execution_count": 18,
   "metadata": {},
   "outputs": [
    {
     "data": {
      "text/plain": [
       "A    0.056598\n",
       "B    0.976321\n",
       "C   -0.938536\n",
       "D    1.521994\n",
       "Name: 2013-01-01 00:00:00, dtype: float64"
      ]
     },
     "execution_count": 18,
     "metadata": {},
     "output_type": "execute_result"
    }
   ],
   "source": [
    "df.loc[dates[0]]"
   ]
  },
  {
   "cell_type": "markdown",
   "metadata": {},
   "source": [
    "레이블로 다중 선택 :"
   ]
  },
  {
   "cell_type": "code",
   "execution_count": 19,
   "metadata": {},
   "outputs": [
    {
     "data": {
      "text/html": [
       "<div>\n",
       "<style>\n",
       "    .dataframe thead tr:only-child th {\n",
       "        text-align: right;\n",
       "    }\n",
       "\n",
       "    .dataframe thead th {\n",
       "        text-align: left;\n",
       "    }\n",
       "\n",
       "    .dataframe tbody tr th {\n",
       "        vertical-align: top;\n",
       "    }\n",
       "</style>\n",
       "<table border=\"1\" class=\"dataframe\">\n",
       "  <thead>\n",
       "    <tr style=\"text-align: right;\">\n",
       "      <th></th>\n",
       "      <th>A</th>\n",
       "      <th>B</th>\n",
       "    </tr>\n",
       "  </thead>\n",
       "  <tbody>\n",
       "    <tr>\n",
       "      <th>2013-01-01</th>\n",
       "      <td>0.056598</td>\n",
       "      <td>0.976321</td>\n",
       "    </tr>\n",
       "    <tr>\n",
       "      <th>2013-01-02</th>\n",
       "      <td>1.801178</td>\n",
       "      <td>-0.286565</td>\n",
       "    </tr>\n",
       "    <tr>\n",
       "      <th>2013-01-03</th>\n",
       "      <td>-0.578730</td>\n",
       "      <td>0.776866</td>\n",
       "    </tr>\n",
       "    <tr>\n",
       "      <th>2013-01-04</th>\n",
       "      <td>-0.226171</td>\n",
       "      <td>0.410922</td>\n",
       "    </tr>\n",
       "    <tr>\n",
       "      <th>2013-01-05</th>\n",
       "      <td>-3.041259</td>\n",
       "      <td>-0.665605</td>\n",
       "    </tr>\n",
       "    <tr>\n",
       "      <th>2013-01-06</th>\n",
       "      <td>-0.077595</td>\n",
       "      <td>-0.883355</td>\n",
       "    </tr>\n",
       "  </tbody>\n",
       "</table>\n",
       "</div>"
      ],
      "text/plain": [
       "                   A         B\n",
       "2013-01-01  0.056598  0.976321\n",
       "2013-01-02  1.801178 -0.286565\n",
       "2013-01-03 -0.578730  0.776866\n",
       "2013-01-04 -0.226171  0.410922\n",
       "2013-01-05 -3.041259 -0.665605\n",
       "2013-01-06 -0.077595 -0.883355"
      ]
     },
     "execution_count": 19,
     "metadata": {},
     "output_type": "execute_result"
    }
   ],
   "source": [
    "df.loc[:,['A','B']]"
   ]
  },
  {
   "cell_type": "markdown",
   "metadata": {},
   "source": [
    "레이블 슬라이싱 ( __주의__ : 양쪽 끝점도 포함됨 ) :"
   ]
  },
  {
   "cell_type": "code",
   "execution_count": 20,
   "metadata": {},
   "outputs": [
    {
     "data": {
      "text/html": [
       "<div>\n",
       "<style>\n",
       "    .dataframe thead tr:only-child th {\n",
       "        text-align: right;\n",
       "    }\n",
       "\n",
       "    .dataframe thead th {\n",
       "        text-align: left;\n",
       "    }\n",
       "\n",
       "    .dataframe tbody tr th {\n",
       "        vertical-align: top;\n",
       "    }\n",
       "</style>\n",
       "<table border=\"1\" class=\"dataframe\">\n",
       "  <thead>\n",
       "    <tr style=\"text-align: right;\">\n",
       "      <th></th>\n",
       "      <th>A</th>\n",
       "      <th>B</th>\n",
       "    </tr>\n",
       "  </thead>\n",
       "  <tbody>\n",
       "    <tr>\n",
       "      <th>2013-01-02</th>\n",
       "      <td>1.801178</td>\n",
       "      <td>-0.286565</td>\n",
       "    </tr>\n",
       "    <tr>\n",
       "      <th>2013-01-03</th>\n",
       "      <td>-0.578730</td>\n",
       "      <td>0.776866</td>\n",
       "    </tr>\n",
       "    <tr>\n",
       "      <th>2013-01-04</th>\n",
       "      <td>-0.226171</td>\n",
       "      <td>0.410922</td>\n",
       "    </tr>\n",
       "  </tbody>\n",
       "</table>\n",
       "</div>"
      ],
      "text/plain": [
       "                   A         B\n",
       "2013-01-02  1.801178 -0.286565\n",
       "2013-01-03 -0.578730  0.776866\n",
       "2013-01-04 -0.226171  0.410922"
      ]
     },
     "execution_count": 20,
     "metadata": {},
     "output_type": "execute_result"
    }
   ],
   "source": [
    "df.loc['20130102':'20130104',['A','B']]"
   ]
  },
  {
   "cell_type": "markdown",
   "metadata": {},
   "source": [
    "반환된 객체의 차원 축소"
   ]
  },
  {
   "cell_type": "code",
   "execution_count": 21,
   "metadata": {},
   "outputs": [
    {
     "data": {
      "text/plain": [
       "A    1.801178\n",
       "B   -0.286565\n",
       "Name: 2013-01-02 00:00:00, dtype: float64"
      ]
     },
     "execution_count": 21,
     "metadata": {},
     "output_type": "execute_result"
    }
   ],
   "source": [
    "df.loc['20130102',['A','B']]"
   ]
  },
  {
   "cell_type": "markdown",
   "metadata": {},
   "source": [
    "스칼라 값 얻기"
   ]
  },
  {
   "cell_type": "code",
   "execution_count": 22,
   "metadata": {},
   "outputs": [
    {
     "data": {
      "text/plain": [
       "0.056597646265518345"
      ]
     },
     "execution_count": 22,
     "metadata": {},
     "output_type": "execute_result"
    }
   ],
   "source": [
    "df.loc[dates[0],'A']"
   ]
  },
  {
   "cell_type": "markdown",
   "metadata": {},
   "source": [
    "스칼라에 빠르게 접근하기 위해서는 (이전 메소드와 동일)"
   ]
  },
  {
   "cell_type": "code",
   "execution_count": 23,
   "metadata": {},
   "outputs": [
    {
     "data": {
      "text/plain": [
       "0.056597646265518345"
      ]
     },
     "execution_count": 23,
     "metadata": {},
     "output_type": "execute_result"
    }
   ],
   "source": [
    "df.at[dates[0],'A']"
   ]
  },
  {
   "cell_type": "markdown",
   "metadata": {},
   "source": [
    "### 위치 별 선택\n",
    "참조 : <a href=\"https://pandas.pydata.org/pandas-docs/stable/indexing.html#indexing-integer\">위치 별 선택</a><br>\n",
    "정수를 파라미터로 전달해 선택하기 :"
   ]
  },
  {
   "cell_type": "code",
   "execution_count": 24,
   "metadata": {},
   "outputs": [
    {
     "data": {
      "text/plain": [
       "A   -0.226171\n",
       "B    0.410922\n",
       "C    0.469082\n",
       "D    1.746701\n",
       "Name: 2013-01-04 00:00:00, dtype: float64"
      ]
     },
     "execution_count": 24,
     "metadata": {},
     "output_type": "execute_result"
    }
   ],
   "source": [
    "df.iloc[3]"
   ]
  },
  {
   "cell_type": "markdown",
   "metadata": {},
   "source": [
    "정수형 슬라이스는 numpy / python과 유사하게 동작 :"
   ]
  },
  {
   "cell_type": "code",
   "execution_count": 25,
   "metadata": {},
   "outputs": [
    {
     "data": {
      "text/html": [
       "<div>\n",
       "<style>\n",
       "    .dataframe thead tr:only-child th {\n",
       "        text-align: right;\n",
       "    }\n",
       "\n",
       "    .dataframe thead th {\n",
       "        text-align: left;\n",
       "    }\n",
       "\n",
       "    .dataframe tbody tr th {\n",
       "        vertical-align: top;\n",
       "    }\n",
       "</style>\n",
       "<table border=\"1\" class=\"dataframe\">\n",
       "  <thead>\n",
       "    <tr style=\"text-align: right;\">\n",
       "      <th></th>\n",
       "      <th>A</th>\n",
       "      <th>B</th>\n",
       "    </tr>\n",
       "  </thead>\n",
       "  <tbody>\n",
       "    <tr>\n",
       "      <th>2013-01-04</th>\n",
       "      <td>-0.226171</td>\n",
       "      <td>0.410922</td>\n",
       "    </tr>\n",
       "    <tr>\n",
       "      <th>2013-01-05</th>\n",
       "      <td>-3.041259</td>\n",
       "      <td>-0.665605</td>\n",
       "    </tr>\n",
       "  </tbody>\n",
       "</table>\n",
       "</div>"
      ],
      "text/plain": [
       "                   A         B\n",
       "2013-01-04 -0.226171  0.410922\n",
       "2013-01-05 -3.041259 -0.665605"
      ]
     },
     "execution_count": 25,
     "metadata": {},
     "output_type": "execute_result"
    }
   ],
   "source": [
    "df.iloc[3:5,0:2]"
   ]
  },
  {
   "cell_type": "markdown",
   "metadata": {},
   "source": [
    "numpy / python 스타일과 비슷한 정수들의 위치 리스트로도 동작 :"
   ]
  },
  {
   "cell_type": "code",
   "execution_count": 26,
   "metadata": {},
   "outputs": [
    {
     "data": {
      "text/html": [
       "<div>\n",
       "<style>\n",
       "    .dataframe thead tr:only-child th {\n",
       "        text-align: right;\n",
       "    }\n",
       "\n",
       "    .dataframe thead th {\n",
       "        text-align: left;\n",
       "    }\n",
       "\n",
       "    .dataframe tbody tr th {\n",
       "        vertical-align: top;\n",
       "    }\n",
       "</style>\n",
       "<table border=\"1\" class=\"dataframe\">\n",
       "  <thead>\n",
       "    <tr style=\"text-align: right;\">\n",
       "      <th></th>\n",
       "      <th>A</th>\n",
       "      <th>C</th>\n",
       "    </tr>\n",
       "  </thead>\n",
       "  <tbody>\n",
       "    <tr>\n",
       "      <th>2013-01-02</th>\n",
       "      <td>1.801178</td>\n",
       "      <td>1.033142</td>\n",
       "    </tr>\n",
       "    <tr>\n",
       "      <th>2013-01-03</th>\n",
       "      <td>-0.578730</td>\n",
       "      <td>1.891444</td>\n",
       "    </tr>\n",
       "    <tr>\n",
       "      <th>2013-01-05</th>\n",
       "      <td>-3.041259</td>\n",
       "      <td>1.311177</td>\n",
       "    </tr>\n",
       "  </tbody>\n",
       "</table>\n",
       "</div>"
      ],
      "text/plain": [
       "                   A         C\n",
       "2013-01-02  1.801178  1.033142\n",
       "2013-01-03 -0.578730  1.891444\n",
       "2013-01-05 -3.041259  1.311177"
      ]
     },
     "execution_count": 26,
     "metadata": {},
     "output_type": "execute_result"
    }
   ],
   "source": [
    "df.iloc[[1,2,4],[0,2]]"
   ]
  },
  {
   "cell_type": "markdown",
   "metadata": {},
   "source": [
    "명시적으로 행을 분할하고 싶은 경우"
   ]
  },
  {
   "cell_type": "code",
   "execution_count": 27,
   "metadata": {},
   "outputs": [
    {
     "data": {
      "text/html": [
       "<div>\n",
       "<style>\n",
       "    .dataframe thead tr:only-child th {\n",
       "        text-align: right;\n",
       "    }\n",
       "\n",
       "    .dataframe thead th {\n",
       "        text-align: left;\n",
       "    }\n",
       "\n",
       "    .dataframe tbody tr th {\n",
       "        vertical-align: top;\n",
       "    }\n",
       "</style>\n",
       "<table border=\"1\" class=\"dataframe\">\n",
       "  <thead>\n",
       "    <tr style=\"text-align: right;\">\n",
       "      <th></th>\n",
       "      <th>A</th>\n",
       "      <th>B</th>\n",
       "      <th>C</th>\n",
       "      <th>D</th>\n",
       "    </tr>\n",
       "  </thead>\n",
       "  <tbody>\n",
       "    <tr>\n",
       "      <th>2013-01-02</th>\n",
       "      <td>1.801178</td>\n",
       "      <td>-0.286565</td>\n",
       "      <td>1.033142</td>\n",
       "      <td>-0.440465</td>\n",
       "    </tr>\n",
       "    <tr>\n",
       "      <th>2013-01-03</th>\n",
       "      <td>-0.578730</td>\n",
       "      <td>0.776866</td>\n",
       "      <td>1.891444</td>\n",
       "      <td>0.834353</td>\n",
       "    </tr>\n",
       "  </tbody>\n",
       "</table>\n",
       "</div>"
      ],
      "text/plain": [
       "                   A         B         C         D\n",
       "2013-01-02  1.801178 -0.286565  1.033142 -0.440465\n",
       "2013-01-03 -0.578730  0.776866  1.891444  0.834353"
      ]
     },
     "execution_count": 27,
     "metadata": {},
     "output_type": "execute_result"
    }
   ],
   "source": [
    "df.iloc[1:3,:]"
   ]
  },
  {
   "cell_type": "markdown",
   "metadata": {},
   "source": [
    "명시적으로 열을 분할하고 싶은 경우"
   ]
  },
  {
   "cell_type": "code",
   "execution_count": 28,
   "metadata": {},
   "outputs": [
    {
     "data": {
      "text/html": [
       "<div>\n",
       "<style>\n",
       "    .dataframe thead tr:only-child th {\n",
       "        text-align: right;\n",
       "    }\n",
       "\n",
       "    .dataframe thead th {\n",
       "        text-align: left;\n",
       "    }\n",
       "\n",
       "    .dataframe tbody tr th {\n",
       "        vertical-align: top;\n",
       "    }\n",
       "</style>\n",
       "<table border=\"1\" class=\"dataframe\">\n",
       "  <thead>\n",
       "    <tr style=\"text-align: right;\">\n",
       "      <th></th>\n",
       "      <th>B</th>\n",
       "      <th>C</th>\n",
       "    </tr>\n",
       "  </thead>\n",
       "  <tbody>\n",
       "    <tr>\n",
       "      <th>2013-01-01</th>\n",
       "      <td>0.976321</td>\n",
       "      <td>-0.938536</td>\n",
       "    </tr>\n",
       "    <tr>\n",
       "      <th>2013-01-02</th>\n",
       "      <td>-0.286565</td>\n",
       "      <td>1.033142</td>\n",
       "    </tr>\n",
       "    <tr>\n",
       "      <th>2013-01-03</th>\n",
       "      <td>0.776866</td>\n",
       "      <td>1.891444</td>\n",
       "    </tr>\n",
       "    <tr>\n",
       "      <th>2013-01-04</th>\n",
       "      <td>0.410922</td>\n",
       "      <td>0.469082</td>\n",
       "    </tr>\n",
       "    <tr>\n",
       "      <th>2013-01-05</th>\n",
       "      <td>-0.665605</td>\n",
       "      <td>1.311177</td>\n",
       "    </tr>\n",
       "    <tr>\n",
       "      <th>2013-01-06</th>\n",
       "      <td>-0.883355</td>\n",
       "      <td>0.240565</td>\n",
       "    </tr>\n",
       "  </tbody>\n",
       "</table>\n",
       "</div>"
      ],
      "text/plain": [
       "                   B         C\n",
       "2013-01-01  0.976321 -0.938536\n",
       "2013-01-02 -0.286565  1.033142\n",
       "2013-01-03  0.776866  1.891444\n",
       "2013-01-04  0.410922  0.469082\n",
       "2013-01-05 -0.665605  1.311177\n",
       "2013-01-06 -0.883355  0.240565"
      ]
     },
     "execution_count": 28,
     "metadata": {},
     "output_type": "execute_result"
    }
   ],
   "source": [
    "df.iloc[:,1:3]"
   ]
  },
  {
   "cell_type": "markdown",
   "metadata": {},
   "source": [
    "명시적으로 값을 가져오고 싶은 경우"
   ]
  },
  {
   "cell_type": "code",
   "execution_count": 29,
   "metadata": {},
   "outputs": [
    {
     "data": {
      "text/plain": [
       "-0.28656456649852452"
      ]
     },
     "execution_count": 29,
     "metadata": {},
     "output_type": "execute_result"
    }
   ],
   "source": [
    "df.iloc[1,1]"
   ]
  },
  {
   "cell_type": "markdown",
   "metadata": {},
   "source": [
    "스칼라에 더 빠르게 접근하는 메서드는 iat (효과는 이전 메서드와 동일)"
   ]
  },
  {
   "cell_type": "code",
   "execution_count": 30,
   "metadata": {},
   "outputs": [
    {
     "data": {
      "text/plain": [
       "-0.28656456649852452"
      ]
     },
     "execution_count": 30,
     "metadata": {},
     "output_type": "execute_result"
    }
   ],
   "source": [
    "df.iat[1,1]"
   ]
  },
  {
   "cell_type": "markdown",
   "metadata": {},
   "source": [
    "### 부울 색인 생성"
   ]
  },
  {
   "cell_type": "markdown",
   "metadata": {},
   "source": [
    "단일 열의 값을 사용하여 데이터를 선택합니다."
   ]
  },
  {
   "cell_type": "code",
   "execution_count": 31,
   "metadata": {},
   "outputs": [
    {
     "data": {
      "text/html": [
       "<div>\n",
       "<style>\n",
       "    .dataframe thead tr:only-child th {\n",
       "        text-align: right;\n",
       "    }\n",
       "\n",
       "    .dataframe thead th {\n",
       "        text-align: left;\n",
       "    }\n",
       "\n",
       "    .dataframe tbody tr th {\n",
       "        vertical-align: top;\n",
       "    }\n",
       "</style>\n",
       "<table border=\"1\" class=\"dataframe\">\n",
       "  <thead>\n",
       "    <tr style=\"text-align: right;\">\n",
       "      <th></th>\n",
       "      <th>A</th>\n",
       "      <th>B</th>\n",
       "      <th>C</th>\n",
       "      <th>D</th>\n",
       "    </tr>\n",
       "  </thead>\n",
       "  <tbody>\n",
       "    <tr>\n",
       "      <th>2013-01-01</th>\n",
       "      <td>0.056598</td>\n",
       "      <td>0.976321</td>\n",
       "      <td>-0.938536</td>\n",
       "      <td>1.521994</td>\n",
       "    </tr>\n",
       "    <tr>\n",
       "      <th>2013-01-02</th>\n",
       "      <td>1.801178</td>\n",
       "      <td>-0.286565</td>\n",
       "      <td>1.033142</td>\n",
       "      <td>-0.440465</td>\n",
       "    </tr>\n",
       "  </tbody>\n",
       "</table>\n",
       "</div>"
      ],
      "text/plain": [
       "                   A         B         C         D\n",
       "2013-01-01  0.056598  0.976321 -0.938536  1.521994\n",
       "2013-01-02  1.801178 -0.286565  1.033142 -0.440465"
      ]
     },
     "execution_count": 31,
     "metadata": {},
     "output_type": "execute_result"
    }
   ],
   "source": [
    "df[df.A > 0]"
   ]
  },
  {
   "cell_type": "markdown",
   "metadata": {},
   "source": [
    "부울 조건이 충족되는 DataFrame에서 값을 선택합니다."
   ]
  },
  {
   "cell_type": "code",
   "execution_count": 32,
   "metadata": {},
   "outputs": [
    {
     "data": {
      "text/html": [
       "<div>\n",
       "<style>\n",
       "    .dataframe thead tr:only-child th {\n",
       "        text-align: right;\n",
       "    }\n",
       "\n",
       "    .dataframe thead th {\n",
       "        text-align: left;\n",
       "    }\n",
       "\n",
       "    .dataframe tbody tr th {\n",
       "        vertical-align: top;\n",
       "    }\n",
       "</style>\n",
       "<table border=\"1\" class=\"dataframe\">\n",
       "  <thead>\n",
       "    <tr style=\"text-align: right;\">\n",
       "      <th></th>\n",
       "      <th>A</th>\n",
       "      <th>B</th>\n",
       "      <th>C</th>\n",
       "      <th>D</th>\n",
       "    </tr>\n",
       "  </thead>\n",
       "  <tbody>\n",
       "    <tr>\n",
       "      <th>2013-01-01</th>\n",
       "      <td>0.056598</td>\n",
       "      <td>0.976321</td>\n",
       "      <td>NaN</td>\n",
       "      <td>1.521994</td>\n",
       "    </tr>\n",
       "    <tr>\n",
       "      <th>2013-01-02</th>\n",
       "      <td>1.801178</td>\n",
       "      <td>NaN</td>\n",
       "      <td>1.033142</td>\n",
       "      <td>NaN</td>\n",
       "    </tr>\n",
       "    <tr>\n",
       "      <th>2013-01-03</th>\n",
       "      <td>NaN</td>\n",
       "      <td>0.776866</td>\n",
       "      <td>1.891444</td>\n",
       "      <td>0.834353</td>\n",
       "    </tr>\n",
       "    <tr>\n",
       "      <th>2013-01-04</th>\n",
       "      <td>NaN</td>\n",
       "      <td>0.410922</td>\n",
       "      <td>0.469082</td>\n",
       "      <td>1.746701</td>\n",
       "    </tr>\n",
       "    <tr>\n",
       "      <th>2013-01-05</th>\n",
       "      <td>NaN</td>\n",
       "      <td>NaN</td>\n",
       "      <td>1.311177</td>\n",
       "      <td>NaN</td>\n",
       "    </tr>\n",
       "    <tr>\n",
       "      <th>2013-01-06</th>\n",
       "      <td>NaN</td>\n",
       "      <td>NaN</td>\n",
       "      <td>0.240565</td>\n",
       "      <td>NaN</td>\n",
       "    </tr>\n",
       "  </tbody>\n",
       "</table>\n",
       "</div>"
      ],
      "text/plain": [
       "                   A         B         C         D\n",
       "2013-01-01  0.056598  0.976321       NaN  1.521994\n",
       "2013-01-02  1.801178       NaN  1.033142       NaN\n",
       "2013-01-03       NaN  0.776866  1.891444  0.834353\n",
       "2013-01-04       NaN  0.410922  0.469082  1.746701\n",
       "2013-01-05       NaN       NaN  1.311177       NaN\n",
       "2013-01-06       NaN       NaN  0.240565       NaN"
      ]
     },
     "execution_count": 32,
     "metadata": {},
     "output_type": "execute_result"
    }
   ],
   "source": [
    "df[df > 0]"
   ]
  },
  {
   "cell_type": "markdown",
   "metadata": {},
   "source": [
    "isin()필터링 방법 사용 :"
   ]
  },
  {
   "cell_type": "code",
   "execution_count": 33,
   "metadata": {},
   "outputs": [
    {
     "data": {
      "text/html": [
       "<div>\n",
       "<style>\n",
       "    .dataframe thead tr:only-child th {\n",
       "        text-align: right;\n",
       "    }\n",
       "\n",
       "    .dataframe thead th {\n",
       "        text-align: left;\n",
       "    }\n",
       "\n",
       "    .dataframe tbody tr th {\n",
       "        vertical-align: top;\n",
       "    }\n",
       "</style>\n",
       "<table border=\"1\" class=\"dataframe\">\n",
       "  <thead>\n",
       "    <tr style=\"text-align: right;\">\n",
       "      <th></th>\n",
       "      <th>A</th>\n",
       "      <th>B</th>\n",
       "      <th>C</th>\n",
       "      <th>D</th>\n",
       "      <th>E</th>\n",
       "    </tr>\n",
       "  </thead>\n",
       "  <tbody>\n",
       "    <tr>\n",
       "      <th>2013-01-01</th>\n",
       "      <td>0.056598</td>\n",
       "      <td>0.976321</td>\n",
       "      <td>-0.938536</td>\n",
       "      <td>1.521994</td>\n",
       "      <td>one</td>\n",
       "    </tr>\n",
       "    <tr>\n",
       "      <th>2013-01-02</th>\n",
       "      <td>1.801178</td>\n",
       "      <td>-0.286565</td>\n",
       "      <td>1.033142</td>\n",
       "      <td>-0.440465</td>\n",
       "      <td>one</td>\n",
       "    </tr>\n",
       "    <tr>\n",
       "      <th>2013-01-03</th>\n",
       "      <td>-0.578730</td>\n",
       "      <td>0.776866</td>\n",
       "      <td>1.891444</td>\n",
       "      <td>0.834353</td>\n",
       "      <td>two</td>\n",
       "    </tr>\n",
       "    <tr>\n",
       "      <th>2013-01-04</th>\n",
       "      <td>-0.226171</td>\n",
       "      <td>0.410922</td>\n",
       "      <td>0.469082</td>\n",
       "      <td>1.746701</td>\n",
       "      <td>three</td>\n",
       "    </tr>\n",
       "    <tr>\n",
       "      <th>2013-01-05</th>\n",
       "      <td>-3.041259</td>\n",
       "      <td>-0.665605</td>\n",
       "      <td>1.311177</td>\n",
       "      <td>-0.978491</td>\n",
       "      <td>four</td>\n",
       "    </tr>\n",
       "    <tr>\n",
       "      <th>2013-01-06</th>\n",
       "      <td>-0.077595</td>\n",
       "      <td>-0.883355</td>\n",
       "      <td>0.240565</td>\n",
       "      <td>-0.392999</td>\n",
       "      <td>three</td>\n",
       "    </tr>\n",
       "  </tbody>\n",
       "</table>\n",
       "</div>"
      ],
      "text/plain": [
       "                   A         B         C         D      E\n",
       "2013-01-01  0.056598  0.976321 -0.938536  1.521994    one\n",
       "2013-01-02  1.801178 -0.286565  1.033142 -0.440465    one\n",
       "2013-01-03 -0.578730  0.776866  1.891444  0.834353    two\n",
       "2013-01-04 -0.226171  0.410922  0.469082  1.746701  three\n",
       "2013-01-05 -3.041259 -0.665605  1.311177 -0.978491   four\n",
       "2013-01-06 -0.077595 -0.883355  0.240565 -0.392999  three"
      ]
     },
     "execution_count": 33,
     "metadata": {},
     "output_type": "execute_result"
    }
   ],
   "source": [
    "df2 = df.copy()\n",
    "df2['E'] = ['one', 'one','two','three','four','three']\n",
    "df2"
   ]
  },
  {
   "cell_type": "code",
   "execution_count": 34,
   "metadata": {},
   "outputs": [
    {
     "data": {
      "text/html": [
       "<div>\n",
       "<style>\n",
       "    .dataframe thead tr:only-child th {\n",
       "        text-align: right;\n",
       "    }\n",
       "\n",
       "    .dataframe thead th {\n",
       "        text-align: left;\n",
       "    }\n",
       "\n",
       "    .dataframe tbody tr th {\n",
       "        vertical-align: top;\n",
       "    }\n",
       "</style>\n",
       "<table border=\"1\" class=\"dataframe\">\n",
       "  <thead>\n",
       "    <tr style=\"text-align: right;\">\n",
       "      <th></th>\n",
       "      <th>A</th>\n",
       "      <th>B</th>\n",
       "      <th>C</th>\n",
       "      <th>D</th>\n",
       "      <th>E</th>\n",
       "    </tr>\n",
       "  </thead>\n",
       "  <tbody>\n",
       "    <tr>\n",
       "      <th>2013-01-03</th>\n",
       "      <td>-0.578730</td>\n",
       "      <td>0.776866</td>\n",
       "      <td>1.891444</td>\n",
       "      <td>0.834353</td>\n",
       "      <td>two</td>\n",
       "    </tr>\n",
       "    <tr>\n",
       "      <th>2013-01-05</th>\n",
       "      <td>-3.041259</td>\n",
       "      <td>-0.665605</td>\n",
       "      <td>1.311177</td>\n",
       "      <td>-0.978491</td>\n",
       "      <td>four</td>\n",
       "    </tr>\n",
       "  </tbody>\n",
       "</table>\n",
       "</div>"
      ],
      "text/plain": [
       "                   A         B         C         D     E\n",
       "2013-01-03 -0.578730  0.776866  1.891444  0.834353   two\n",
       "2013-01-05 -3.041259 -0.665605  1.311177 -0.978491  four"
      ]
     },
     "execution_count": 34,
     "metadata": {},
     "output_type": "execute_result"
    }
   ],
   "source": [
    "df2[df2['E'].isin(['two','four'])]"
   ]
  },
  {
   "cell_type": "markdown",
   "metadata": {},
   "source": [
    "### 설정\n",
    "새 열을 설정하면 데이터를 인덱스별로 자동 정렬합니다."
   ]
  },
  {
   "cell_type": "code",
   "execution_count": 35,
   "metadata": {},
   "outputs": [
    {
     "data": {
      "text/plain": [
       "2013-01-02    1\n",
       "2013-01-03    2\n",
       "2013-01-04    3\n",
       "2013-01-05    4\n",
       "2013-01-06    5\n",
       "2013-01-07    6\n",
       "Freq: D, dtype: int64"
      ]
     },
     "execution_count": 35,
     "metadata": {},
     "output_type": "execute_result"
    }
   ],
   "source": [
    "s1 = pd.Series([1,2,3,4,5,6], index=pd.date_range('20130102', periods=6))\n",
    "s1"
   ]
  },
  {
   "cell_type": "code",
   "execution_count": 36,
   "metadata": {},
   "outputs": [],
   "source": [
    "df['F'] = s1"
   ]
  },
  {
   "cell_type": "markdown",
   "metadata": {},
   "source": [
    "라벨별로 값 설정하기"
   ]
  },
  {
   "cell_type": "code",
   "execution_count": 37,
   "metadata": {},
   "outputs": [],
   "source": [
    "df.at[dates[0],'A'] = 0"
   ]
  },
  {
   "cell_type": "markdown",
   "metadata": {},
   "source": [
    "위치 별 값 설정"
   ]
  },
  {
   "cell_type": "code",
   "execution_count": 38,
   "metadata": {},
   "outputs": [],
   "source": [
    "df.iat[0,1] = 0"
   ]
  },
  {
   "cell_type": "markdown",
   "metadata": {},
   "source": [
    "numpy array로 지정하여 설정하기"
   ]
  },
  {
   "cell_type": "code",
   "execution_count": 39,
   "metadata": {},
   "outputs": [],
   "source": [
    "df.loc[:,'D'] = np.array([5] * len(df))"
   ]
  },
  {
   "cell_type": "code",
   "execution_count": 40,
   "metadata": {},
   "outputs": [
    {
     "data": {
      "text/html": [
       "<div>\n",
       "<style>\n",
       "    .dataframe thead tr:only-child th {\n",
       "        text-align: right;\n",
       "    }\n",
       "\n",
       "    .dataframe thead th {\n",
       "        text-align: left;\n",
       "    }\n",
       "\n",
       "    .dataframe tbody tr th {\n",
       "        vertical-align: top;\n",
       "    }\n",
       "</style>\n",
       "<table border=\"1\" class=\"dataframe\">\n",
       "  <thead>\n",
       "    <tr style=\"text-align: right;\">\n",
       "      <th></th>\n",
       "      <th>A</th>\n",
       "      <th>B</th>\n",
       "      <th>C</th>\n",
       "      <th>D</th>\n",
       "      <th>F</th>\n",
       "    </tr>\n",
       "  </thead>\n",
       "  <tbody>\n",
       "    <tr>\n",
       "      <th>2013-01-01</th>\n",
       "      <td>0.000000</td>\n",
       "      <td>0.000000</td>\n",
       "      <td>-0.938536</td>\n",
       "      <td>5</td>\n",
       "      <td>NaN</td>\n",
       "    </tr>\n",
       "    <tr>\n",
       "      <th>2013-01-02</th>\n",
       "      <td>1.801178</td>\n",
       "      <td>-0.286565</td>\n",
       "      <td>1.033142</td>\n",
       "      <td>5</td>\n",
       "      <td>1.0</td>\n",
       "    </tr>\n",
       "    <tr>\n",
       "      <th>2013-01-03</th>\n",
       "      <td>-0.578730</td>\n",
       "      <td>0.776866</td>\n",
       "      <td>1.891444</td>\n",
       "      <td>5</td>\n",
       "      <td>2.0</td>\n",
       "    </tr>\n",
       "    <tr>\n",
       "      <th>2013-01-04</th>\n",
       "      <td>-0.226171</td>\n",
       "      <td>0.410922</td>\n",
       "      <td>0.469082</td>\n",
       "      <td>5</td>\n",
       "      <td>3.0</td>\n",
       "    </tr>\n",
       "    <tr>\n",
       "      <th>2013-01-05</th>\n",
       "      <td>-3.041259</td>\n",
       "      <td>-0.665605</td>\n",
       "      <td>1.311177</td>\n",
       "      <td>5</td>\n",
       "      <td>4.0</td>\n",
       "    </tr>\n",
       "    <tr>\n",
       "      <th>2013-01-06</th>\n",
       "      <td>-0.077595</td>\n",
       "      <td>-0.883355</td>\n",
       "      <td>0.240565</td>\n",
       "      <td>5</td>\n",
       "      <td>5.0</td>\n",
       "    </tr>\n",
       "  </tbody>\n",
       "</table>\n",
       "</div>"
      ],
      "text/plain": [
       "                   A         B         C  D    F\n",
       "2013-01-01  0.000000  0.000000 -0.938536  5  NaN\n",
       "2013-01-02  1.801178 -0.286565  1.033142  5  1.0\n",
       "2013-01-03 -0.578730  0.776866  1.891444  5  2.0\n",
       "2013-01-04 -0.226171  0.410922  0.469082  5  3.0\n",
       "2013-01-05 -3.041259 -0.665605  1.311177  5  4.0\n",
       "2013-01-06 -0.077595 -0.883355  0.240565  5  5.0"
      ]
     },
     "execution_count": 40,
     "metadata": {},
     "output_type": "execute_result"
    }
   ],
   "source": [
    "df"
   ]
  },
  {
   "cell_type": "markdown",
   "metadata": {},
   "source": [
    "where 연산 이용"
   ]
  },
  {
   "cell_type": "code",
   "execution_count": 41,
   "metadata": {},
   "outputs": [
    {
     "data": {
      "text/html": [
       "<div>\n",
       "<style>\n",
       "    .dataframe thead tr:only-child th {\n",
       "        text-align: right;\n",
       "    }\n",
       "\n",
       "    .dataframe thead th {\n",
       "        text-align: left;\n",
       "    }\n",
       "\n",
       "    .dataframe tbody tr th {\n",
       "        vertical-align: top;\n",
       "    }\n",
       "</style>\n",
       "<table border=\"1\" class=\"dataframe\">\n",
       "  <thead>\n",
       "    <tr style=\"text-align: right;\">\n",
       "      <th></th>\n",
       "      <th>A</th>\n",
       "      <th>B</th>\n",
       "      <th>C</th>\n",
       "      <th>D</th>\n",
       "      <th>F</th>\n",
       "    </tr>\n",
       "  </thead>\n",
       "  <tbody>\n",
       "    <tr>\n",
       "      <th>2013-01-01</th>\n",
       "      <td>0.000000</td>\n",
       "      <td>0.000000</td>\n",
       "      <td>-0.938536</td>\n",
       "      <td>-5</td>\n",
       "      <td>NaN</td>\n",
       "    </tr>\n",
       "    <tr>\n",
       "      <th>2013-01-02</th>\n",
       "      <td>-1.801178</td>\n",
       "      <td>-0.286565</td>\n",
       "      <td>-1.033142</td>\n",
       "      <td>-5</td>\n",
       "      <td>-1.0</td>\n",
       "    </tr>\n",
       "    <tr>\n",
       "      <th>2013-01-03</th>\n",
       "      <td>-0.578730</td>\n",
       "      <td>-0.776866</td>\n",
       "      <td>-1.891444</td>\n",
       "      <td>-5</td>\n",
       "      <td>-2.0</td>\n",
       "    </tr>\n",
       "    <tr>\n",
       "      <th>2013-01-04</th>\n",
       "      <td>-0.226171</td>\n",
       "      <td>-0.410922</td>\n",
       "      <td>-0.469082</td>\n",
       "      <td>-5</td>\n",
       "      <td>-3.0</td>\n",
       "    </tr>\n",
       "    <tr>\n",
       "      <th>2013-01-05</th>\n",
       "      <td>-3.041259</td>\n",
       "      <td>-0.665605</td>\n",
       "      <td>-1.311177</td>\n",
       "      <td>-5</td>\n",
       "      <td>-4.0</td>\n",
       "    </tr>\n",
       "    <tr>\n",
       "      <th>2013-01-06</th>\n",
       "      <td>-0.077595</td>\n",
       "      <td>-0.883355</td>\n",
       "      <td>-0.240565</td>\n",
       "      <td>-5</td>\n",
       "      <td>-5.0</td>\n",
       "    </tr>\n",
       "  </tbody>\n",
       "</table>\n",
       "</div>"
      ],
      "text/plain": [
       "                   A         B         C  D    F\n",
       "2013-01-01  0.000000  0.000000 -0.938536 -5  NaN\n",
       "2013-01-02 -1.801178 -0.286565 -1.033142 -5 -1.0\n",
       "2013-01-03 -0.578730 -0.776866 -1.891444 -5 -2.0\n",
       "2013-01-04 -0.226171 -0.410922 -0.469082 -5 -3.0\n",
       "2013-01-05 -3.041259 -0.665605 -1.311177 -5 -4.0\n",
       "2013-01-06 -0.077595 -0.883355 -0.240565 -5 -5.0"
      ]
     },
     "execution_count": 41,
     "metadata": {},
     "output_type": "execute_result"
    }
   ],
   "source": [
    "df2 = df.copy()\n",
    "df2[df2 > 0] = -df2\n",
    "df2"
   ]
  },
  {
   "cell_type": "markdown",
   "metadata": {},
   "source": [
    "### 결측치 처리\n",
    "pandas는 결측값을 나타내기 위해 np.nan값을 사용합니다. 기본적으로 계산에 포함되지 않습니다. <a href=\"https://pandas.pydata.org/pandas-docs/stable/missing_data.html#missing-data\">결측치 섹션</a>을 참조하세요. 색인 재생성을 사용하여 특정한 축의 색인을 변경 / 추가 / 삭제할 수 있습니다. 그러면 데이터의 사본이 반환됩니다."
   ]
  },
  {
   "cell_type": "code",
   "execution_count": 42,
   "metadata": {},
   "outputs": [
    {
     "data": {
      "text/html": [
       "<div>\n",
       "<style>\n",
       "    .dataframe thead tr:only-child th {\n",
       "        text-align: right;\n",
       "    }\n",
       "\n",
       "    .dataframe thead th {\n",
       "        text-align: left;\n",
       "    }\n",
       "\n",
       "    .dataframe tbody tr th {\n",
       "        vertical-align: top;\n",
       "    }\n",
       "</style>\n",
       "<table border=\"1\" class=\"dataframe\">\n",
       "  <thead>\n",
       "    <tr style=\"text-align: right;\">\n",
       "      <th></th>\n",
       "      <th>A</th>\n",
       "      <th>B</th>\n",
       "      <th>C</th>\n",
       "      <th>D</th>\n",
       "      <th>F</th>\n",
       "      <th>E</th>\n",
       "    </tr>\n",
       "  </thead>\n",
       "  <tbody>\n",
       "    <tr>\n",
       "      <th>2013-01-01</th>\n",
       "      <td>0.000000</td>\n",
       "      <td>0.000000</td>\n",
       "      <td>-0.938536</td>\n",
       "      <td>5</td>\n",
       "      <td>NaN</td>\n",
       "      <td>1.0</td>\n",
       "    </tr>\n",
       "    <tr>\n",
       "      <th>2013-01-02</th>\n",
       "      <td>1.801178</td>\n",
       "      <td>-0.286565</td>\n",
       "      <td>1.033142</td>\n",
       "      <td>5</td>\n",
       "      <td>1.0</td>\n",
       "      <td>1.0</td>\n",
       "    </tr>\n",
       "    <tr>\n",
       "      <th>2013-01-03</th>\n",
       "      <td>-0.578730</td>\n",
       "      <td>0.776866</td>\n",
       "      <td>1.891444</td>\n",
       "      <td>5</td>\n",
       "      <td>2.0</td>\n",
       "      <td>NaN</td>\n",
       "    </tr>\n",
       "    <tr>\n",
       "      <th>2013-01-04</th>\n",
       "      <td>-0.226171</td>\n",
       "      <td>0.410922</td>\n",
       "      <td>0.469082</td>\n",
       "      <td>5</td>\n",
       "      <td>3.0</td>\n",
       "      <td>NaN</td>\n",
       "    </tr>\n",
       "  </tbody>\n",
       "</table>\n",
       "</div>"
      ],
      "text/plain": [
       "                   A         B         C  D    F    E\n",
       "2013-01-01  0.000000  0.000000 -0.938536  5  NaN  1.0\n",
       "2013-01-02  1.801178 -0.286565  1.033142  5  1.0  1.0\n",
       "2013-01-03 -0.578730  0.776866  1.891444  5  2.0  NaN\n",
       "2013-01-04 -0.226171  0.410922  0.469082  5  3.0  NaN"
      ]
     },
     "execution_count": 42,
     "metadata": {},
     "output_type": "execute_result"
    }
   ],
   "source": [
    "df1 = df.reindex(index=dates[0:4], columns=list(df.columns) + ['E'])\n",
    "df1.loc[dates[0]:dates[1],'E'] = 1\n",
    "df1"
   ]
  },
  {
   "cell_type": "markdown",
   "metadata": {},
   "source": [
    "결측치가 포함된 모든 행을 삭제합니다."
   ]
  },
  {
   "cell_type": "code",
   "execution_count": 43,
   "metadata": {},
   "outputs": [
    {
     "data": {
      "text/html": [
       "<div>\n",
       "<style>\n",
       "    .dataframe thead tr:only-child th {\n",
       "        text-align: right;\n",
       "    }\n",
       "\n",
       "    .dataframe thead th {\n",
       "        text-align: left;\n",
       "    }\n",
       "\n",
       "    .dataframe tbody tr th {\n",
       "        vertical-align: top;\n",
       "    }\n",
       "</style>\n",
       "<table border=\"1\" class=\"dataframe\">\n",
       "  <thead>\n",
       "    <tr style=\"text-align: right;\">\n",
       "      <th></th>\n",
       "      <th>A</th>\n",
       "      <th>B</th>\n",
       "      <th>C</th>\n",
       "      <th>D</th>\n",
       "      <th>F</th>\n",
       "      <th>E</th>\n",
       "    </tr>\n",
       "  </thead>\n",
       "  <tbody>\n",
       "    <tr>\n",
       "      <th>2013-01-02</th>\n",
       "      <td>1.801178</td>\n",
       "      <td>-0.286565</td>\n",
       "      <td>1.033142</td>\n",
       "      <td>5</td>\n",
       "      <td>1.0</td>\n",
       "      <td>1.0</td>\n",
       "    </tr>\n",
       "  </tbody>\n",
       "</table>\n",
       "</div>"
      ],
      "text/plain": [
       "                   A         B         C  D    F    E\n",
       "2013-01-02  1.801178 -0.286565  1.033142  5  1.0  1.0"
      ]
     },
     "execution_count": 43,
     "metadata": {},
     "output_type": "execute_result"
    }
   ],
   "source": [
    "df1.dropna(how='any')"
   ]
  },
  {
   "cell_type": "markdown",
   "metadata": {},
   "source": [
    "결측치를 특정 값으로 채웁니다 :"
   ]
  },
  {
   "cell_type": "code",
   "execution_count": 44,
   "metadata": {},
   "outputs": [
    {
     "data": {
      "text/html": [
       "<div>\n",
       "<style>\n",
       "    .dataframe thead tr:only-child th {\n",
       "        text-align: right;\n",
       "    }\n",
       "\n",
       "    .dataframe thead th {\n",
       "        text-align: left;\n",
       "    }\n",
       "\n",
       "    .dataframe tbody tr th {\n",
       "        vertical-align: top;\n",
       "    }\n",
       "</style>\n",
       "<table border=\"1\" class=\"dataframe\">\n",
       "  <thead>\n",
       "    <tr style=\"text-align: right;\">\n",
       "      <th></th>\n",
       "      <th>A</th>\n",
       "      <th>B</th>\n",
       "      <th>C</th>\n",
       "      <th>D</th>\n",
       "      <th>F</th>\n",
       "      <th>E</th>\n",
       "    </tr>\n",
       "  </thead>\n",
       "  <tbody>\n",
       "    <tr>\n",
       "      <th>2013-01-01</th>\n",
       "      <td>0.000000</td>\n",
       "      <td>0.000000</td>\n",
       "      <td>-0.938536</td>\n",
       "      <td>5</td>\n",
       "      <td>5.0</td>\n",
       "      <td>1.0</td>\n",
       "    </tr>\n",
       "    <tr>\n",
       "      <th>2013-01-02</th>\n",
       "      <td>1.801178</td>\n",
       "      <td>-0.286565</td>\n",
       "      <td>1.033142</td>\n",
       "      <td>5</td>\n",
       "      <td>1.0</td>\n",
       "      <td>1.0</td>\n",
       "    </tr>\n",
       "    <tr>\n",
       "      <th>2013-01-03</th>\n",
       "      <td>-0.578730</td>\n",
       "      <td>0.776866</td>\n",
       "      <td>1.891444</td>\n",
       "      <td>5</td>\n",
       "      <td>2.0</td>\n",
       "      <td>5.0</td>\n",
       "    </tr>\n",
       "    <tr>\n",
       "      <th>2013-01-04</th>\n",
       "      <td>-0.226171</td>\n",
       "      <td>0.410922</td>\n",
       "      <td>0.469082</td>\n",
       "      <td>5</td>\n",
       "      <td>3.0</td>\n",
       "      <td>5.0</td>\n",
       "    </tr>\n",
       "  </tbody>\n",
       "</table>\n",
       "</div>"
      ],
      "text/plain": [
       "                   A         B         C  D    F    E\n",
       "2013-01-01  0.000000  0.000000 -0.938536  5  5.0  1.0\n",
       "2013-01-02  1.801178 -0.286565  1.033142  5  1.0  1.0\n",
       "2013-01-03 -0.578730  0.776866  1.891444  5  2.0  5.0\n",
       "2013-01-04 -0.226171  0.410922  0.469082  5  3.0  5.0"
      ]
     },
     "execution_count": 44,
     "metadata": {},
     "output_type": "execute_result"
    }
   ],
   "source": [
    "df1.fillna(value=5)"
   ]
  },
  {
   "cell_type": "markdown",
   "metadata": {},
   "source": [
    "nan 값이 있는 위치들에 대한 boolean 마스크를 얻으려면"
   ]
  },
  {
   "cell_type": "code",
   "execution_count": 45,
   "metadata": {},
   "outputs": [
    {
     "data": {
      "text/html": [
       "<div>\n",
       "<style>\n",
       "    .dataframe thead tr:only-child th {\n",
       "        text-align: right;\n",
       "    }\n",
       "\n",
       "    .dataframe thead th {\n",
       "        text-align: left;\n",
       "    }\n",
       "\n",
       "    .dataframe tbody tr th {\n",
       "        vertical-align: top;\n",
       "    }\n",
       "</style>\n",
       "<table border=\"1\" class=\"dataframe\">\n",
       "  <thead>\n",
       "    <tr style=\"text-align: right;\">\n",
       "      <th></th>\n",
       "      <th>A</th>\n",
       "      <th>B</th>\n",
       "      <th>C</th>\n",
       "      <th>D</th>\n",
       "      <th>F</th>\n",
       "      <th>E</th>\n",
       "    </tr>\n",
       "  </thead>\n",
       "  <tbody>\n",
       "    <tr>\n",
       "      <th>2013-01-01</th>\n",
       "      <td>False</td>\n",
       "      <td>False</td>\n",
       "      <td>False</td>\n",
       "      <td>False</td>\n",
       "      <td>True</td>\n",
       "      <td>False</td>\n",
       "    </tr>\n",
       "    <tr>\n",
       "      <th>2013-01-02</th>\n",
       "      <td>False</td>\n",
       "      <td>False</td>\n",
       "      <td>False</td>\n",
       "      <td>False</td>\n",
       "      <td>False</td>\n",
       "      <td>False</td>\n",
       "    </tr>\n",
       "    <tr>\n",
       "      <th>2013-01-03</th>\n",
       "      <td>False</td>\n",
       "      <td>False</td>\n",
       "      <td>False</td>\n",
       "      <td>False</td>\n",
       "      <td>False</td>\n",
       "      <td>True</td>\n",
       "    </tr>\n",
       "    <tr>\n",
       "      <th>2013-01-04</th>\n",
       "      <td>False</td>\n",
       "      <td>False</td>\n",
       "      <td>False</td>\n",
       "      <td>False</td>\n",
       "      <td>False</td>\n",
       "      <td>True</td>\n",
       "    </tr>\n",
       "  </tbody>\n",
       "</table>\n",
       "</div>"
      ],
      "text/plain": [
       "                A      B      C      D      F      E\n",
       "2013-01-01  False  False  False  False   True  False\n",
       "2013-01-02  False  False  False  False  False  False\n",
       "2013-01-03  False  False  False  False  False   True\n",
       "2013-01-04  False  False  False  False  False   True"
      ]
     },
     "execution_count": 45,
     "metadata": {},
     "output_type": "execute_result"
    }
   ],
   "source": [
    "pd.isnull(df1)"
   ]
  },
  {
   "cell_type": "markdown",
   "metadata": {},
   "source": [
    "## 조작"
   ]
  },
  {
   "cell_type": "markdown",
   "metadata": {},
   "source": [
    "참조 : <a href=\"https://pandas.pydata.org/pandas-docs/stable/basics.html#basics-binop\">기본 이진 연산 섹션</a>"
   ]
  },
  {
   "cell_type": "markdown",
   "metadata": {},
   "source": [
    "### 통계\n",
    "일반적으로 조작은 누락된 데이터를 제외합니다. \n",
    "<br>기술 통계 예시"
   ]
  },
  {
   "cell_type": "code",
   "execution_count": 46,
   "metadata": {},
   "outputs": [
    {
     "data": {
      "text/plain": [
       "A   -0.353763\n",
       "B   -0.107956\n",
       "C    0.667812\n",
       "D    5.000000\n",
       "F    3.000000\n",
       "dtype: float64"
      ]
     },
     "execution_count": 46,
     "metadata": {},
     "output_type": "execute_result"
    }
   ],
   "source": [
    "df.mean()"
   ]
  },
  {
   "cell_type": "markdown",
   "metadata": {},
   "source": [
    "동일한 작업을 다른 축에서 하고 싶다면"
   ]
  },
  {
   "cell_type": "code",
   "execution_count": 47,
   "metadata": {},
   "outputs": [
    {
     "data": {
      "text/plain": [
       "2013-01-01    1.015366\n",
       "2013-01-02    1.709551\n",
       "2013-01-03    1.817916\n",
       "2013-01-04    1.730767\n",
       "2013-01-05    1.320863\n",
       "2013-01-06    1.855923\n",
       "Freq: D, dtype: float64"
      ]
     },
     "execution_count": 47,
     "metadata": {},
     "output_type": "execute_result"
    }
   ],
   "source": [
    "df.mean(1)"
   ]
  },
  {
   "cell_type": "markdown",
   "metadata": {},
   "source": [
    "차원이 다르고, 값이 비어있는 객체로도 연산은 됩니다. pandas가 지정된 차원을 따라 자동으로 브로드캐스트합니다."
   ]
  },
  {
   "cell_type": "code",
   "execution_count": 48,
   "metadata": {},
   "outputs": [
    {
     "data": {
      "text/plain": [
       "2013-01-01    NaN\n",
       "2013-01-02    NaN\n",
       "2013-01-03    1.0\n",
       "2013-01-04    3.0\n",
       "2013-01-05    5.0\n",
       "2013-01-06    NaN\n",
       "Freq: D, dtype: float64"
      ]
     },
     "execution_count": 48,
     "metadata": {},
     "output_type": "execute_result"
    }
   ],
   "source": [
    "s = pd.Series([1,3,5,np.nan,6,8], index=dates).shift(2)\n",
    "s"
   ]
  },
  {
   "cell_type": "code",
   "execution_count": 49,
   "metadata": {},
   "outputs": [
    {
     "data": {
      "text/html": [
       "<div>\n",
       "<style>\n",
       "    .dataframe thead tr:only-child th {\n",
       "        text-align: right;\n",
       "    }\n",
       "\n",
       "    .dataframe thead th {\n",
       "        text-align: left;\n",
       "    }\n",
       "\n",
       "    .dataframe tbody tr th {\n",
       "        vertical-align: top;\n",
       "    }\n",
       "</style>\n",
       "<table border=\"1\" class=\"dataframe\">\n",
       "  <thead>\n",
       "    <tr style=\"text-align: right;\">\n",
       "      <th></th>\n",
       "      <th>A</th>\n",
       "      <th>B</th>\n",
       "      <th>C</th>\n",
       "      <th>D</th>\n",
       "      <th>F</th>\n",
       "    </tr>\n",
       "  </thead>\n",
       "  <tbody>\n",
       "    <tr>\n",
       "      <th>2013-01-01</th>\n",
       "      <td>NaN</td>\n",
       "      <td>NaN</td>\n",
       "      <td>NaN</td>\n",
       "      <td>NaN</td>\n",
       "      <td>NaN</td>\n",
       "    </tr>\n",
       "    <tr>\n",
       "      <th>2013-01-02</th>\n",
       "      <td>NaN</td>\n",
       "      <td>NaN</td>\n",
       "      <td>NaN</td>\n",
       "      <td>NaN</td>\n",
       "      <td>NaN</td>\n",
       "    </tr>\n",
       "    <tr>\n",
       "      <th>2013-01-03</th>\n",
       "      <td>-1.578730</td>\n",
       "      <td>-0.223134</td>\n",
       "      <td>0.891444</td>\n",
       "      <td>4.0</td>\n",
       "      <td>1.0</td>\n",
       "    </tr>\n",
       "    <tr>\n",
       "      <th>2013-01-04</th>\n",
       "      <td>-3.226171</td>\n",
       "      <td>-2.589078</td>\n",
       "      <td>-2.530918</td>\n",
       "      <td>2.0</td>\n",
       "      <td>0.0</td>\n",
       "    </tr>\n",
       "    <tr>\n",
       "      <th>2013-01-05</th>\n",
       "      <td>-8.041259</td>\n",
       "      <td>-5.665605</td>\n",
       "      <td>-3.688823</td>\n",
       "      <td>0.0</td>\n",
       "      <td>-1.0</td>\n",
       "    </tr>\n",
       "    <tr>\n",
       "      <th>2013-01-06</th>\n",
       "      <td>NaN</td>\n",
       "      <td>NaN</td>\n",
       "      <td>NaN</td>\n",
       "      <td>NaN</td>\n",
       "      <td>NaN</td>\n",
       "    </tr>\n",
       "  </tbody>\n",
       "</table>\n",
       "</div>"
      ],
      "text/plain": [
       "                   A         B         C    D    F\n",
       "2013-01-01       NaN       NaN       NaN  NaN  NaN\n",
       "2013-01-02       NaN       NaN       NaN  NaN  NaN\n",
       "2013-01-03 -1.578730 -0.223134  0.891444  4.0  1.0\n",
       "2013-01-04 -3.226171 -2.589078 -2.530918  2.0  0.0\n",
       "2013-01-05 -8.041259 -5.665605 -3.688823  0.0 -1.0\n",
       "2013-01-06       NaN       NaN       NaN  NaN  NaN"
      ]
     },
     "execution_count": 49,
     "metadata": {},
     "output_type": "execute_result"
    }
   ],
   "source": [
    "df.sub(s, axis='index')"
   ]
  },
  {
   "cell_type": "markdown",
   "metadata": {},
   "source": [
    "### 적용 \n",
    "데이터에 함수 적용"
   ]
  },
  {
   "cell_type": "code",
   "execution_count": 50,
   "metadata": {
    "scrolled": true
   },
   "outputs": [
    {
     "data": {
      "text/html": [
       "<div>\n",
       "<style>\n",
       "    .dataframe thead tr:only-child th {\n",
       "        text-align: right;\n",
       "    }\n",
       "\n",
       "    .dataframe thead th {\n",
       "        text-align: left;\n",
       "    }\n",
       "\n",
       "    .dataframe tbody tr th {\n",
       "        vertical-align: top;\n",
       "    }\n",
       "</style>\n",
       "<table border=\"1\" class=\"dataframe\">\n",
       "  <thead>\n",
       "    <tr style=\"text-align: right;\">\n",
       "      <th></th>\n",
       "      <th>A</th>\n",
       "      <th>B</th>\n",
       "      <th>C</th>\n",
       "      <th>D</th>\n",
       "      <th>F</th>\n",
       "    </tr>\n",
       "  </thead>\n",
       "  <tbody>\n",
       "    <tr>\n",
       "      <th>2013-01-01</th>\n",
       "      <td>0.000000</td>\n",
       "      <td>0.000000</td>\n",
       "      <td>-0.938536</td>\n",
       "      <td>5</td>\n",
       "      <td>NaN</td>\n",
       "    </tr>\n",
       "    <tr>\n",
       "      <th>2013-01-02</th>\n",
       "      <td>1.801178</td>\n",
       "      <td>-0.286565</td>\n",
       "      <td>0.094606</td>\n",
       "      <td>10</td>\n",
       "      <td>1.0</td>\n",
       "    </tr>\n",
       "    <tr>\n",
       "      <th>2013-01-03</th>\n",
       "      <td>1.222448</td>\n",
       "      <td>0.490302</td>\n",
       "      <td>1.986050</td>\n",
       "      <td>15</td>\n",
       "      <td>3.0</td>\n",
       "    </tr>\n",
       "    <tr>\n",
       "      <th>2013-01-04</th>\n",
       "      <td>0.996277</td>\n",
       "      <td>0.901223</td>\n",
       "      <td>2.455133</td>\n",
       "      <td>20</td>\n",
       "      <td>6.0</td>\n",
       "    </tr>\n",
       "    <tr>\n",
       "      <th>2013-01-05</th>\n",
       "      <td>-2.044982</td>\n",
       "      <td>0.235619</td>\n",
       "      <td>3.766309</td>\n",
       "      <td>25</td>\n",
       "      <td>10.0</td>\n",
       "    </tr>\n",
       "    <tr>\n",
       "      <th>2013-01-06</th>\n",
       "      <td>-2.122577</td>\n",
       "      <td>-0.647736</td>\n",
       "      <td>4.006874</td>\n",
       "      <td>30</td>\n",
       "      <td>15.0</td>\n",
       "    </tr>\n",
       "  </tbody>\n",
       "</table>\n",
       "</div>"
      ],
      "text/plain": [
       "                   A         B         C   D     F\n",
       "2013-01-01  0.000000  0.000000 -0.938536   5   NaN\n",
       "2013-01-02  1.801178 -0.286565  0.094606  10   1.0\n",
       "2013-01-03  1.222448  0.490302  1.986050  15   3.0\n",
       "2013-01-04  0.996277  0.901223  2.455133  20   6.0\n",
       "2013-01-05 -2.044982  0.235619  3.766309  25  10.0\n",
       "2013-01-06 -2.122577 -0.647736  4.006874  30  15.0"
      ]
     },
     "execution_count": 50,
     "metadata": {},
     "output_type": "execute_result"
    }
   ],
   "source": [
    "df.apply(np.cumsum)"
   ]
  },
  {
   "cell_type": "code",
   "execution_count": 51,
   "metadata": {},
   "outputs": [
    {
     "data": {
      "text/plain": [
       "A    4.842437\n",
       "B    1.660221\n",
       "C    2.829980\n",
       "D    0.000000\n",
       "F    4.000000\n",
       "dtype: float64"
      ]
     },
     "execution_count": 51,
     "metadata": {},
     "output_type": "execute_result"
    }
   ],
   "source": [
    "df.apply(lambda x: x.max() - x.min())"
   ]
  },
  {
   "cell_type": "markdown",
   "metadata": {},
   "source": [
    "### 히스토그램 작성\n",
    "참조 : <a href=\"https://pandas.pydata.org/pandas-docs/stable/basics.html#basics-discretization\">히스토그램 및 이산형</a>"
   ]
  },
  {
   "cell_type": "code",
   "execution_count": 52,
   "metadata": {},
   "outputs": [
    {
     "data": {
      "text/plain": [
       "0    3\n",
       "1    5\n",
       "2    3\n",
       "3    0\n",
       "4    3\n",
       "5    4\n",
       "6    6\n",
       "7    1\n",
       "8    4\n",
       "9    2\n",
       "dtype: int32"
      ]
     },
     "execution_count": 52,
     "metadata": {},
     "output_type": "execute_result"
    }
   ],
   "source": [
    "s = pd.Series(np.random.randint(0, 7, size=10))\n",
    "s"
   ]
  },
  {
   "cell_type": "code",
   "execution_count": 53,
   "metadata": {},
   "outputs": [
    {
     "data": {
      "text/plain": [
       "3    3\n",
       "4    2\n",
       "6    1\n",
       "5    1\n",
       "2    1\n",
       "1    1\n",
       "0    1\n",
       "dtype: int64"
      ]
     },
     "execution_count": 53,
     "metadata": {},
     "output_type": "execute_result"
    }
   ],
   "source": [
    "s.value_counts()"
   ]
  },
  {
   "cell_type": "markdown",
   "metadata": {},
   "source": [
    "### 문자열 메소드\n",
    "Series에는 str 속성에 문자열 처리 메서드 세트가 있으므로 아래 코드와 같이 배열의 각 요소를 쉽게 조작 할 수 있습니다. str의 패턴 일치는 일반적으로 정규 표현식 사용이 (특정 상황에 항상 정규 표현식을 사용함) default임에 유의하십시오. <a href=\"https://pandas.pydata.org/pandas-docs/stable/text.html#text-string-methods\">벡터화 된 문자열 메서드</a>"
   ]
  },
  {
   "cell_type": "markdown",
   "metadata": {},
   "source": [
    "## 병합\n",
    "### concat\n",
    "pandas는 Series, DataFrame 및 Panel 객체를 조인 / 병합 유형의 작업을 인덱스 및 관계 대수 기능에 대한 다양한 유형의 논리로 쉽게 결합할 수있는 다양한 기능을 제공합니다.\n",
    "\n",
    "참고 : <a href=\"https://pandas.pydata.org/pandas-docs/stable/merging.html#merging\">병합 섹션</a>\n",
    "\n",
    "pandas 개체 연결하기 concat():"
   ]
  },
  {
   "cell_type": "code",
   "execution_count": 54,
   "metadata": {},
   "outputs": [
    {
     "data": {
      "text/html": [
       "<div>\n",
       "<style>\n",
       "    .dataframe thead tr:only-child th {\n",
       "        text-align: right;\n",
       "    }\n",
       "\n",
       "    .dataframe thead th {\n",
       "        text-align: left;\n",
       "    }\n",
       "\n",
       "    .dataframe tbody tr th {\n",
       "        vertical-align: top;\n",
       "    }\n",
       "</style>\n",
       "<table border=\"1\" class=\"dataframe\">\n",
       "  <thead>\n",
       "    <tr style=\"text-align: right;\">\n",
       "      <th></th>\n",
       "      <th>0</th>\n",
       "      <th>1</th>\n",
       "      <th>2</th>\n",
       "      <th>3</th>\n",
       "    </tr>\n",
       "  </thead>\n",
       "  <tbody>\n",
       "    <tr>\n",
       "      <th>0</th>\n",
       "      <td>-0.528354</td>\n",
       "      <td>-0.616663</td>\n",
       "      <td>-0.818853</td>\n",
       "      <td>0.207895</td>\n",
       "    </tr>\n",
       "    <tr>\n",
       "      <th>1</th>\n",
       "      <td>1.023473</td>\n",
       "      <td>0.522106</td>\n",
       "      <td>0.078838</td>\n",
       "      <td>-2.477596</td>\n",
       "    </tr>\n",
       "    <tr>\n",
       "      <th>2</th>\n",
       "      <td>-1.093808</td>\n",
       "      <td>0.681575</td>\n",
       "      <td>1.202144</td>\n",
       "      <td>1.209273</td>\n",
       "    </tr>\n",
       "    <tr>\n",
       "      <th>3</th>\n",
       "      <td>-1.943187</td>\n",
       "      <td>1.286858</td>\n",
       "      <td>-0.348863</td>\n",
       "      <td>0.079987</td>\n",
       "    </tr>\n",
       "    <tr>\n",
       "      <th>4</th>\n",
       "      <td>-0.059212</td>\n",
       "      <td>0.971815</td>\n",
       "      <td>0.698781</td>\n",
       "      <td>-0.630203</td>\n",
       "    </tr>\n",
       "    <tr>\n",
       "      <th>5</th>\n",
       "      <td>1.227435</td>\n",
       "      <td>-1.264738</td>\n",
       "      <td>0.132140</td>\n",
       "      <td>-0.857370</td>\n",
       "    </tr>\n",
       "    <tr>\n",
       "      <th>6</th>\n",
       "      <td>-3.660019</td>\n",
       "      <td>0.889377</td>\n",
       "      <td>-0.274803</td>\n",
       "      <td>-0.598144</td>\n",
       "    </tr>\n",
       "    <tr>\n",
       "      <th>7</th>\n",
       "      <td>-0.376568</td>\n",
       "      <td>1.851074</td>\n",
       "      <td>1.540870</td>\n",
       "      <td>-0.627943</td>\n",
       "    </tr>\n",
       "    <tr>\n",
       "      <th>8</th>\n",
       "      <td>-0.034467</td>\n",
       "      <td>-0.774737</td>\n",
       "      <td>-0.006356</td>\n",
       "      <td>-2.087316</td>\n",
       "    </tr>\n",
       "    <tr>\n",
       "      <th>9</th>\n",
       "      <td>-0.566514</td>\n",
       "      <td>1.561123</td>\n",
       "      <td>0.364504</td>\n",
       "      <td>0.364058</td>\n",
       "    </tr>\n",
       "  </tbody>\n",
       "</table>\n",
       "</div>"
      ],
      "text/plain": [
       "          0         1         2         3\n",
       "0 -0.528354 -0.616663 -0.818853  0.207895\n",
       "1  1.023473  0.522106  0.078838 -2.477596\n",
       "2 -1.093808  0.681575  1.202144  1.209273\n",
       "3 -1.943187  1.286858 -0.348863  0.079987\n",
       "4 -0.059212  0.971815  0.698781 -0.630203\n",
       "5  1.227435 -1.264738  0.132140 -0.857370\n",
       "6 -3.660019  0.889377 -0.274803 -0.598144\n",
       "7 -0.376568  1.851074  1.540870 -0.627943\n",
       "8 -0.034467 -0.774737 -0.006356 -2.087316\n",
       "9 -0.566514  1.561123  0.364504  0.364058"
      ]
     },
     "execution_count": 54,
     "metadata": {},
     "output_type": "execute_result"
    }
   ],
   "source": [
    "df = pd.DataFrame(np.random.randn(10, 4))\n",
    "pieces = [df[:3], df[3:7], df[7:]]\n",
    "pd.concat(pieces)"
   ]
  },
  {
   "cell_type": "markdown",
   "metadata": {},
   "source": [
    "### JOIN\n",
    "SQL 스타일의 병합. <a href=\"https://pandas.pydata.org/pandas-docs/stable/merging.html#merging-join\">데이터베이스 스타일 조인</a>을 참조하십시오."
   ]
  },
  {
   "cell_type": "code",
   "execution_count": 55,
   "metadata": {},
   "outputs": [
    {
     "data": {
      "text/html": [
       "<div>\n",
       "<style>\n",
       "    .dataframe thead tr:only-child th {\n",
       "        text-align: right;\n",
       "    }\n",
       "\n",
       "    .dataframe thead th {\n",
       "        text-align: left;\n",
       "    }\n",
       "\n",
       "    .dataframe tbody tr th {\n",
       "        vertical-align: top;\n",
       "    }\n",
       "</style>\n",
       "<table border=\"1\" class=\"dataframe\">\n",
       "  <thead>\n",
       "    <tr style=\"text-align: right;\">\n",
       "      <th></th>\n",
       "      <th>key</th>\n",
       "      <th>lval</th>\n",
       "      <th>rval</th>\n",
       "    </tr>\n",
       "  </thead>\n",
       "  <tbody>\n",
       "    <tr>\n",
       "      <th>0</th>\n",
       "      <td>foo</td>\n",
       "      <td>1</td>\n",
       "      <td>4</td>\n",
       "    </tr>\n",
       "    <tr>\n",
       "      <th>1</th>\n",
       "      <td>foo</td>\n",
       "      <td>1</td>\n",
       "      <td>5</td>\n",
       "    </tr>\n",
       "    <tr>\n",
       "      <th>2</th>\n",
       "      <td>foo</td>\n",
       "      <td>2</td>\n",
       "      <td>4</td>\n",
       "    </tr>\n",
       "    <tr>\n",
       "      <th>3</th>\n",
       "      <td>foo</td>\n",
       "      <td>2</td>\n",
       "      <td>5</td>\n",
       "    </tr>\n",
       "  </tbody>\n",
       "</table>\n",
       "</div>"
      ],
      "text/plain": [
       "   key  lval  rval\n",
       "0  foo     1     4\n",
       "1  foo     1     5\n",
       "2  foo     2     4\n",
       "3  foo     2     5"
      ]
     },
     "execution_count": 55,
     "metadata": {},
     "output_type": "execute_result"
    }
   ],
   "source": [
    "left = pd.DataFrame({'key': ['foo', 'foo'], 'lval': [1, 2]})\n",
    "right = pd.DataFrame({'key': ['foo', 'foo'], 'rval': [4, 5]})\n",
    "pd.merge(left, right, on='key')"
   ]
  },
  {
   "cell_type": "markdown",
   "metadata": {},
   "source": [
    "주어진 또 다른 예는 다음과 같습니다."
   ]
  },
  {
   "cell_type": "code",
   "execution_count": 56,
   "metadata": {},
   "outputs": [
    {
     "data": {
      "text/html": [
       "<div>\n",
       "<style>\n",
       "    .dataframe thead tr:only-child th {\n",
       "        text-align: right;\n",
       "    }\n",
       "\n",
       "    .dataframe thead th {\n",
       "        text-align: left;\n",
       "    }\n",
       "\n",
       "    .dataframe tbody tr th {\n",
       "        vertical-align: top;\n",
       "    }\n",
       "</style>\n",
       "<table border=\"1\" class=\"dataframe\">\n",
       "  <thead>\n",
       "    <tr style=\"text-align: right;\">\n",
       "      <th></th>\n",
       "      <th>key</th>\n",
       "      <th>lval</th>\n",
       "      <th>rval</th>\n",
       "    </tr>\n",
       "  </thead>\n",
       "  <tbody>\n",
       "    <tr>\n",
       "      <th>0</th>\n",
       "      <td>foo</td>\n",
       "      <td>1</td>\n",
       "      <td>4</td>\n",
       "    </tr>\n",
       "    <tr>\n",
       "      <th>1</th>\n",
       "      <td>bar</td>\n",
       "      <td>2</td>\n",
       "      <td>5</td>\n",
       "    </tr>\n",
       "  </tbody>\n",
       "</table>\n",
       "</div>"
      ],
      "text/plain": [
       "   key  lval  rval\n",
       "0  foo     1     4\n",
       "1  bar     2     5"
      ]
     },
     "execution_count": 56,
     "metadata": {},
     "output_type": "execute_result"
    }
   ],
   "source": [
    "left = pd.DataFrame({'key': ['foo', 'bar'], 'lval': [1, 2]})\n",
    "right = pd.DataFrame({'key': ['foo', 'bar'], 'rval': [4, 5]})\n",
    "pd.merge(left, right, on='key')"
   ]
  },
  {
   "cell_type": "markdown",
   "metadata": {},
   "source": [
    "### 추가\n",
    "데이터 프레임에 행을 추가합니다. <a href=\"https://pandas.pydata.org/pandas-docs/stable/merging.html#merging-concatenation\">추가 정보</a> 보기"
   ]
  },
  {
   "cell_type": "code",
   "execution_count": 57,
   "metadata": {},
   "outputs": [
    {
     "data": {
      "text/html": [
       "<div>\n",
       "<style>\n",
       "    .dataframe thead tr:only-child th {\n",
       "        text-align: right;\n",
       "    }\n",
       "\n",
       "    .dataframe thead th {\n",
       "        text-align: left;\n",
       "    }\n",
       "\n",
       "    .dataframe tbody tr th {\n",
       "        vertical-align: top;\n",
       "    }\n",
       "</style>\n",
       "<table border=\"1\" class=\"dataframe\">\n",
       "  <thead>\n",
       "    <tr style=\"text-align: right;\">\n",
       "      <th></th>\n",
       "      <th>A</th>\n",
       "      <th>B</th>\n",
       "      <th>C</th>\n",
       "      <th>D</th>\n",
       "    </tr>\n",
       "  </thead>\n",
       "  <tbody>\n",
       "    <tr>\n",
       "      <th>0</th>\n",
       "      <td>-0.079914</td>\n",
       "      <td>-0.056717</td>\n",
       "      <td>-0.592348</td>\n",
       "      <td>0.262288</td>\n",
       "    </tr>\n",
       "    <tr>\n",
       "      <th>1</th>\n",
       "      <td>-1.524373</td>\n",
       "      <td>0.789250</td>\n",
       "      <td>-0.923290</td>\n",
       "      <td>0.029465</td>\n",
       "    </tr>\n",
       "    <tr>\n",
       "      <th>2</th>\n",
       "      <td>-0.604292</td>\n",
       "      <td>-1.507223</td>\n",
       "      <td>0.469169</td>\n",
       "      <td>0.222058</td>\n",
       "    </tr>\n",
       "    <tr>\n",
       "      <th>3</th>\n",
       "      <td>0.154394</td>\n",
       "      <td>-0.115023</td>\n",
       "      <td>1.316916</td>\n",
       "      <td>1.214306</td>\n",
       "    </tr>\n",
       "    <tr>\n",
       "      <th>4</th>\n",
       "      <td>1.312484</td>\n",
       "      <td>-0.384297</td>\n",
       "      <td>-0.313137</td>\n",
       "      <td>1.071374</td>\n",
       "    </tr>\n",
       "    <tr>\n",
       "      <th>5</th>\n",
       "      <td>0.377266</td>\n",
       "      <td>1.527992</td>\n",
       "      <td>-0.911776</td>\n",
       "      <td>0.341640</td>\n",
       "    </tr>\n",
       "    <tr>\n",
       "      <th>6</th>\n",
       "      <td>-1.683758</td>\n",
       "      <td>-0.129341</td>\n",
       "      <td>0.382703</td>\n",
       "      <td>0.187963</td>\n",
       "    </tr>\n",
       "    <tr>\n",
       "      <th>7</th>\n",
       "      <td>-1.016155</td>\n",
       "      <td>0.473621</td>\n",
       "      <td>0.290939</td>\n",
       "      <td>-0.607421</td>\n",
       "    </tr>\n",
       "  </tbody>\n",
       "</table>\n",
       "</div>"
      ],
      "text/plain": [
       "          A         B         C         D\n",
       "0 -0.079914 -0.056717 -0.592348  0.262288\n",
       "1 -1.524373  0.789250 -0.923290  0.029465\n",
       "2 -0.604292 -1.507223  0.469169  0.222058\n",
       "3  0.154394 -0.115023  1.316916  1.214306\n",
       "4  1.312484 -0.384297 -0.313137  1.071374\n",
       "5  0.377266  1.527992 -0.911776  0.341640\n",
       "6 -1.683758 -0.129341  0.382703  0.187963\n",
       "7 -1.016155  0.473621  0.290939 -0.607421"
      ]
     },
     "execution_count": 57,
     "metadata": {},
     "output_type": "execute_result"
    }
   ],
   "source": [
    "df = pd.DataFrame(np.random.randn(8, 4), columns=['A','B','C','D'])\n",
    "df"
   ]
  },
  {
   "cell_type": "code",
   "execution_count": 58,
   "metadata": {},
   "outputs": [
    {
     "data": {
      "text/html": [
       "<div>\n",
       "<style>\n",
       "    .dataframe thead tr:only-child th {\n",
       "        text-align: right;\n",
       "    }\n",
       "\n",
       "    .dataframe thead th {\n",
       "        text-align: left;\n",
       "    }\n",
       "\n",
       "    .dataframe tbody tr th {\n",
       "        vertical-align: top;\n",
       "    }\n",
       "</style>\n",
       "<table border=\"1\" class=\"dataframe\">\n",
       "  <thead>\n",
       "    <tr style=\"text-align: right;\">\n",
       "      <th></th>\n",
       "      <th>A</th>\n",
       "      <th>B</th>\n",
       "      <th>C</th>\n",
       "      <th>D</th>\n",
       "    </tr>\n",
       "  </thead>\n",
       "  <tbody>\n",
       "    <tr>\n",
       "      <th>0</th>\n",
       "      <td>-0.079914</td>\n",
       "      <td>-0.056717</td>\n",
       "      <td>-0.592348</td>\n",
       "      <td>0.262288</td>\n",
       "    </tr>\n",
       "    <tr>\n",
       "      <th>1</th>\n",
       "      <td>-1.524373</td>\n",
       "      <td>0.789250</td>\n",
       "      <td>-0.923290</td>\n",
       "      <td>0.029465</td>\n",
       "    </tr>\n",
       "    <tr>\n",
       "      <th>2</th>\n",
       "      <td>-0.604292</td>\n",
       "      <td>-1.507223</td>\n",
       "      <td>0.469169</td>\n",
       "      <td>0.222058</td>\n",
       "    </tr>\n",
       "    <tr>\n",
       "      <th>3</th>\n",
       "      <td>0.154394</td>\n",
       "      <td>-0.115023</td>\n",
       "      <td>1.316916</td>\n",
       "      <td>1.214306</td>\n",
       "    </tr>\n",
       "    <tr>\n",
       "      <th>4</th>\n",
       "      <td>1.312484</td>\n",
       "      <td>-0.384297</td>\n",
       "      <td>-0.313137</td>\n",
       "      <td>1.071374</td>\n",
       "    </tr>\n",
       "    <tr>\n",
       "      <th>5</th>\n",
       "      <td>0.377266</td>\n",
       "      <td>1.527992</td>\n",
       "      <td>-0.911776</td>\n",
       "      <td>0.341640</td>\n",
       "    </tr>\n",
       "    <tr>\n",
       "      <th>6</th>\n",
       "      <td>-1.683758</td>\n",
       "      <td>-0.129341</td>\n",
       "      <td>0.382703</td>\n",
       "      <td>0.187963</td>\n",
       "    </tr>\n",
       "    <tr>\n",
       "      <th>7</th>\n",
       "      <td>-1.016155</td>\n",
       "      <td>0.473621</td>\n",
       "      <td>0.290939</td>\n",
       "      <td>-0.607421</td>\n",
       "    </tr>\n",
       "    <tr>\n",
       "      <th>8</th>\n",
       "      <td>0.154394</td>\n",
       "      <td>-0.115023</td>\n",
       "      <td>1.316916</td>\n",
       "      <td>1.214306</td>\n",
       "    </tr>\n",
       "  </tbody>\n",
       "</table>\n",
       "</div>"
      ],
      "text/plain": [
       "          A         B         C         D\n",
       "0 -0.079914 -0.056717 -0.592348  0.262288\n",
       "1 -1.524373  0.789250 -0.923290  0.029465\n",
       "2 -0.604292 -1.507223  0.469169  0.222058\n",
       "3  0.154394 -0.115023  1.316916  1.214306\n",
       "4  1.312484 -0.384297 -0.313137  1.071374\n",
       "5  0.377266  1.527992 -0.911776  0.341640\n",
       "6 -1.683758 -0.129341  0.382703  0.187963\n",
       "7 -1.016155  0.473621  0.290939 -0.607421\n",
       "8  0.154394 -0.115023  1.316916  1.214306"
      ]
     },
     "execution_count": 58,
     "metadata": {},
     "output_type": "execute_result"
    }
   ],
   "source": [
    "s = df.iloc[3]\n",
    "df.append(s, ignore_index=True)"
   ]
  },
  {
   "cell_type": "markdown",
   "metadata": {},
   "source": [
    "### 그룹핑\n",
    "\"그룹화\"는 다음 단계 중 하나 이상을 포함하는 프로세스를 나타냅니다.\n",
    "\n",
    "* 몇 가지 기준에 따라 그룹으로 데이터 __분할__\n",
    "* 독립적으로 각 그룹에 기능 __적용__\n",
    "* 결과를 데이터 구조로 __결합__\n",
    "\n",
    "참고: <a href=\"https://pandas.pydata.org/pandas-docs/stable/groupby.html#groupby\">그룹화 섹션</a>"
   ]
  },
  {
   "cell_type": "code",
   "execution_count": 59,
   "metadata": {},
   "outputs": [
    {
     "data": {
      "text/html": [
       "<div>\n",
       "<style>\n",
       "    .dataframe thead tr:only-child th {\n",
       "        text-align: right;\n",
       "    }\n",
       "\n",
       "    .dataframe thead th {\n",
       "        text-align: left;\n",
       "    }\n",
       "\n",
       "    .dataframe tbody tr th {\n",
       "        vertical-align: top;\n",
       "    }\n",
       "</style>\n",
       "<table border=\"1\" class=\"dataframe\">\n",
       "  <thead>\n",
       "    <tr style=\"text-align: right;\">\n",
       "      <th></th>\n",
       "      <th>A</th>\n",
       "      <th>B</th>\n",
       "      <th>C</th>\n",
       "      <th>D</th>\n",
       "    </tr>\n",
       "  </thead>\n",
       "  <tbody>\n",
       "    <tr>\n",
       "      <th>0</th>\n",
       "      <td>foo</td>\n",
       "      <td>one</td>\n",
       "      <td>-0.311794</td>\n",
       "      <td>-1.964857</td>\n",
       "    </tr>\n",
       "    <tr>\n",
       "      <th>1</th>\n",
       "      <td>bar</td>\n",
       "      <td>one</td>\n",
       "      <td>1.576009</td>\n",
       "      <td>-0.516516</td>\n",
       "    </tr>\n",
       "    <tr>\n",
       "      <th>2</th>\n",
       "      <td>foo</td>\n",
       "      <td>two</td>\n",
       "      <td>-0.961060</td>\n",
       "      <td>0.678606</td>\n",
       "    </tr>\n",
       "    <tr>\n",
       "      <th>3</th>\n",
       "      <td>bar</td>\n",
       "      <td>three</td>\n",
       "      <td>0.278701</td>\n",
       "      <td>-0.217170</td>\n",
       "    </tr>\n",
       "    <tr>\n",
       "      <th>4</th>\n",
       "      <td>foo</td>\n",
       "      <td>two</td>\n",
       "      <td>1.133641</td>\n",
       "      <td>-0.528734</td>\n",
       "    </tr>\n",
       "    <tr>\n",
       "      <th>5</th>\n",
       "      <td>bar</td>\n",
       "      <td>two</td>\n",
       "      <td>0.233522</td>\n",
       "      <td>-1.459642</td>\n",
       "    </tr>\n",
       "    <tr>\n",
       "      <th>6</th>\n",
       "      <td>foo</td>\n",
       "      <td>one</td>\n",
       "      <td>1.619282</td>\n",
       "      <td>0.931328</td>\n",
       "    </tr>\n",
       "    <tr>\n",
       "      <th>7</th>\n",
       "      <td>foo</td>\n",
       "      <td>three</td>\n",
       "      <td>-2.427456</td>\n",
       "      <td>-0.915608</td>\n",
       "    </tr>\n",
       "  </tbody>\n",
       "</table>\n",
       "</div>"
      ],
      "text/plain": [
       "     A      B         C         D\n",
       "0  foo    one -0.311794 -1.964857\n",
       "1  bar    one  1.576009 -0.516516\n",
       "2  foo    two -0.961060  0.678606\n",
       "3  bar  three  0.278701 -0.217170\n",
       "4  foo    two  1.133641 -0.528734\n",
       "5  bar    two  0.233522 -1.459642\n",
       "6  foo    one  1.619282  0.931328\n",
       "7  foo  three -2.427456 -0.915608"
      ]
     },
     "execution_count": 59,
     "metadata": {},
     "output_type": "execute_result"
    }
   ],
   "source": [
    "df = pd.DataFrame({'A' : ['foo', 'bar', 'foo', 'bar',\n",
    "                          'foo', 'bar', 'foo', 'foo'],\n",
    "                   'B' : ['one', 'one', 'two', 'three',\n",
    "                          'two', 'two', 'one', 'three'],\n",
    "                   'C' : np.random.randn(8),\n",
    "                   'D' : np.random.randn(8)})\n",
    "df"
   ]
  },
  {
   "cell_type": "markdown",
   "metadata": {},
   "source": [
    "그룹화 한 다음 sum결과 그룹에 기능을 적용합니다."
   ]
  },
  {
   "cell_type": "code",
   "execution_count": 60,
   "metadata": {},
   "outputs": [
    {
     "data": {
      "text/html": [
       "<div>\n",
       "<style>\n",
       "    .dataframe thead tr:only-child th {\n",
       "        text-align: right;\n",
       "    }\n",
       "\n",
       "    .dataframe thead th {\n",
       "        text-align: left;\n",
       "    }\n",
       "\n",
       "    .dataframe tbody tr th {\n",
       "        vertical-align: top;\n",
       "    }\n",
       "</style>\n",
       "<table border=\"1\" class=\"dataframe\">\n",
       "  <thead>\n",
       "    <tr style=\"text-align: right;\">\n",
       "      <th></th>\n",
       "      <th>C</th>\n",
       "      <th>D</th>\n",
       "    </tr>\n",
       "    <tr>\n",
       "      <th>A</th>\n",
       "      <th></th>\n",
       "      <th></th>\n",
       "    </tr>\n",
       "  </thead>\n",
       "  <tbody>\n",
       "    <tr>\n",
       "      <th>bar</th>\n",
       "      <td>2.088231</td>\n",
       "      <td>-2.193328</td>\n",
       "    </tr>\n",
       "    <tr>\n",
       "      <th>foo</th>\n",
       "      <td>-0.947386</td>\n",
       "      <td>-1.799264</td>\n",
       "    </tr>\n",
       "  </tbody>\n",
       "</table>\n",
       "</div>"
      ],
      "text/plain": [
       "            C         D\n",
       "A                      \n",
       "bar  2.088231 -2.193328\n",
       "foo -0.947386 -1.799264"
      ]
     },
     "execution_count": 60,
     "metadata": {},
     "output_type": "execute_result"
    }
   ],
   "source": [
    "df.groupby('A').sum()"
   ]
  },
  {
   "cell_type": "markdown",
   "metadata": {},
   "source": [
    "여러 열을 기준으로 그룹화하면 계층적 색인이 만들어지며 이 색인을 사용하여 함수를 적용합니다."
   ]
  },
  {
   "cell_type": "code",
   "execution_count": 61,
   "metadata": {},
   "outputs": [
    {
     "data": {
      "text/html": [
       "<div>\n",
       "<style>\n",
       "    .dataframe thead tr:only-child th {\n",
       "        text-align: right;\n",
       "    }\n",
       "\n",
       "    .dataframe thead th {\n",
       "        text-align: left;\n",
       "    }\n",
       "\n",
       "    .dataframe tbody tr th {\n",
       "        vertical-align: top;\n",
       "    }\n",
       "</style>\n",
       "<table border=\"1\" class=\"dataframe\">\n",
       "  <thead>\n",
       "    <tr style=\"text-align: right;\">\n",
       "      <th></th>\n",
       "      <th></th>\n",
       "      <th>C</th>\n",
       "      <th>D</th>\n",
       "    </tr>\n",
       "    <tr>\n",
       "      <th>A</th>\n",
       "      <th>B</th>\n",
       "      <th></th>\n",
       "      <th></th>\n",
       "    </tr>\n",
       "  </thead>\n",
       "  <tbody>\n",
       "    <tr>\n",
       "      <th rowspan=\"3\" valign=\"top\">bar</th>\n",
       "      <th>one</th>\n",
       "      <td>1.576009</td>\n",
       "      <td>-0.516516</td>\n",
       "    </tr>\n",
       "    <tr>\n",
       "      <th>three</th>\n",
       "      <td>0.278701</td>\n",
       "      <td>-0.217170</td>\n",
       "    </tr>\n",
       "    <tr>\n",
       "      <th>two</th>\n",
       "      <td>0.233522</td>\n",
       "      <td>-1.459642</td>\n",
       "    </tr>\n",
       "    <tr>\n",
       "      <th rowspan=\"3\" valign=\"top\">foo</th>\n",
       "      <th>one</th>\n",
       "      <td>1.307488</td>\n",
       "      <td>-1.033529</td>\n",
       "    </tr>\n",
       "    <tr>\n",
       "      <th>three</th>\n",
       "      <td>-2.427456</td>\n",
       "      <td>-0.915608</td>\n",
       "    </tr>\n",
       "    <tr>\n",
       "      <th>two</th>\n",
       "      <td>0.172581</td>\n",
       "      <td>0.149873</td>\n",
       "    </tr>\n",
       "  </tbody>\n",
       "</table>\n",
       "</div>"
      ],
      "text/plain": [
       "                  C         D\n",
       "A   B                        \n",
       "bar one    1.576009 -0.516516\n",
       "    three  0.278701 -0.217170\n",
       "    two    0.233522 -1.459642\n",
       "foo one    1.307488 -1.033529\n",
       "    three -2.427456 -0.915608\n",
       "    two    0.172581  0.149873"
      ]
     },
     "execution_count": 61,
     "metadata": {},
     "output_type": "execute_result"
    }
   ],
   "source": [
    "df.groupby(['A','B']).sum()"
   ]
  },
  {
   "cell_type": "markdown",
   "metadata": {},
   "source": [
    "## 재구성하기\n",
    "<a href=\"https://pandas.pydata.org/pandas-docs/stable/advanced.html#advanced-hierarchical\">계층적 인덱싱</a> 및 <a href=\"https://pandas.pydata.org/pandas-docs/stable/reshaping.html#reshaping-stacking\">Reshaping</a>에 대한 섹션을 참조하십시오 .\n",
    "### 스택"
   ]
  },
  {
   "cell_type": "code",
   "execution_count": 62,
   "metadata": {},
   "outputs": [
    {
     "data": {
      "text/html": [
       "<div>\n",
       "<style>\n",
       "    .dataframe thead tr:only-child th {\n",
       "        text-align: right;\n",
       "    }\n",
       "\n",
       "    .dataframe thead th {\n",
       "        text-align: left;\n",
       "    }\n",
       "\n",
       "    .dataframe tbody tr th {\n",
       "        vertical-align: top;\n",
       "    }\n",
       "</style>\n",
       "<table border=\"1\" class=\"dataframe\">\n",
       "  <thead>\n",
       "    <tr style=\"text-align: right;\">\n",
       "      <th></th>\n",
       "      <th></th>\n",
       "      <th>A</th>\n",
       "      <th>B</th>\n",
       "    </tr>\n",
       "    <tr>\n",
       "      <th>first</th>\n",
       "      <th>second</th>\n",
       "      <th></th>\n",
       "      <th></th>\n",
       "    </tr>\n",
       "  </thead>\n",
       "  <tbody>\n",
       "    <tr>\n",
       "      <th rowspan=\"2\" valign=\"top\">bar</th>\n",
       "      <th>one</th>\n",
       "      <td>-0.994272</td>\n",
       "      <td>0.057130</td>\n",
       "    </tr>\n",
       "    <tr>\n",
       "      <th>two</th>\n",
       "      <td>0.115542</td>\n",
       "      <td>-0.076363</td>\n",
       "    </tr>\n",
       "    <tr>\n",
       "      <th rowspan=\"2\" valign=\"top\">baz</th>\n",
       "      <th>one</th>\n",
       "      <td>-1.273527</td>\n",
       "      <td>0.031276</td>\n",
       "    </tr>\n",
       "    <tr>\n",
       "      <th>two</th>\n",
       "      <td>-0.639882</td>\n",
       "      <td>0.644748</td>\n",
       "    </tr>\n",
       "  </tbody>\n",
       "</table>\n",
       "</div>"
      ],
      "text/plain": [
       "                     A         B\n",
       "first second                    \n",
       "bar   one    -0.994272  0.057130\n",
       "      two     0.115542 -0.076363\n",
       "baz   one    -1.273527  0.031276\n",
       "      two    -0.639882  0.644748"
      ]
     },
     "execution_count": 62,
     "metadata": {},
     "output_type": "execute_result"
    }
   ],
   "source": [
    "tuples = list(zip(*[['bar', 'bar', 'baz', 'baz',\n",
    "                     'foo', 'foo', 'qux', 'qux'],\n",
    "                    ['one', 'two', 'one', 'two',\n",
    "                     'one', 'two', 'one', 'two']]))\n",
    "\n",
    "index = pd.MultiIndex.from_tuples(tuples, names=['first', 'second'])\n",
    "df = pd.DataFrame(np.random.randn(8, 2), index=index, columns=['A', 'B'])\n",
    "df2 = df[:4]\n",
    "df2"
   ]
  },
  {
   "cell_type": "markdown",
   "metadata": {},
   "source": [
    "stack() 메소드는 DataFrame 컬럼의 레벨을 \"압축\"합니다."
   ]
  },
  {
   "cell_type": "code",
   "execution_count": 63,
   "metadata": {},
   "outputs": [
    {
     "data": {
      "text/plain": [
       "first  second   \n",
       "bar    one     A   -0.994272\n",
       "               B    0.057130\n",
       "       two     A    0.115542\n",
       "               B   -0.076363\n",
       "baz    one     A   -1.273527\n",
       "               B    0.031276\n",
       "       two     A   -0.639882\n",
       "               B    0.644748\n",
       "dtype: float64"
      ]
     },
     "execution_count": 63,
     "metadata": {},
     "output_type": "execute_result"
    }
   ],
   "source": [
    "stacked = df2.stack()\n",
    "stacked"
   ]
  },
  {
   "cell_type": "markdown",
   "metadata": {},
   "source": [
    "(MultiIndex를 인덱스로 갖는) \"스택된\" DataFrame 또는 Series에서, stack()의 역동작은 unstack() 입니다. 이는 기본으로 마지막 레벨을 unstack 합니다.:"
   ]
  },
  {
   "cell_type": "code",
   "execution_count": 64,
   "metadata": {},
   "outputs": [
    {
     "data": {
      "text/html": [
       "<div>\n",
       "<style>\n",
       "    .dataframe thead tr:only-child th {\n",
       "        text-align: right;\n",
       "    }\n",
       "\n",
       "    .dataframe thead th {\n",
       "        text-align: left;\n",
       "    }\n",
       "\n",
       "    .dataframe tbody tr th {\n",
       "        vertical-align: top;\n",
       "    }\n",
       "</style>\n",
       "<table border=\"1\" class=\"dataframe\">\n",
       "  <thead>\n",
       "    <tr style=\"text-align: right;\">\n",
       "      <th></th>\n",
       "      <th></th>\n",
       "      <th>A</th>\n",
       "      <th>B</th>\n",
       "    </tr>\n",
       "    <tr>\n",
       "      <th>first</th>\n",
       "      <th>second</th>\n",
       "      <th></th>\n",
       "      <th></th>\n",
       "    </tr>\n",
       "  </thead>\n",
       "  <tbody>\n",
       "    <tr>\n",
       "      <th rowspan=\"2\" valign=\"top\">bar</th>\n",
       "      <th>one</th>\n",
       "      <td>-0.994272</td>\n",
       "      <td>0.057130</td>\n",
       "    </tr>\n",
       "    <tr>\n",
       "      <th>two</th>\n",
       "      <td>0.115542</td>\n",
       "      <td>-0.076363</td>\n",
       "    </tr>\n",
       "    <tr>\n",
       "      <th rowspan=\"2\" valign=\"top\">baz</th>\n",
       "      <th>one</th>\n",
       "      <td>-1.273527</td>\n",
       "      <td>0.031276</td>\n",
       "    </tr>\n",
       "    <tr>\n",
       "      <th>two</th>\n",
       "      <td>-0.639882</td>\n",
       "      <td>0.644748</td>\n",
       "    </tr>\n",
       "  </tbody>\n",
       "</table>\n",
       "</div>"
      ],
      "text/plain": [
       "                     A         B\n",
       "first second                    \n",
       "bar   one    -0.994272  0.057130\n",
       "      two     0.115542 -0.076363\n",
       "baz   one    -1.273527  0.031276\n",
       "      two    -0.639882  0.644748"
      ]
     },
     "execution_count": 64,
     "metadata": {},
     "output_type": "execute_result"
    }
   ],
   "source": [
    "stacked.unstack()"
   ]
  },
  {
   "cell_type": "code",
   "execution_count": 65,
   "metadata": {},
   "outputs": [
    {
     "data": {
      "text/html": [
       "<div>\n",
       "<style>\n",
       "    .dataframe thead tr:only-child th {\n",
       "        text-align: right;\n",
       "    }\n",
       "\n",
       "    .dataframe thead th {\n",
       "        text-align: left;\n",
       "    }\n",
       "\n",
       "    .dataframe tbody tr th {\n",
       "        vertical-align: top;\n",
       "    }\n",
       "</style>\n",
       "<table border=\"1\" class=\"dataframe\">\n",
       "  <thead>\n",
       "    <tr style=\"text-align: right;\">\n",
       "      <th></th>\n",
       "      <th>second</th>\n",
       "      <th>one</th>\n",
       "      <th>two</th>\n",
       "    </tr>\n",
       "    <tr>\n",
       "      <th>first</th>\n",
       "      <th></th>\n",
       "      <th></th>\n",
       "      <th></th>\n",
       "    </tr>\n",
       "  </thead>\n",
       "  <tbody>\n",
       "    <tr>\n",
       "      <th rowspan=\"2\" valign=\"top\">bar</th>\n",
       "      <th>A</th>\n",
       "      <td>-0.994272</td>\n",
       "      <td>0.115542</td>\n",
       "    </tr>\n",
       "    <tr>\n",
       "      <th>B</th>\n",
       "      <td>0.057130</td>\n",
       "      <td>-0.076363</td>\n",
       "    </tr>\n",
       "    <tr>\n",
       "      <th rowspan=\"2\" valign=\"top\">baz</th>\n",
       "      <th>A</th>\n",
       "      <td>-1.273527</td>\n",
       "      <td>-0.639882</td>\n",
       "    </tr>\n",
       "    <tr>\n",
       "      <th>B</th>\n",
       "      <td>0.031276</td>\n",
       "      <td>0.644748</td>\n",
       "    </tr>\n",
       "  </tbody>\n",
       "</table>\n",
       "</div>"
      ],
      "text/plain": [
       "second        one       two\n",
       "first                      \n",
       "bar   A -0.994272  0.115542\n",
       "      B  0.057130 -0.076363\n",
       "baz   A -1.273527 -0.639882\n",
       "      B  0.031276  0.644748"
      ]
     },
     "execution_count": 65,
     "metadata": {},
     "output_type": "execute_result"
    }
   ],
   "source": [
    "stacked.unstack(1)"
   ]
  },
  {
   "cell_type": "code",
   "execution_count": 66,
   "metadata": {},
   "outputs": [
    {
     "data": {
      "text/html": [
       "<div>\n",
       "<style>\n",
       "    .dataframe thead tr:only-child th {\n",
       "        text-align: right;\n",
       "    }\n",
       "\n",
       "    .dataframe thead th {\n",
       "        text-align: left;\n",
       "    }\n",
       "\n",
       "    .dataframe tbody tr th {\n",
       "        vertical-align: top;\n",
       "    }\n",
       "</style>\n",
       "<table border=\"1\" class=\"dataframe\">\n",
       "  <thead>\n",
       "    <tr style=\"text-align: right;\">\n",
       "      <th></th>\n",
       "      <th>first</th>\n",
       "      <th>bar</th>\n",
       "      <th>baz</th>\n",
       "    </tr>\n",
       "    <tr>\n",
       "      <th>second</th>\n",
       "      <th></th>\n",
       "      <th></th>\n",
       "      <th></th>\n",
       "    </tr>\n",
       "  </thead>\n",
       "  <tbody>\n",
       "    <tr>\n",
       "      <th rowspan=\"2\" valign=\"top\">one</th>\n",
       "      <th>A</th>\n",
       "      <td>-0.994272</td>\n",
       "      <td>-1.273527</td>\n",
       "    </tr>\n",
       "    <tr>\n",
       "      <th>B</th>\n",
       "      <td>0.057130</td>\n",
       "      <td>0.031276</td>\n",
       "    </tr>\n",
       "    <tr>\n",
       "      <th rowspan=\"2\" valign=\"top\">two</th>\n",
       "      <th>A</th>\n",
       "      <td>0.115542</td>\n",
       "      <td>-0.639882</td>\n",
       "    </tr>\n",
       "    <tr>\n",
       "      <th>B</th>\n",
       "      <td>-0.076363</td>\n",
       "      <td>0.644748</td>\n",
       "    </tr>\n",
       "  </tbody>\n",
       "</table>\n",
       "</div>"
      ],
      "text/plain": [
       "first          bar       baz\n",
       "second                      \n",
       "one    A -0.994272 -1.273527\n",
       "       B  0.057130  0.031276\n",
       "two    A  0.115542 -0.639882\n",
       "       B -0.076363  0.644748"
      ]
     },
     "execution_count": 66,
     "metadata": {},
     "output_type": "execute_result"
    }
   ],
   "source": [
    "stacked.unstack(0)"
   ]
  },
  {
   "cell_type": "markdown",
   "metadata": {},
   "source": [
    "### 피벗 테이블\n",
    "<a href=\"https://pandas.pydata.org/pandas-docs/stable/reshaping.html#reshaping-pivot\">피벗 테이블 섹션</a>을 참조하십시오 ."
   ]
  },
  {
   "cell_type": "code",
   "execution_count": 67,
   "metadata": {},
   "outputs": [
    {
     "data": {
      "text/html": [
       "<div>\n",
       "<style>\n",
       "    .dataframe thead tr:only-child th {\n",
       "        text-align: right;\n",
       "    }\n",
       "\n",
       "    .dataframe thead th {\n",
       "        text-align: left;\n",
       "    }\n",
       "\n",
       "    .dataframe tbody tr th {\n",
       "        vertical-align: top;\n",
       "    }\n",
       "</style>\n",
       "<table border=\"1\" class=\"dataframe\">\n",
       "  <thead>\n",
       "    <tr style=\"text-align: right;\">\n",
       "      <th></th>\n",
       "      <th>A</th>\n",
       "      <th>B</th>\n",
       "      <th>C</th>\n",
       "      <th>D</th>\n",
       "      <th>E</th>\n",
       "    </tr>\n",
       "  </thead>\n",
       "  <tbody>\n",
       "    <tr>\n",
       "      <th>0</th>\n",
       "      <td>one</td>\n",
       "      <td>A</td>\n",
       "      <td>foo</td>\n",
       "      <td>-0.162223</td>\n",
       "      <td>-0.652810</td>\n",
       "    </tr>\n",
       "    <tr>\n",
       "      <th>1</th>\n",
       "      <td>one</td>\n",
       "      <td>B</td>\n",
       "      <td>foo</td>\n",
       "      <td>0.319547</td>\n",
       "      <td>0.042601</td>\n",
       "    </tr>\n",
       "    <tr>\n",
       "      <th>2</th>\n",
       "      <td>two</td>\n",
       "      <td>C</td>\n",
       "      <td>foo</td>\n",
       "      <td>-0.075388</td>\n",
       "      <td>-0.651058</td>\n",
       "    </tr>\n",
       "    <tr>\n",
       "      <th>3</th>\n",
       "      <td>three</td>\n",
       "      <td>A</td>\n",
       "      <td>bar</td>\n",
       "      <td>0.919022</td>\n",
       "      <td>-1.498175</td>\n",
       "    </tr>\n",
       "    <tr>\n",
       "      <th>4</th>\n",
       "      <td>one</td>\n",
       "      <td>B</td>\n",
       "      <td>bar</td>\n",
       "      <td>-0.672710</td>\n",
       "      <td>1.392304</td>\n",
       "    </tr>\n",
       "    <tr>\n",
       "      <th>5</th>\n",
       "      <td>one</td>\n",
       "      <td>C</td>\n",
       "      <td>bar</td>\n",
       "      <td>1.316809</td>\n",
       "      <td>0.264672</td>\n",
       "    </tr>\n",
       "    <tr>\n",
       "      <th>6</th>\n",
       "      <td>two</td>\n",
       "      <td>A</td>\n",
       "      <td>foo</td>\n",
       "      <td>0.052272</td>\n",
       "      <td>0.670914</td>\n",
       "    </tr>\n",
       "    <tr>\n",
       "      <th>7</th>\n",
       "      <td>three</td>\n",
       "      <td>B</td>\n",
       "      <td>foo</td>\n",
       "      <td>0.147484</td>\n",
       "      <td>0.481988</td>\n",
       "    </tr>\n",
       "    <tr>\n",
       "      <th>8</th>\n",
       "      <td>one</td>\n",
       "      <td>C</td>\n",
       "      <td>foo</td>\n",
       "      <td>0.667290</td>\n",
       "      <td>1.473794</td>\n",
       "    </tr>\n",
       "    <tr>\n",
       "      <th>9</th>\n",
       "      <td>one</td>\n",
       "      <td>A</td>\n",
       "      <td>bar</td>\n",
       "      <td>0.651496</td>\n",
       "      <td>-0.201024</td>\n",
       "    </tr>\n",
       "    <tr>\n",
       "      <th>10</th>\n",
       "      <td>two</td>\n",
       "      <td>B</td>\n",
       "      <td>bar</td>\n",
       "      <td>-0.027220</td>\n",
       "      <td>0.763059</td>\n",
       "    </tr>\n",
       "    <tr>\n",
       "      <th>11</th>\n",
       "      <td>three</td>\n",
       "      <td>C</td>\n",
       "      <td>bar</td>\n",
       "      <td>-1.487673</td>\n",
       "      <td>0.411406</td>\n",
       "    </tr>\n",
       "  </tbody>\n",
       "</table>\n",
       "</div>"
      ],
      "text/plain": [
       "        A  B    C         D         E\n",
       "0     one  A  foo -0.162223 -0.652810\n",
       "1     one  B  foo  0.319547  0.042601\n",
       "2     two  C  foo -0.075388 -0.651058\n",
       "3   three  A  bar  0.919022 -1.498175\n",
       "4     one  B  bar -0.672710  1.392304\n",
       "5     one  C  bar  1.316809  0.264672\n",
       "6     two  A  foo  0.052272  0.670914\n",
       "7   three  B  foo  0.147484  0.481988\n",
       "8     one  C  foo  0.667290  1.473794\n",
       "9     one  A  bar  0.651496 -0.201024\n",
       "10    two  B  bar -0.027220  0.763059\n",
       "11  three  C  bar -1.487673  0.411406"
      ]
     },
     "execution_count": 67,
     "metadata": {},
     "output_type": "execute_result"
    }
   ],
   "source": [
    "df = pd.DataFrame({'A' : ['one', 'one', 'two', 'three'] * 3,\n",
    "                   'B' : ['A', 'B', 'C'] * 4,\n",
    "                   'C' : ['foo', 'foo', 'foo', 'bar', 'bar', 'bar'] * 2,\n",
    "                   'D' : np.random.randn(12),\n",
    "                   'E' : np.random.randn(12)})\n",
    "df"
   ]
  },
  {
   "cell_type": "markdown",
   "metadata": {},
   "source": [
    "이 데이터에서 피벗 테이블을 매우 쉽게 생성 할 수 있습니다."
   ]
  },
  {
   "cell_type": "code",
   "execution_count": 68,
   "metadata": {},
   "outputs": [
    {
     "data": {
      "text/html": [
       "<div>\n",
       "<style>\n",
       "    .dataframe thead tr:only-child th {\n",
       "        text-align: right;\n",
       "    }\n",
       "\n",
       "    .dataframe thead th {\n",
       "        text-align: left;\n",
       "    }\n",
       "\n",
       "    .dataframe tbody tr th {\n",
       "        vertical-align: top;\n",
       "    }\n",
       "</style>\n",
       "<table border=\"1\" class=\"dataframe\">\n",
       "  <thead>\n",
       "    <tr style=\"text-align: right;\">\n",
       "      <th></th>\n",
       "      <th>C</th>\n",
       "      <th>bar</th>\n",
       "      <th>foo</th>\n",
       "    </tr>\n",
       "    <tr>\n",
       "      <th>A</th>\n",
       "      <th>B</th>\n",
       "      <th></th>\n",
       "      <th></th>\n",
       "    </tr>\n",
       "  </thead>\n",
       "  <tbody>\n",
       "    <tr>\n",
       "      <th rowspan=\"3\" valign=\"top\">one</th>\n",
       "      <th>A</th>\n",
       "      <td>0.651496</td>\n",
       "      <td>-0.162223</td>\n",
       "    </tr>\n",
       "    <tr>\n",
       "      <th>B</th>\n",
       "      <td>-0.672710</td>\n",
       "      <td>0.319547</td>\n",
       "    </tr>\n",
       "    <tr>\n",
       "      <th>C</th>\n",
       "      <td>1.316809</td>\n",
       "      <td>0.667290</td>\n",
       "    </tr>\n",
       "    <tr>\n",
       "      <th rowspan=\"3\" valign=\"top\">three</th>\n",
       "      <th>A</th>\n",
       "      <td>0.919022</td>\n",
       "      <td>NaN</td>\n",
       "    </tr>\n",
       "    <tr>\n",
       "      <th>B</th>\n",
       "      <td>NaN</td>\n",
       "      <td>0.147484</td>\n",
       "    </tr>\n",
       "    <tr>\n",
       "      <th>C</th>\n",
       "      <td>-1.487673</td>\n",
       "      <td>NaN</td>\n",
       "    </tr>\n",
       "    <tr>\n",
       "      <th rowspan=\"3\" valign=\"top\">two</th>\n",
       "      <th>A</th>\n",
       "      <td>NaN</td>\n",
       "      <td>0.052272</td>\n",
       "    </tr>\n",
       "    <tr>\n",
       "      <th>B</th>\n",
       "      <td>-0.027220</td>\n",
       "      <td>NaN</td>\n",
       "    </tr>\n",
       "    <tr>\n",
       "      <th>C</th>\n",
       "      <td>NaN</td>\n",
       "      <td>-0.075388</td>\n",
       "    </tr>\n",
       "  </tbody>\n",
       "</table>\n",
       "</div>"
      ],
      "text/plain": [
       "C             bar       foo\n",
       "A     B                    \n",
       "one   A  0.651496 -0.162223\n",
       "      B -0.672710  0.319547\n",
       "      C  1.316809  0.667290\n",
       "three A  0.919022       NaN\n",
       "      B       NaN  0.147484\n",
       "      C -1.487673       NaN\n",
       "two   A       NaN  0.052272\n",
       "      B -0.027220       NaN\n",
       "      C       NaN -0.075388"
      ]
     },
     "execution_count": 68,
     "metadata": {},
     "output_type": "execute_result"
    }
   ],
   "source": [
    "pd.pivot_table(df, values='D', index=['A', 'B'], columns=['C'])"
   ]
  },
  {
   "cell_type": "markdown",
   "metadata": {},
   "source": [
    "### 시계열 \n",
    "pandas는 주파수 변환 중에 재샘플링 작업을 수행하기 위한 간단하고 강력하며 효율적인 기능을 제공합니다. (예 : 두번째 데이터를 5분단위 데이터로 변환). 이는 재무 애플리케이션에서 매우 일반적이지만 이에 국한되지 않습니다. <a href=\"https://pandas.pydata.org/pandas-docs/stable/timeseries.html#timeseries\">시계열 섹션</a>을 참조하십시오."
   ]
  },
  {
   "cell_type": "code",
   "execution_count": 69,
   "metadata": {},
   "outputs": [
    {
     "data": {
      "text/plain": [
       "2012-01-01    25593\n",
       "Freq: 5T, dtype: int32"
      ]
     },
     "execution_count": 69,
     "metadata": {},
     "output_type": "execute_result"
    }
   ],
   "source": [
    "rng = pd.date_range('1/1/2012', periods=100, freq='S')\n",
    "ts = pd.Series(np.random.randint(0, 500, len(rng)), index=rng)\n",
    "ts.resample('5Min').sum()"
   ]
  },
  {
   "cell_type": "markdown",
   "metadata": {},
   "source": [
    "시간대 표현"
   ]
  },
  {
   "cell_type": "code",
   "execution_count": 70,
   "metadata": {
    "scrolled": true
   },
   "outputs": [
    {
     "data": {
      "text/plain": [
       "2012-03-06   -1.000049\n",
       "2012-03-07    0.275221\n",
       "2012-03-08   -1.899297\n",
       "2012-03-09   -0.175004\n",
       "2012-03-10   -0.856603\n",
       "Freq: D, dtype: float64"
      ]
     },
     "execution_count": 70,
     "metadata": {},
     "output_type": "execute_result"
    }
   ],
   "source": [
    "rng = pd.date_range('3/6/2012 00:00', periods=5, freq='D')\n",
    "ts = pd.Series(np.random.randn(len(rng)), rng)\n",
    "ts"
   ]
  },
  {
   "cell_type": "code",
   "execution_count": 71,
   "metadata": {},
   "outputs": [
    {
     "data": {
      "text/plain": [
       "2012-03-06 00:00:00+00:00   -1.000049\n",
       "2012-03-07 00:00:00+00:00    0.275221\n",
       "2012-03-08 00:00:00+00:00   -1.899297\n",
       "2012-03-09 00:00:00+00:00   -0.175004\n",
       "2012-03-10 00:00:00+00:00   -0.856603\n",
       "Freq: D, dtype: float64"
      ]
     },
     "execution_count": 71,
     "metadata": {},
     "output_type": "execute_result"
    }
   ],
   "source": [
    "ts_utc = ts.tz_localize('UTC')\n",
    "ts_utc"
   ]
  },
  {
   "cell_type": "markdown",
   "metadata": {},
   "source": [
    "다른 시간대로 변환"
   ]
  },
  {
   "cell_type": "code",
   "execution_count": 72,
   "metadata": {},
   "outputs": [
    {
     "data": {
      "text/plain": [
       "2012-03-05 19:00:00-05:00   -1.000049\n",
       "2012-03-06 19:00:00-05:00    0.275221\n",
       "2012-03-07 19:00:00-05:00   -1.899297\n",
       "2012-03-08 19:00:00-05:00   -0.175004\n",
       "2012-03-09 19:00:00-05:00   -0.856603\n",
       "Freq: D, dtype: float64"
      ]
     },
     "execution_count": 72,
     "metadata": {},
     "output_type": "execute_result"
    }
   ],
   "source": [
    "ts_utc.tz_convert('US/Eastern')"
   ]
  },
  {
   "cell_type": "markdown",
   "metadata": {},
   "source": [
    "시간 범위 표현 간의 변환"
   ]
  },
  {
   "cell_type": "code",
   "execution_count": 73,
   "metadata": {},
   "outputs": [
    {
     "data": {
      "text/plain": [
       "2012-01-31    0.453041\n",
       "2012-02-29    0.050834\n",
       "2012-03-31    0.067855\n",
       "2012-04-30   -1.751273\n",
       "2012-05-31    0.339205\n",
       "Freq: M, dtype: float64"
      ]
     },
     "execution_count": 73,
     "metadata": {},
     "output_type": "execute_result"
    }
   ],
   "source": [
    "rng = pd.date_range('1/1/2012', periods=5, freq='M')\n",
    "ts = pd.Series(np.random.randn(len(rng)), index=rng)\n",
    "ts"
   ]
  },
  {
   "cell_type": "code",
   "execution_count": 74,
   "metadata": {},
   "outputs": [
    {
     "data": {
      "text/plain": [
       "2012-01    0.453041\n",
       "2012-02    0.050834\n",
       "2012-03    0.067855\n",
       "2012-04   -1.751273\n",
       "2012-05    0.339205\n",
       "Freq: M, dtype: float64"
      ]
     },
     "execution_count": 74,
     "metadata": {},
     "output_type": "execute_result"
    }
   ],
   "source": [
    "ps = ts.to_period()\n",
    "ps"
   ]
  },
  {
   "cell_type": "code",
   "execution_count": 75,
   "metadata": {},
   "outputs": [
    {
     "data": {
      "text/plain": [
       "2012-01-01    0.453041\n",
       "2012-02-01    0.050834\n",
       "2012-03-01    0.067855\n",
       "2012-04-01   -1.751273\n",
       "2012-05-01    0.339205\n",
       "Freq: MS, dtype: float64"
      ]
     },
     "execution_count": 75,
     "metadata": {},
     "output_type": "execute_result"
    }
   ],
   "source": [
    "ps.to_timestamp()"
   ]
  },
  {
   "cell_type": "markdown",
   "metadata": {},
   "source": [
    "기간과 타임 스탬프를 변환하면 편리한 산술 기능을 사용할 수 있습니다. 다음 예제에서는 11 월에 끝나는 연도의 분기 별 빈도를 분기말 다음 달의 9am로 변환합니다."
   ]
  },
  {
   "cell_type": "code",
   "execution_count": 76,
   "metadata": {},
   "outputs": [
    {
     "data": {
      "text/plain": [
       "1990-03-01 09:00   -0.351051\n",
       "1990-06-01 09:00    1.293514\n",
       "1990-09-01 09:00    0.218533\n",
       "1990-12-01 09:00    0.413038\n",
       "1991-03-01 09:00    0.487338\n",
       "Freq: H, dtype: float64"
      ]
     },
     "execution_count": 76,
     "metadata": {},
     "output_type": "execute_result"
    }
   ],
   "source": [
    "prng = pd.period_range('1990Q1', '2000Q4', freq='Q-NOV')\n",
    "ts = pd.Series(np.random.randn(len(prng)), prng)\n",
    "ts.index = (prng.asfreq('M', 'e') + 1).asfreq('H', 's') + 9\n",
    "ts.head()"
   ]
  },
  {
   "cell_type": "markdown",
   "metadata": {},
   "source": [
    "### 카테고리"
   ]
  },
  {
   "cell_type": "markdown",
   "metadata": {},
   "source": [
    "pandas는 DataFrame안에 범주형 데이터를 포함할 수 있습니다. 전체 문서는 <a href=\"https://pandas.pydata.org/pandas-docs/stable/categorical.html#categorical\">범주형 소개</a> 및 <a href=\"https://pandas.pydata.org/pandas-docs/stable/api.html#api-categorical\">API 설명서</a>를 참조하십시오."
   ]
  },
  {
   "cell_type": "code",
   "execution_count": 77,
   "metadata": {},
   "outputs": [
    {
     "data": {
      "text/html": [
       "<div>\n",
       "<style>\n",
       "    .dataframe thead tr:only-child th {\n",
       "        text-align: right;\n",
       "    }\n",
       "\n",
       "    .dataframe thead th {\n",
       "        text-align: left;\n",
       "    }\n",
       "\n",
       "    .dataframe tbody tr th {\n",
       "        vertical-align: top;\n",
       "    }\n",
       "</style>\n",
       "<table border=\"1\" class=\"dataframe\">\n",
       "  <thead>\n",
       "    <tr style=\"text-align: right;\">\n",
       "      <th></th>\n",
       "      <th>id</th>\n",
       "      <th>raw_grade</th>\n",
       "    </tr>\n",
       "  </thead>\n",
       "  <tbody>\n",
       "    <tr>\n",
       "      <th>0</th>\n",
       "      <td>1</td>\n",
       "      <td>a</td>\n",
       "    </tr>\n",
       "    <tr>\n",
       "      <th>1</th>\n",
       "      <td>2</td>\n",
       "      <td>b</td>\n",
       "    </tr>\n",
       "    <tr>\n",
       "      <th>2</th>\n",
       "      <td>3</td>\n",
       "      <td>b</td>\n",
       "    </tr>\n",
       "    <tr>\n",
       "      <th>3</th>\n",
       "      <td>4</td>\n",
       "      <td>a</td>\n",
       "    </tr>\n",
       "    <tr>\n",
       "      <th>4</th>\n",
       "      <td>5</td>\n",
       "      <td>a</td>\n",
       "    </tr>\n",
       "    <tr>\n",
       "      <th>5</th>\n",
       "      <td>6</td>\n",
       "      <td>e</td>\n",
       "    </tr>\n",
       "  </tbody>\n",
       "</table>\n",
       "</div>"
      ],
      "text/plain": [
       "   id raw_grade\n",
       "0   1         a\n",
       "1   2         b\n",
       "2   3         b\n",
       "3   4         a\n",
       "4   5         a\n",
       "5   6         e"
      ]
     },
     "execution_count": 77,
     "metadata": {},
     "output_type": "execute_result"
    }
   ],
   "source": [
    "df = pd.DataFrame({\"id\":[1,2,3,4,5,6], \"raw_grade\":['a', 'b', 'b', 'a', 'a', 'e']})\n",
    "df"
   ]
  },
  {
   "cell_type": "markdown",
   "metadata": {},
   "source": [
    "raw grade를 범주형 데이터 유형으로 변환하십시오."
   ]
  },
  {
   "cell_type": "code",
   "execution_count": 78,
   "metadata": {},
   "outputs": [
    {
     "data": {
      "text/plain": [
       "0    a\n",
       "1    b\n",
       "2    b\n",
       "3    a\n",
       "4    a\n",
       "5    e\n",
       "Name: grade, dtype: category\n",
       "Categories (3, object): [a, b, e]"
      ]
     },
     "execution_count": 78,
     "metadata": {},
     "output_type": "execute_result"
    }
   ],
   "source": [
    "df[\"grade\"] = df[\"raw_grade\"].astype(\"category\")\n",
    "df[\"grade\"]"
   ]
  },
  {
   "cell_type": "markdown",
   "metadata": {},
   "source": [
    "카테고리의 이름을 보다 의미있는 이름으로 변경하십시오 (Series.cat.categories에 할당하는 것은 inplace입니다!)."
   ]
  },
  {
   "cell_type": "code",
   "execution_count": 79,
   "metadata": {
    "scrolled": true
   },
   "outputs": [
    {
     "data": {
      "text/plain": [
       "0    very good\n",
       "1         good\n",
       "2         good\n",
       "3    very good\n",
       "4    very good\n",
       "5     very bad\n",
       "Name: grade, dtype: category\n",
       "Categories (3, object): [very good, good, very bad]"
      ]
     },
     "execution_count": 79,
     "metadata": {},
     "output_type": "execute_result"
    }
   ],
   "source": [
    "df[\"grade\"].cat.categories = [\"very good\", \"good\", \"very bad\"]\n",
    "df[\"grade\"]"
   ]
  },
  {
   "cell_type": "markdown",
   "metadata": {},
   "source": [
    "카테고리의 순서를 바꾸고 동시에 누락된 카테고리도 추가해 보세요. ( Series 밑에 .cat 메소드가 새로운 Sries를 기본으로 반환합니다.)"
   ]
  },
  {
   "cell_type": "code",
   "execution_count": 80,
   "metadata": {},
   "outputs": [
    {
     "data": {
      "text/plain": [
       "0    very good\n",
       "1         good\n",
       "2         good\n",
       "3    very good\n",
       "4    very good\n",
       "5     very bad\n",
       "Name: grade, dtype: category\n",
       "Categories (5, object): [very bad, bad, medium, good, very good]"
      ]
     },
     "execution_count": 80,
     "metadata": {},
     "output_type": "execute_result"
    }
   ],
   "source": [
    "df[\"grade\"] = df[\"grade\"].cat.set_categories([\"very bad\", \"bad\", \"medium\", \"good\", \"very good\"])\n",
    "df[\"grade\"]"
   ]
  },
  {
   "cell_type": "markdown",
   "metadata": {},
   "source": [
    "정렬은 어휘 순서가 아닌 범주 순서대로 수행됩니다."
   ]
  },
  {
   "cell_type": "code",
   "execution_count": 81,
   "metadata": {},
   "outputs": [
    {
     "data": {
      "text/html": [
       "<div>\n",
       "<style>\n",
       "    .dataframe thead tr:only-child th {\n",
       "        text-align: right;\n",
       "    }\n",
       "\n",
       "    .dataframe thead th {\n",
       "        text-align: left;\n",
       "    }\n",
       "\n",
       "    .dataframe tbody tr th {\n",
       "        vertical-align: top;\n",
       "    }\n",
       "</style>\n",
       "<table border=\"1\" class=\"dataframe\">\n",
       "  <thead>\n",
       "    <tr style=\"text-align: right;\">\n",
       "      <th></th>\n",
       "      <th>id</th>\n",
       "      <th>raw_grade</th>\n",
       "      <th>grade</th>\n",
       "    </tr>\n",
       "  </thead>\n",
       "  <tbody>\n",
       "    <tr>\n",
       "      <th>5</th>\n",
       "      <td>6</td>\n",
       "      <td>e</td>\n",
       "      <td>very bad</td>\n",
       "    </tr>\n",
       "    <tr>\n",
       "      <th>1</th>\n",
       "      <td>2</td>\n",
       "      <td>b</td>\n",
       "      <td>good</td>\n",
       "    </tr>\n",
       "    <tr>\n",
       "      <th>2</th>\n",
       "      <td>3</td>\n",
       "      <td>b</td>\n",
       "      <td>good</td>\n",
       "    </tr>\n",
       "    <tr>\n",
       "      <th>0</th>\n",
       "      <td>1</td>\n",
       "      <td>a</td>\n",
       "      <td>very good</td>\n",
       "    </tr>\n",
       "    <tr>\n",
       "      <th>3</th>\n",
       "      <td>4</td>\n",
       "      <td>a</td>\n",
       "      <td>very good</td>\n",
       "    </tr>\n",
       "    <tr>\n",
       "      <th>4</th>\n",
       "      <td>5</td>\n",
       "      <td>a</td>\n",
       "      <td>very good</td>\n",
       "    </tr>\n",
       "  </tbody>\n",
       "</table>\n",
       "</div>"
      ],
      "text/plain": [
       "   id raw_grade      grade\n",
       "5   6         e   very bad\n",
       "1   2         b       good\n",
       "2   3         b       good\n",
       "0   1         a  very good\n",
       "3   4         a  very good\n",
       "4   5         a  very good"
      ]
     },
     "execution_count": 81,
     "metadata": {},
     "output_type": "execute_result"
    }
   ],
   "source": [
    "df.sort_values(by=\"grade\")"
   ]
  },
  {
   "cell_type": "markdown",
   "metadata": {},
   "source": [
    "범주형 열을 기준으로 그룹화하면 빈 범주도 표시됩니다."
   ]
  },
  {
   "cell_type": "code",
   "execution_count": 82,
   "metadata": {},
   "outputs": [
    {
     "data": {
      "text/plain": [
       "grade\n",
       "very bad     1\n",
       "bad          0\n",
       "medium       0\n",
       "good         2\n",
       "very good    3\n",
       "dtype: int64"
      ]
     },
     "execution_count": 82,
     "metadata": {},
     "output_type": "execute_result"
    }
   ],
   "source": [
    "df.groupby(\"grade\").size()"
   ]
  },
  {
   "cell_type": "markdown",
   "metadata": {},
   "source": [
    "### 플롯 \n",
    "<a href=\"https://pandas.pydata.org/pandas-docs/stable/visualization.html#visualization\">plotting</a> 문서"
   ]
  },
  {
   "cell_type": "code",
   "execution_count": 83,
   "metadata": {},
   "outputs": [
    {
     "data": {
      "text/plain": [
       "<matplotlib.axes._subplots.AxesSubplot at 0x9500d30>"
      ]
     },
     "execution_count": 83,
     "metadata": {},
     "output_type": "execute_result"
    },
    {
     "data": {
      "image/png": "[encoded data removed]",
      "text/plain": [
       "<matplotlib.figure.Figure at 0x848df28>"
      ]
     },
     "metadata": {},
     "output_type": "display_data"
    }
   ],
   "source": [
    "%matplotlib inline\n",
    "ts = pd.Series(np.random.randn(1000), index=pd.date_range('1/1/2000', periods=1000))\n",
    "ts = ts.cumsum()\n",
    "ts.plot()"
   ]
  },
  {
   "cell_type": "markdown",
   "metadata": {},
   "source": [
    "DataFrame에서는 plot()레이블이 있는 모든 열을 플롯할 때 편리합니다."
   ]
  },
  {
   "cell_type": "code",
   "execution_count": 84,
   "metadata": {},
   "outputs": [
    {
     "data": {
      "text/plain": [
       "<matplotlib.legend.Legend at 0x972d978>"
      ]
     },
     "execution_count": 84,
     "metadata": {},
     "output_type": "execute_result"
    },
    {
     "data": {
      "text/plain": [
       "<matplotlib.figure.Figure at 0x973f0f0>"
      ]
     },
     "metadata": {},
     "output_type": "display_data"
    },
    {
     "data": {
      "image/png": "[encoded data removed]",
      "text/plain": [
       "<matplotlib.figure.Figure at 0x9735128>"
      ]
     },
     "metadata": {},
     "output_type": "display_data"
    }
   ],
   "source": [
    "df = pd.DataFrame(np.random.randn(1000, 4), index=ts.index,\n",
    "                  columns=['A', 'B', 'C', 'D'])\n",
    "df = df.cumsum()\n",
    "plt.figure(); df.plot(); plt.legend(loc='best')"
   ]
  },
  {
   "cell_type": "markdown",
   "metadata": {},
   "source": [
    "## 데이터 입출력 얻기"
   ]
  },
  {
   "cell_type": "markdown",
   "metadata": {},
   "source": [
    "### CSV \n",
    "<a href=\"https://pandas.pydata.org/pandas-docs/stable/io.html#io-store-in-csv\">csv 파일에 쓰기</a>"
   ]
  },
  {
   "cell_type": "code",
   "execution_count": 85,
   "metadata": {},
   "outputs": [],
   "source": [
    "df.to_csv('foo.csv')"
   ]
  },
  {
   "cell_type": "markdown",
   "metadata": {},
   "source": [
    "<a href=\"https://pandas.pydata.org/pandas-docs/stable/io.html#io-read-csv-table\">csv 파일에서 읽기</a>"
   ]
  },
  {
   "cell_type": "code",
   "execution_count": 86,
   "metadata": {
    "scrolled": true
   },
   "outputs": [
    {
     "data": {
      "text/html": [
       "<div>\n",
       "<style>\n",
       "    .dataframe thead tr:only-child th {\n",
       "        text-align: right;\n",
       "    }\n",
       "\n",
       "    .dataframe thead th {\n",
       "        text-align: left;\n",
       "    }\n",
       "\n",
       "    .dataframe tbody tr th {\n",
       "        vertical-align: top;\n",
       "    }\n",
       "</style>\n",
       "<table border=\"1\" class=\"dataframe\">\n",
       "  <thead>\n",
       "    <tr style=\"text-align: right;\">\n",
       "      <th></th>\n",
       "      <th>Unnamed: 0</th>\n",
       "      <th>A</th>\n",
       "      <th>B</th>\n",
       "      <th>C</th>\n",
       "      <th>D</th>\n",
       "    </tr>\n",
       "  </thead>\n",
       "  <tbody>\n",
       "    <tr>\n",
       "      <th>0</th>\n",
       "      <td>2000-01-01</td>\n",
       "      <td>-1.213072</td>\n",
       "      <td>-1.195637</td>\n",
       "      <td>-0.462508</td>\n",
       "      <td>-0.016682</td>\n",
       "    </tr>\n",
       "    <tr>\n",
       "      <th>1</th>\n",
       "      <td>2000-01-02</td>\n",
       "      <td>-0.603731</td>\n",
       "      <td>-1.309983</td>\n",
       "      <td>-0.896668</td>\n",
       "      <td>0.245021</td>\n",
       "    </tr>\n",
       "    <tr>\n",
       "      <th>2</th>\n",
       "      <td>2000-01-03</td>\n",
       "      <td>-2.466303</td>\n",
       "      <td>0.377860</td>\n",
       "      <td>0.269221</td>\n",
       "      <td>0.210649</td>\n",
       "    </tr>\n",
       "    <tr>\n",
       "      <th>3</th>\n",
       "      <td>2000-01-04</td>\n",
       "      <td>-2.347942</td>\n",
       "      <td>-0.265661</td>\n",
       "      <td>0.544816</td>\n",
       "      <td>0.860220</td>\n",
       "    </tr>\n",
       "    <tr>\n",
       "      <th>4</th>\n",
       "      <td>2000-01-05</td>\n",
       "      <td>-0.782951</td>\n",
       "      <td>0.229751</td>\n",
       "      <td>0.224038</td>\n",
       "      <td>0.998969</td>\n",
       "    </tr>\n",
       "    <tr>\n",
       "      <th>5</th>\n",
       "      <td>2000-01-06</td>\n",
       "      <td>-1.437936</td>\n",
       "      <td>0.560879</td>\n",
       "      <td>1.618223</td>\n",
       "      <td>2.307376</td>\n",
       "    </tr>\n",
       "    <tr>\n",
       "      <th>6</th>\n",
       "      <td>2000-01-07</td>\n",
       "      <td>-2.358557</td>\n",
       "      <td>-2.261325</td>\n",
       "      <td>-0.079693</td>\n",
       "      <td>1.578715</td>\n",
       "    </tr>\n",
       "    <tr>\n",
       "      <th>7</th>\n",
       "      <td>2000-01-08</td>\n",
       "      <td>-4.605497</td>\n",
       "      <td>-0.423754</td>\n",
       "      <td>-1.348300</td>\n",
       "      <td>0.839386</td>\n",
       "    </tr>\n",
       "    <tr>\n",
       "      <th>8</th>\n",
       "      <td>2000-01-09</td>\n",
       "      <td>-4.151217</td>\n",
       "      <td>-0.222247</td>\n",
       "      <td>-1.065410</td>\n",
       "      <td>1.610209</td>\n",
       "    </tr>\n",
       "    <tr>\n",
       "      <th>9</th>\n",
       "      <td>2000-01-10</td>\n",
       "      <td>-3.009593</td>\n",
       "      <td>0.048558</td>\n",
       "      <td>2.614495</td>\n",
       "      <td>1.814005</td>\n",
       "    </tr>\n",
       "    <tr>\n",
       "      <th>10</th>\n",
       "      <td>2000-01-11</td>\n",
       "      <td>-2.947886</td>\n",
       "      <td>-1.920456</td>\n",
       "      <td>2.186851</td>\n",
       "      <td>2.665764</td>\n",
       "    </tr>\n",
       "    <tr>\n",
       "      <th>11</th>\n",
       "      <td>2000-01-12</td>\n",
       "      <td>-4.569076</td>\n",
       "      <td>-2.027153</td>\n",
       "      <td>2.948362</td>\n",
       "      <td>1.856616</td>\n",
       "    </tr>\n",
       "    <tr>\n",
       "      <th>12</th>\n",
       "      <td>2000-01-13</td>\n",
       "      <td>-6.557504</td>\n",
       "      <td>-2.459697</td>\n",
       "      <td>2.639440</td>\n",
       "      <td>0.158004</td>\n",
       "    </tr>\n",
       "    <tr>\n",
       "      <th>13</th>\n",
       "      <td>2000-01-14</td>\n",
       "      <td>-6.980545</td>\n",
       "      <td>-3.528682</td>\n",
       "      <td>3.135503</td>\n",
       "      <td>-0.614801</td>\n",
       "    </tr>\n",
       "    <tr>\n",
       "      <th>14</th>\n",
       "      <td>2000-01-15</td>\n",
       "      <td>-7.954007</td>\n",
       "      <td>-3.720455</td>\n",
       "      <td>2.635085</td>\n",
       "      <td>-0.657361</td>\n",
       "    </tr>\n",
       "    <tr>\n",
       "      <th>15</th>\n",
       "      <td>2000-01-16</td>\n",
       "      <td>-9.808631</td>\n",
       "      <td>-4.353724</td>\n",
       "      <td>1.862239</td>\n",
       "      <td>-0.496334</td>\n",
       "    </tr>\n",
       "    <tr>\n",
       "      <th>16</th>\n",
       "      <td>2000-01-17</td>\n",
       "      <td>-11.486116</td>\n",
       "      <td>-3.991680</td>\n",
       "      <td>0.364143</td>\n",
       "      <td>-0.205352</td>\n",
       "    </tr>\n",
       "    <tr>\n",
       "      <th>17</th>\n",
       "      <td>2000-01-18</td>\n",
       "      <td>-10.624605</td>\n",
       "      <td>-2.930933</td>\n",
       "      <td>0.475083</td>\n",
       "      <td>-0.310067</td>\n",
       "    </tr>\n",
       "    <tr>\n",
       "      <th>18</th>\n",
       "      <td>2000-01-19</td>\n",
       "      <td>-8.152395</td>\n",
       "      <td>-2.514322</td>\n",
       "      <td>-2.400179</td>\n",
       "      <td>0.322994</td>\n",
       "    </tr>\n",
       "    <tr>\n",
       "      <th>19</th>\n",
       "      <td>2000-01-20</td>\n",
       "      <td>-7.572486</td>\n",
       "      <td>-4.465168</td>\n",
       "      <td>-1.004781</td>\n",
       "      <td>1.215454</td>\n",
       "    </tr>\n",
       "    <tr>\n",
       "      <th>20</th>\n",
       "      <td>2000-01-21</td>\n",
       "      <td>-8.050146</td>\n",
       "      <td>-3.193135</td>\n",
       "      <td>-1.477647</td>\n",
       "      <td>0.380212</td>\n",
       "    </tr>\n",
       "    <tr>\n",
       "      <th>21</th>\n",
       "      <td>2000-01-22</td>\n",
       "      <td>-7.622327</td>\n",
       "      <td>-3.782072</td>\n",
       "      <td>-1.707215</td>\n",
       "      <td>1.314368</td>\n",
       "    </tr>\n",
       "    <tr>\n",
       "      <th>22</th>\n",
       "      <td>2000-01-23</td>\n",
       "      <td>-7.146082</td>\n",
       "      <td>-2.545926</td>\n",
       "      <td>-2.651083</td>\n",
       "      <td>1.395237</td>\n",
       "    </tr>\n",
       "    <tr>\n",
       "      <th>23</th>\n",
       "      <td>2000-01-24</td>\n",
       "      <td>-6.972428</td>\n",
       "      <td>-3.235703</td>\n",
       "      <td>-2.856634</td>\n",
       "      <td>2.404108</td>\n",
       "    </tr>\n",
       "    <tr>\n",
       "      <th>24</th>\n",
       "      <td>2000-01-25</td>\n",
       "      <td>-6.108400</td>\n",
       "      <td>-3.475927</td>\n",
       "      <td>-3.749033</td>\n",
       "      <td>1.916380</td>\n",
       "    </tr>\n",
       "    <tr>\n",
       "      <th>25</th>\n",
       "      <td>2000-01-26</td>\n",
       "      <td>-5.234314</td>\n",
       "      <td>-4.103188</td>\n",
       "      <td>-4.283437</td>\n",
       "      <td>1.571003</td>\n",
       "    </tr>\n",
       "    <tr>\n",
       "      <th>26</th>\n",
       "      <td>2000-01-27</td>\n",
       "      <td>-5.169361</td>\n",
       "      <td>-3.799951</td>\n",
       "      <td>-4.836102</td>\n",
       "      <td>0.656659</td>\n",
       "    </tr>\n",
       "    <tr>\n",
       "      <th>27</th>\n",
       "      <td>2000-01-28</td>\n",
       "      <td>-6.568495</td>\n",
       "      <td>-1.735832</td>\n",
       "      <td>-5.449235</td>\n",
       "      <td>2.746895</td>\n",
       "    </tr>\n",
       "    <tr>\n",
       "      <th>28</th>\n",
       "      <td>2000-01-29</td>\n",
       "      <td>-6.420668</td>\n",
       "      <td>-2.940881</td>\n",
       "      <td>-5.968265</td>\n",
       "      <td>2.457317</td>\n",
       "    </tr>\n",
       "    <tr>\n",
       "      <th>29</th>\n",
       "      <td>2000-01-30</td>\n",
       "      <td>-6.701556</td>\n",
       "      <td>-1.214703</td>\n",
       "      <td>-5.819119</td>\n",
       "      <td>1.179115</td>\n",
       "    </tr>\n",
       "    <tr>\n",
       "      <th>...</th>\n",
       "      <td>...</td>\n",
       "      <td>...</td>\n",
       "      <td>...</td>\n",
       "      <td>...</td>\n",
       "      <td>...</td>\n",
       "    </tr>\n",
       "    <tr>\n",
       "      <th>970</th>\n",
       "      <td>2002-08-28</td>\n",
       "      <td>-22.352609</td>\n",
       "      <td>7.027120</td>\n",
       "      <td>-45.183289</td>\n",
       "      <td>72.729005</td>\n",
       "    </tr>\n",
       "    <tr>\n",
       "      <th>971</th>\n",
       "      <td>2002-08-29</td>\n",
       "      <td>-21.702405</td>\n",
       "      <td>5.843043</td>\n",
       "      <td>-44.704094</td>\n",
       "      <td>73.756434</td>\n",
       "    </tr>\n",
       "    <tr>\n",
       "      <th>972</th>\n",
       "      <td>2002-08-30</td>\n",
       "      <td>-21.334086</td>\n",
       "      <td>5.994098</td>\n",
       "      <td>-44.381997</td>\n",
       "      <td>71.901567</td>\n",
       "    </tr>\n",
       "    <tr>\n",
       "      <th>973</th>\n",
       "      <td>2002-08-31</td>\n",
       "      <td>-20.750845</td>\n",
       "      <td>6.805032</td>\n",
       "      <td>-44.242780</td>\n",
       "      <td>72.324806</td>\n",
       "    </tr>\n",
       "    <tr>\n",
       "      <th>974</th>\n",
       "      <td>2002-09-01</td>\n",
       "      <td>-21.113715</td>\n",
       "      <td>5.792515</td>\n",
       "      <td>-44.434686</td>\n",
       "      <td>71.630783</td>\n",
       "    </tr>\n",
       "    <tr>\n",
       "      <th>975</th>\n",
       "      <td>2002-09-02</td>\n",
       "      <td>-21.750650</td>\n",
       "      <td>4.658662</td>\n",
       "      <td>-44.942716</td>\n",
       "      <td>71.891006</td>\n",
       "    </tr>\n",
       "    <tr>\n",
       "      <th>976</th>\n",
       "      <td>2002-09-03</td>\n",
       "      <td>-22.000747</td>\n",
       "      <td>4.645149</td>\n",
       "      <td>-45.710066</td>\n",
       "      <td>70.853844</td>\n",
       "    </tr>\n",
       "    <tr>\n",
       "      <th>977</th>\n",
       "      <td>2002-09-04</td>\n",
       "      <td>-22.492563</td>\n",
       "      <td>2.752806</td>\n",
       "      <td>-45.122717</td>\n",
       "      <td>70.418068</td>\n",
       "    </tr>\n",
       "    <tr>\n",
       "      <th>978</th>\n",
       "      <td>2002-09-05</td>\n",
       "      <td>-21.431923</td>\n",
       "      <td>3.004190</td>\n",
       "      <td>-42.188744</td>\n",
       "      <td>70.848448</td>\n",
       "    </tr>\n",
       "    <tr>\n",
       "      <th>979</th>\n",
       "      <td>2002-09-06</td>\n",
       "      <td>-20.957237</td>\n",
       "      <td>3.357265</td>\n",
       "      <td>-41.371870</td>\n",
       "      <td>71.196737</td>\n",
       "    </tr>\n",
       "    <tr>\n",
       "      <th>980</th>\n",
       "      <td>2002-09-07</td>\n",
       "      <td>-20.428272</td>\n",
       "      <td>5.040994</td>\n",
       "      <td>-42.227947</td>\n",
       "      <td>70.592623</td>\n",
       "    </tr>\n",
       "    <tr>\n",
       "      <th>981</th>\n",
       "      <td>2002-09-08</td>\n",
       "      <td>-20.190222</td>\n",
       "      <td>6.128414</td>\n",
       "      <td>-40.909056</td>\n",
       "      <td>71.599979</td>\n",
       "    </tr>\n",
       "    <tr>\n",
       "      <th>982</th>\n",
       "      <td>2002-09-09</td>\n",
       "      <td>-19.591368</td>\n",
       "      <td>8.754031</td>\n",
       "      <td>-40.772367</td>\n",
       "      <td>69.789571</td>\n",
       "    </tr>\n",
       "    <tr>\n",
       "      <th>983</th>\n",
       "      <td>2002-09-10</td>\n",
       "      <td>-19.290718</td>\n",
       "      <td>9.911430</td>\n",
       "      <td>-41.413658</td>\n",
       "      <td>70.738739</td>\n",
       "    </tr>\n",
       "    <tr>\n",
       "      <th>984</th>\n",
       "      <td>2002-09-11</td>\n",
       "      <td>-19.109395</td>\n",
       "      <td>9.294865</td>\n",
       "      <td>-41.701949</td>\n",
       "      <td>72.655125</td>\n",
       "    </tr>\n",
       "    <tr>\n",
       "      <th>985</th>\n",
       "      <td>2002-09-12</td>\n",
       "      <td>-17.308535</td>\n",
       "      <td>6.583368</td>\n",
       "      <td>-42.981743</td>\n",
       "      <td>73.989988</td>\n",
       "    </tr>\n",
       "    <tr>\n",
       "      <th>986</th>\n",
       "      <td>2002-09-13</td>\n",
       "      <td>-15.816049</td>\n",
       "      <td>5.932406</td>\n",
       "      <td>-45.900821</td>\n",
       "      <td>74.637468</td>\n",
       "    </tr>\n",
       "    <tr>\n",
       "      <th>987</th>\n",
       "      <td>2002-09-14</td>\n",
       "      <td>-15.945986</td>\n",
       "      <td>7.550233</td>\n",
       "      <td>-44.625875</td>\n",
       "      <td>75.447842</td>\n",
       "    </tr>\n",
       "    <tr>\n",
       "      <th>988</th>\n",
       "      <td>2002-09-15</td>\n",
       "      <td>-17.089024</td>\n",
       "      <td>7.941927</td>\n",
       "      <td>-44.751254</td>\n",
       "      <td>76.777649</td>\n",
       "    </tr>\n",
       "    <tr>\n",
       "      <th>989</th>\n",
       "      <td>2002-09-16</td>\n",
       "      <td>-15.194358</td>\n",
       "      <td>7.170877</td>\n",
       "      <td>-45.077172</td>\n",
       "      <td>77.045589</td>\n",
       "    </tr>\n",
       "    <tr>\n",
       "      <th>990</th>\n",
       "      <td>2002-09-17</td>\n",
       "      <td>-15.381417</td>\n",
       "      <td>4.944508</td>\n",
       "      <td>-46.356200</td>\n",
       "      <td>75.788737</td>\n",
       "    </tr>\n",
       "    <tr>\n",
       "      <th>991</th>\n",
       "      <td>2002-09-18</td>\n",
       "      <td>-15.228869</td>\n",
       "      <td>6.255351</td>\n",
       "      <td>-44.915371</td>\n",
       "      <td>75.750087</td>\n",
       "    </tr>\n",
       "    <tr>\n",
       "      <th>992</th>\n",
       "      <td>2002-09-19</td>\n",
       "      <td>-14.650640</td>\n",
       "      <td>5.269518</td>\n",
       "      <td>-44.018598</td>\n",
       "      <td>77.405234</td>\n",
       "    </tr>\n",
       "    <tr>\n",
       "      <th>993</th>\n",
       "      <td>2002-09-20</td>\n",
       "      <td>-13.120291</td>\n",
       "      <td>6.337913</td>\n",
       "      <td>-43.559905</td>\n",
       "      <td>77.060681</td>\n",
       "    </tr>\n",
       "    <tr>\n",
       "      <th>994</th>\n",
       "      <td>2002-09-21</td>\n",
       "      <td>-12.914220</td>\n",
       "      <td>5.358061</td>\n",
       "      <td>-42.142510</td>\n",
       "      <td>77.923584</td>\n",
       "    </tr>\n",
       "    <tr>\n",
       "      <th>995</th>\n",
       "      <td>2002-09-22</td>\n",
       "      <td>-12.959931</td>\n",
       "      <td>4.788690</td>\n",
       "      <td>-42.118983</td>\n",
       "      <td>79.584575</td>\n",
       "    </tr>\n",
       "    <tr>\n",
       "      <th>996</th>\n",
       "      <td>2002-09-23</td>\n",
       "      <td>-12.241738</td>\n",
       "      <td>4.269100</td>\n",
       "      <td>-40.900785</td>\n",
       "      <td>78.848476</td>\n",
       "    </tr>\n",
       "    <tr>\n",
       "      <th>997</th>\n",
       "      <td>2002-09-24</td>\n",
       "      <td>-11.372906</td>\n",
       "      <td>5.348322</td>\n",
       "      <td>-41.342631</td>\n",
       "      <td>79.008802</td>\n",
       "    </tr>\n",
       "    <tr>\n",
       "      <th>998</th>\n",
       "      <td>2002-09-25</td>\n",
       "      <td>-12.902470</td>\n",
       "      <td>4.987449</td>\n",
       "      <td>-39.524698</td>\n",
       "      <td>77.960018</td>\n",
       "    </tr>\n",
       "    <tr>\n",
       "      <th>999</th>\n",
       "      <td>2002-09-26</td>\n",
       "      <td>-12.621655</td>\n",
       "      <td>4.077247</td>\n",
       "      <td>-40.724575</td>\n",
       "      <td>77.983997</td>\n",
       "    </tr>\n",
       "  </tbody>\n",
       "</table>\n",
       "<p>1000 rows × 5 columns</p>\n",
       "</div>"
      ],
      "text/plain": [
       "     Unnamed: 0          A         B          C          D\n",
       "0    2000-01-01  -1.213072 -1.195637  -0.462508  -0.016682\n",
       "1    2000-01-02  -0.603731 -1.309983  -0.896668   0.245021\n",
       "2    2000-01-03  -2.466303  0.377860   0.269221   0.210649\n",
       "3    2000-01-04  -2.347942 -0.265661   0.544816   0.860220\n",
       "4    2000-01-05  -0.782951  0.229751   0.224038   0.998969\n",
       "5    2000-01-06  -1.437936  0.560879   1.618223   2.307376\n",
       "6    2000-01-07  -2.358557 -2.261325  -0.079693   1.578715\n",
       "7    2000-01-08  -4.605497 -0.423754  -1.348300   0.839386\n",
       "8    2000-01-09  -4.151217 -0.222247  -1.065410   1.610209\n",
       "9    2000-01-10  -3.009593  0.048558   2.614495   1.814005\n",
       "10   2000-01-11  -2.947886 -1.920456   2.186851   2.665764\n",
       "11   2000-01-12  -4.569076 -2.027153   2.948362   1.856616\n",
       "12   2000-01-13  -6.557504 -2.459697   2.639440   0.158004\n",
       "13   2000-01-14  -6.980545 -3.528682   3.135503  -0.614801\n",
       "14   2000-01-15  -7.954007 -3.720455   2.635085  -0.657361\n",
       "15   2000-01-16  -9.808631 -4.353724   1.862239  -0.496334\n",
       "16   2000-01-17 -11.486116 -3.991680   0.364143  -0.205352\n",
       "17   2000-01-18 -10.624605 -2.930933   0.475083  -0.310067\n",
       "18   2000-01-19  -8.152395 -2.514322  -2.400179   0.322994\n",
       "19   2000-01-20  -7.572486 -4.465168  -1.004781   1.215454\n",
       "20   2000-01-21  -8.050146 -3.193135  -1.477647   0.380212\n",
       "21   2000-01-22  -7.622327 -3.782072  -1.707215   1.314368\n",
       "22   2000-01-23  -7.146082 -2.545926  -2.651083   1.395237\n",
       "23   2000-01-24  -6.972428 -3.235703  -2.856634   2.404108\n",
       "24   2000-01-25  -6.108400 -3.475927  -3.749033   1.916380\n",
       "25   2000-01-26  -5.234314 -4.103188  -4.283437   1.571003\n",
       "26   2000-01-27  -5.169361 -3.799951  -4.836102   0.656659\n",
       "27   2000-01-28  -6.568495 -1.735832  -5.449235   2.746895\n",
       "28   2000-01-29  -6.420668 -2.940881  -5.968265   2.457317\n",
       "29   2000-01-30  -6.701556 -1.214703  -5.819119   1.179115\n",
       "..          ...        ...       ...        ...        ...\n",
       "970  2002-08-28 -22.352609  7.027120 -45.183289  72.729005\n",
       "971  2002-08-29 -21.702405  5.843043 -44.704094  73.756434\n",
       "972  2002-08-30 -21.334086  5.994098 -44.381997  71.901567\n",
       "973  2002-08-31 -20.750845  6.805032 -44.242780  72.324806\n",
       "974  2002-09-01 -21.113715  5.792515 -44.434686  71.630783\n",
       "975  2002-09-02 -21.750650  4.658662 -44.942716  71.891006\n",
       "976  2002-09-03 -22.000747  4.645149 -45.710066  70.853844\n",
       "977  2002-09-04 -22.492563  2.752806 -45.122717  70.418068\n",
       "978  2002-09-05 -21.431923  3.004190 -42.188744  70.848448\n",
       "979  2002-09-06 -20.957237  3.357265 -41.371870  71.196737\n",
       "980  2002-09-07 -20.428272  5.040994 -42.227947  70.592623\n",
       "981  2002-09-08 -20.190222  6.128414 -40.909056  71.599979\n",
       "982  2002-09-09 -19.591368  8.754031 -40.772367  69.789571\n",
       "983  2002-09-10 -19.290718  9.911430 -41.413658  70.738739\n",
       "984  2002-09-11 -19.109395  9.294865 -41.701949  72.655125\n",
       "985  2002-09-12 -17.308535  6.583368 -42.981743  73.989988\n",
       "986  2002-09-13 -15.816049  5.932406 -45.900821  74.637468\n",
       "987  2002-09-14 -15.945986  7.550233 -44.625875  75.447842\n",
       "988  2002-09-15 -17.089024  7.941927 -44.751254  76.777649\n",
       "989  2002-09-16 -15.194358  7.170877 -45.077172  77.045589\n",
       "990  2002-09-17 -15.381417  4.944508 -46.356200  75.788737\n",
       "991  2002-09-18 -15.228869  6.255351 -44.915371  75.750087\n",
       "992  2002-09-19 -14.650640  5.269518 -44.018598  77.405234\n",
       "993  2002-09-20 -13.120291  6.337913 -43.559905  77.060681\n",
       "994  2002-09-21 -12.914220  5.358061 -42.142510  77.923584\n",
       "995  2002-09-22 -12.959931  4.788690 -42.118983  79.584575\n",
       "996  2002-09-23 -12.241738  4.269100 -40.900785  78.848476\n",
       "997  2002-09-24 -11.372906  5.348322 -41.342631  79.008802\n",
       "998  2002-09-25 -12.902470  4.987449 -39.524698  77.960018\n",
       "999  2002-09-26 -12.621655  4.077247 -40.724575  77.983997\n",
       "\n",
       "[1000 rows x 5 columns]"
      ]
     },
     "execution_count": 86,
     "metadata": {},
     "output_type": "execute_result"
    }
   ],
   "source": [
    "pd.read_csv('foo.csv')"
   ]
  },
  {
   "cell_type": "markdown",
   "metadata": {},
   "source": [
    "### Excel \n",
    "\n",
    "<a href=\"https://pandas.pydata.org/pandas-docs/stable/io.html#io-excel\">MS Excel</a> 읽기 및 쓰기\n",
    "\n",
    "엑셀 파일에 쓰기"
   ]
  },
  {
   "cell_type": "code",
   "execution_count": 87,
   "metadata": {},
   "outputs": [],
   "source": [
    "df.to_excel('foo.xlsx', sheet_name='Sheet1')"
   ]
  },
  {
   "cell_type": "markdown",
   "metadata": {},
   "source": [
    "엑셀 파일에서 읽기"
   ]
  },
  {
   "cell_type": "code",
   "execution_count": 88,
   "metadata": {
    "scrolled": true
   },
   "outputs": [
    {
     "data": {
      "text/html": [
       "<div>\n",
       "<style>\n",
       "    .dataframe thead tr:only-child th {\n",
       "        text-align: right;\n",
       "    }\n",
       "\n",
       "    .dataframe thead th {\n",
       "        text-align: left;\n",
       "    }\n",
       "\n",
       "    .dataframe tbody tr th {\n",
       "        vertical-align: top;\n",
       "    }\n",
       "</style>\n",
       "<table border=\"1\" class=\"dataframe\">\n",
       "  <thead>\n",
       "    <tr style=\"text-align: right;\">\n",
       "      <th></th>\n",
       "      <th>A</th>\n",
       "      <th>B</th>\n",
       "      <th>C</th>\n",
       "      <th>D</th>\n",
       "    </tr>\n",
       "  </thead>\n",
       "  <tbody>\n",
       "    <tr>\n",
       "      <th>2000-01-01</th>\n",
       "      <td>-1.213072</td>\n",
       "      <td>-1.195637</td>\n",
       "      <td>-0.462508</td>\n",
       "      <td>-0.016682</td>\n",
       "    </tr>\n",
       "    <tr>\n",
       "      <th>2000-01-02</th>\n",
       "      <td>-0.603731</td>\n",
       "      <td>-1.309983</td>\n",
       "      <td>-0.896668</td>\n",
       "      <td>0.245021</td>\n",
       "    </tr>\n",
       "    <tr>\n",
       "      <th>2000-01-03</th>\n",
       "      <td>-2.466303</td>\n",
       "      <td>0.377860</td>\n",
       "      <td>0.269221</td>\n",
       "      <td>0.210649</td>\n",
       "    </tr>\n",
       "    <tr>\n",
       "      <th>2000-01-04</th>\n",
       "      <td>-2.347942</td>\n",
       "      <td>-0.265661</td>\n",
       "      <td>0.544816</td>\n",
       "      <td>0.860220</td>\n",
       "    </tr>\n",
       "    <tr>\n",
       "      <th>2000-01-05</th>\n",
       "      <td>-0.782951</td>\n",
       "      <td>0.229751</td>\n",
       "      <td>0.224038</td>\n",
       "      <td>0.998969</td>\n",
       "    </tr>\n",
       "    <tr>\n",
       "      <th>2000-01-06</th>\n",
       "      <td>-1.437936</td>\n",
       "      <td>0.560879</td>\n",
       "      <td>1.618223</td>\n",
       "      <td>2.307376</td>\n",
       "    </tr>\n",
       "    <tr>\n",
       "      <th>2000-01-07</th>\n",
       "      <td>-2.358557</td>\n",
       "      <td>-2.261325</td>\n",
       "      <td>-0.079693</td>\n",
       "      <td>1.578715</td>\n",
       "    </tr>\n",
       "    <tr>\n",
       "      <th>2000-01-08</th>\n",
       "      <td>-4.605497</td>\n",
       "      <td>-0.423754</td>\n",
       "      <td>-1.348300</td>\n",
       "      <td>0.839386</td>\n",
       "    </tr>\n",
       "    <tr>\n",
       "      <th>2000-01-09</th>\n",
       "      <td>-4.151217</td>\n",
       "      <td>-0.222247</td>\n",
       "      <td>-1.065410</td>\n",
       "      <td>1.610209</td>\n",
       "    </tr>\n",
       "    <tr>\n",
       "      <th>2000-01-10</th>\n",
       "      <td>-3.009593</td>\n",
       "      <td>0.048558</td>\n",
       "      <td>2.614495</td>\n",
       "      <td>1.814005</td>\n",
       "    </tr>\n",
       "    <tr>\n",
       "      <th>2000-01-11</th>\n",
       "      <td>-2.947886</td>\n",
       "      <td>-1.920456</td>\n",
       "      <td>2.186851</td>\n",
       "      <td>2.665764</td>\n",
       "    </tr>\n",
       "    <tr>\n",
       "      <th>2000-01-12</th>\n",
       "      <td>-4.569076</td>\n",
       "      <td>-2.027153</td>\n",
       "      <td>2.948362</td>\n",
       "      <td>1.856616</td>\n",
       "    </tr>\n",
       "    <tr>\n",
       "      <th>2000-01-13</th>\n",
       "      <td>-6.557504</td>\n",
       "      <td>-2.459697</td>\n",
       "      <td>2.639440</td>\n",
       "      <td>0.158004</td>\n",
       "    </tr>\n",
       "    <tr>\n",
       "      <th>2000-01-14</th>\n",
       "      <td>-6.980545</td>\n",
       "      <td>-3.528682</td>\n",
       "      <td>3.135503</td>\n",
       "      <td>-0.614801</td>\n",
       "    </tr>\n",
       "    <tr>\n",
       "      <th>2000-01-15</th>\n",
       "      <td>-7.954007</td>\n",
       "      <td>-3.720455</td>\n",
       "      <td>2.635085</td>\n",
       "      <td>-0.657361</td>\n",
       "    </tr>\n",
       "    <tr>\n",
       "      <th>2000-01-16</th>\n",
       "      <td>-9.808631</td>\n",
       "      <td>-4.353724</td>\n",
       "      <td>1.862239</td>\n",
       "      <td>-0.496334</td>\n",
       "    </tr>\n",
       "    <tr>\n",
       "      <th>2000-01-17</th>\n",
       "      <td>-11.486116</td>\n",
       "      <td>-3.991680</td>\n",
       "      <td>0.364143</td>\n",
       "      <td>-0.205352</td>\n",
       "    </tr>\n",
       "    <tr>\n",
       "      <th>2000-01-18</th>\n",
       "      <td>-10.624605</td>\n",
       "      <td>-2.930933</td>\n",
       "      <td>0.475083</td>\n",
       "      <td>-0.310067</td>\n",
       "    </tr>\n",
       "    <tr>\n",
       "      <th>2000-01-19</th>\n",
       "      <td>-8.152395</td>\n",
       "      <td>-2.514322</td>\n",
       "      <td>-2.400179</td>\n",
       "      <td>0.322994</td>\n",
       "    </tr>\n",
       "    <tr>\n",
       "      <th>2000-01-20</th>\n",
       "      <td>-7.572486</td>\n",
       "      <td>-4.465168</td>\n",
       "      <td>-1.004781</td>\n",
       "      <td>1.215454</td>\n",
       "    </tr>\n",
       "    <tr>\n",
       "      <th>2000-01-21</th>\n",
       "      <td>-8.050146</td>\n",
       "      <td>-3.193135</td>\n",
       "      <td>-1.477647</td>\n",
       "      <td>0.380212</td>\n",
       "    </tr>\n",
       "    <tr>\n",
       "      <th>2000-01-22</th>\n",
       "      <td>-7.622327</td>\n",
       "      <td>-3.782072</td>\n",
       "      <td>-1.707215</td>\n",
       "      <td>1.314368</td>\n",
       "    </tr>\n",
       "    <tr>\n",
       "      <th>2000-01-23</th>\n",
       "      <td>-7.146082</td>\n",
       "      <td>-2.545926</td>\n",
       "      <td>-2.651083</td>\n",
       "      <td>1.395237</td>\n",
       "    </tr>\n",
       "    <tr>\n",
       "      <th>2000-01-24</th>\n",
       "      <td>-6.972428</td>\n",
       "      <td>-3.235703</td>\n",
       "      <td>-2.856634</td>\n",
       "      <td>2.404108</td>\n",
       "    </tr>\n",
       "    <tr>\n",
       "      <th>2000-01-25</th>\n",
       "      <td>-6.108400</td>\n",
       "      <td>-3.475927</td>\n",
       "      <td>-3.749033</td>\n",
       "      <td>1.916380</td>\n",
       "    </tr>\n",
       "    <tr>\n",
       "      <th>2000-01-26</th>\n",
       "      <td>-5.234314</td>\n",
       "      <td>-4.103188</td>\n",
       "      <td>-4.283437</td>\n",
       "      <td>1.571003</td>\n",
       "    </tr>\n",
       "    <tr>\n",
       "      <th>2000-01-27</th>\n",
       "      <td>-5.169361</td>\n",
       "      <td>-3.799951</td>\n",
       "      <td>-4.836102</td>\n",
       "      <td>0.656659</td>\n",
       "    </tr>\n",
       "    <tr>\n",
       "      <th>2000-01-28</th>\n",
       "      <td>-6.568495</td>\n",
       "      <td>-1.735832</td>\n",
       "      <td>-5.449235</td>\n",
       "      <td>2.746895</td>\n",
       "    </tr>\n",
       "    <tr>\n",
       "      <th>2000-01-29</th>\n",
       "      <td>-6.420668</td>\n",
       "      <td>-2.940881</td>\n",
       "      <td>-5.968265</td>\n",
       "      <td>2.457317</td>\n",
       "    </tr>\n",
       "    <tr>\n",
       "      <th>2000-01-30</th>\n",
       "      <td>-6.701556</td>\n",
       "      <td>-1.214703</td>\n",
       "      <td>-5.819119</td>\n",
       "      <td>1.179115</td>\n",
       "    </tr>\n",
       "    <tr>\n",
       "      <th>...</th>\n",
       "      <td>...</td>\n",
       "      <td>...</td>\n",
       "      <td>...</td>\n",
       "      <td>...</td>\n",
       "    </tr>\n",
       "    <tr>\n",
       "      <th>2002-08-28</th>\n",
       "      <td>-22.352609</td>\n",
       "      <td>7.027120</td>\n",
       "      <td>-45.183289</td>\n",
       "      <td>72.729005</td>\n",
       "    </tr>\n",
       "    <tr>\n",
       "      <th>2002-08-29</th>\n",
       "      <td>-21.702405</td>\n",
       "      <td>5.843043</td>\n",
       "      <td>-44.704094</td>\n",
       "      <td>73.756434</td>\n",
       "    </tr>\n",
       "    <tr>\n",
       "      <th>2002-08-30</th>\n",
       "      <td>-21.334086</td>\n",
       "      <td>5.994098</td>\n",
       "      <td>-44.381997</td>\n",
       "      <td>71.901567</td>\n",
       "    </tr>\n",
       "    <tr>\n",
       "      <th>2002-08-31</th>\n",
       "      <td>-20.750845</td>\n",
       "      <td>6.805032</td>\n",
       "      <td>-44.242780</td>\n",
       "      <td>72.324806</td>\n",
       "    </tr>\n",
       "    <tr>\n",
       "      <th>2002-09-01</th>\n",
       "      <td>-21.113715</td>\n",
       "      <td>5.792515</td>\n",
       "      <td>-44.434686</td>\n",
       "      <td>71.630783</td>\n",
       "    </tr>\n",
       "    <tr>\n",
       "      <th>2002-09-02</th>\n",
       "      <td>-21.750650</td>\n",
       "      <td>4.658662</td>\n",
       "      <td>-44.942716</td>\n",
       "      <td>71.891006</td>\n",
       "    </tr>\n",
       "    <tr>\n",
       "      <th>2002-09-03</th>\n",
       "      <td>-22.000747</td>\n",
       "      <td>4.645149</td>\n",
       "      <td>-45.710066</td>\n",
       "      <td>70.853844</td>\n",
       "    </tr>\n",
       "    <tr>\n",
       "      <th>2002-09-04</th>\n",
       "      <td>-22.492563</td>\n",
       "      <td>2.752806</td>\n",
       "      <td>-45.122717</td>\n",
       "      <td>70.418068</td>\n",
       "    </tr>\n",
       "    <tr>\n",
       "      <th>2002-09-05</th>\n",
       "      <td>-21.431923</td>\n",
       "      <td>3.004190</td>\n",
       "      <td>-42.188744</td>\n",
       "      <td>70.848448</td>\n",
       "    </tr>\n",
       "    <tr>\n",
       "      <th>2002-09-06</th>\n",
       "      <td>-20.957237</td>\n",
       "      <td>3.357265</td>\n",
       "      <td>-41.371870</td>\n",
       "      <td>71.196737</td>\n",
       "    </tr>\n",
       "    <tr>\n",
       "      <th>2002-09-07</th>\n",
       "      <td>-20.428272</td>\n",
       "      <td>5.040994</td>\n",
       "      <td>-42.227947</td>\n",
       "      <td>70.592623</td>\n",
       "    </tr>\n",
       "    <tr>\n",
       "      <th>2002-09-08</th>\n",
       "      <td>-20.190222</td>\n",
       "      <td>6.128414</td>\n",
       "      <td>-40.909056</td>\n",
       "      <td>71.599979</td>\n",
       "    </tr>\n",
       "    <tr>\n",
       "      <th>2002-09-09</th>\n",
       "      <td>-19.591368</td>\n",
       "      <td>8.754031</td>\n",
       "      <td>-40.772367</td>\n",
       "      <td>69.789571</td>\n",
       "    </tr>\n",
       "    <tr>\n",
       "      <th>2002-09-10</th>\n",
       "      <td>-19.290718</td>\n",
       "      <td>9.911430</td>\n",
       "      <td>-41.413658</td>\n",
       "      <td>70.738739</td>\n",
       "    </tr>\n",
       "    <tr>\n",
       "      <th>2002-09-11</th>\n",
       "      <td>-19.109395</td>\n",
       "      <td>9.294865</td>\n",
       "      <td>-41.701949</td>\n",
       "      <td>72.655125</td>\n",
       "    </tr>\n",
       "    <tr>\n",
       "      <th>2002-09-12</th>\n",
       "      <td>-17.308535</td>\n",
       "      <td>6.583368</td>\n",
       "      <td>-42.981743</td>\n",
       "      <td>73.989988</td>\n",
       "    </tr>\n",
       "    <tr>\n",
       "      <th>2002-09-13</th>\n",
       "      <td>-15.816049</td>\n",
       "      <td>5.932406</td>\n",
       "      <td>-45.900821</td>\n",
       "      <td>74.637468</td>\n",
       "    </tr>\n",
       "    <tr>\n",
       "      <th>2002-09-14</th>\n",
       "      <td>-15.945986</td>\n",
       "      <td>7.550233</td>\n",
       "      <td>-44.625875</td>\n",
       "      <td>75.447842</td>\n",
       "    </tr>\n",
       "    <tr>\n",
       "      <th>2002-09-15</th>\n",
       "      <td>-17.089024</td>\n",
       "      <td>7.941927</td>\n",
       "      <td>-44.751254</td>\n",
       "      <td>76.777649</td>\n",
       "    </tr>\n",
       "    <tr>\n",
       "      <th>2002-09-16</th>\n",
       "      <td>-15.194358</td>\n",
       "      <td>7.170877</td>\n",
       "      <td>-45.077172</td>\n",
       "      <td>77.045589</td>\n",
       "    </tr>\n",
       "    <tr>\n",
       "      <th>2002-09-17</th>\n",
       "      <td>-15.381417</td>\n",
       "      <td>4.944508</td>\n",
       "      <td>-46.356200</td>\n",
       "      <td>75.788737</td>\n",
       "    </tr>\n",
       "    <tr>\n",
       "      <th>2002-09-18</th>\n",
       "      <td>-15.228869</td>\n",
       "      <td>6.255351</td>\n",
       "      <td>-44.915371</td>\n",
       "      <td>75.750087</td>\n",
       "    </tr>\n",
       "    <tr>\n",
       "      <th>2002-09-19</th>\n",
       "      <td>-14.650640</td>\n",
       "      <td>5.269518</td>\n",
       "      <td>-44.018598</td>\n",
       "      <td>77.405234</td>\n",
       "    </tr>\n",
       "    <tr>\n",
       "      <th>2002-09-20</th>\n",
       "      <td>-13.120291</td>\n",
       "      <td>6.337913</td>\n",
       "      <td>-43.559905</td>\n",
       "      <td>77.060681</td>\n",
       "    </tr>\n",
       "    <tr>\n",
       "      <th>2002-09-21</th>\n",
       "      <td>-12.914220</td>\n",
       "      <td>5.358061</td>\n",
       "      <td>-42.142510</td>\n",
       "      <td>77.923584</td>\n",
       "    </tr>\n",
       "    <tr>\n",
       "      <th>2002-09-22</th>\n",
       "      <td>-12.959931</td>\n",
       "      <td>4.788690</td>\n",
       "      <td>-42.118983</td>\n",
       "      <td>79.584575</td>\n",
       "    </tr>\n",
       "    <tr>\n",
       "      <th>2002-09-23</th>\n",
       "      <td>-12.241738</td>\n",
       "      <td>4.269100</td>\n",
       "      <td>-40.900785</td>\n",
       "      <td>78.848476</td>\n",
       "    </tr>\n",
       "    <tr>\n",
       "      <th>2002-09-24</th>\n",
       "      <td>-11.372906</td>\n",
       "      <td>5.348322</td>\n",
       "      <td>-41.342631</td>\n",
       "      <td>79.008802</td>\n",
       "    </tr>\n",
       "    <tr>\n",
       "      <th>2002-09-25</th>\n",
       "      <td>-12.902470</td>\n",
       "      <td>4.987449</td>\n",
       "      <td>-39.524698</td>\n",
       "      <td>77.960018</td>\n",
       "    </tr>\n",
       "    <tr>\n",
       "      <th>2002-09-26</th>\n",
       "      <td>-12.621655</td>\n",
       "      <td>4.077247</td>\n",
       "      <td>-40.724575</td>\n",
       "      <td>77.983997</td>\n",
       "    </tr>\n",
       "  </tbody>\n",
       "</table>\n",
       "<p>1000 rows × 4 columns</p>\n",
       "</div>"
      ],
      "text/plain": [
       "                    A         B          C          D\n",
       "2000-01-01  -1.213072 -1.195637  -0.462508  -0.016682\n",
       "2000-01-02  -0.603731 -1.309983  -0.896668   0.245021\n",
       "2000-01-03  -2.466303  0.377860   0.269221   0.210649\n",
       "2000-01-04  -2.347942 -0.265661   0.544816   0.860220\n",
       "2000-01-05  -0.782951  0.229751   0.224038   0.998969\n",
       "2000-01-06  -1.437936  0.560879   1.618223   2.307376\n",
       "2000-01-07  -2.358557 -2.261325  -0.079693   1.578715\n",
       "2000-01-08  -4.605497 -0.423754  -1.348300   0.839386\n",
       "2000-01-09  -4.151217 -0.222247  -1.065410   1.610209\n",
       "2000-01-10  -3.009593  0.048558   2.614495   1.814005\n",
       "2000-01-11  -2.947886 -1.920456   2.186851   2.665764\n",
       "2000-01-12  -4.569076 -2.027153   2.948362   1.856616\n",
       "2000-01-13  -6.557504 -2.459697   2.639440   0.158004\n",
       "2000-01-14  -6.980545 -3.528682   3.135503  -0.614801\n",
       "2000-01-15  -7.954007 -3.720455   2.635085  -0.657361\n",
       "2000-01-16  -9.808631 -4.353724   1.862239  -0.496334\n",
       "2000-01-17 -11.486116 -3.991680   0.364143  -0.205352\n",
       "2000-01-18 -10.624605 -2.930933   0.475083  -0.310067\n",
       "2000-01-19  -8.152395 -2.514322  -2.400179   0.322994\n",
       "2000-01-20  -7.572486 -4.465168  -1.004781   1.215454\n",
       "2000-01-21  -8.050146 -3.193135  -1.477647   0.380212\n",
       "2000-01-22  -7.622327 -3.782072  -1.707215   1.314368\n",
       "2000-01-23  -7.146082 -2.545926  -2.651083   1.395237\n",
       "2000-01-24  -6.972428 -3.235703  -2.856634   2.404108\n",
       "2000-01-25  -6.108400 -3.475927  -3.749033   1.916380\n",
       "2000-01-26  -5.234314 -4.103188  -4.283437   1.571003\n",
       "2000-01-27  -5.169361 -3.799951  -4.836102   0.656659\n",
       "2000-01-28  -6.568495 -1.735832  -5.449235   2.746895\n",
       "2000-01-29  -6.420668 -2.940881  -5.968265   2.457317\n",
       "2000-01-30  -6.701556 -1.214703  -5.819119   1.179115\n",
       "...               ...       ...        ...        ...\n",
       "2002-08-28 -22.352609  7.027120 -45.183289  72.729005\n",
       "2002-08-29 -21.702405  5.843043 -44.704094  73.756434\n",
       "2002-08-30 -21.334086  5.994098 -44.381997  71.901567\n",
       "2002-08-31 -20.750845  6.805032 -44.242780  72.324806\n",
       "2002-09-01 -21.113715  5.792515 -44.434686  71.630783\n",
       "2002-09-02 -21.750650  4.658662 -44.942716  71.891006\n",
       "2002-09-03 -22.000747  4.645149 -45.710066  70.853844\n",
       "2002-09-04 -22.492563  2.752806 -45.122717  70.418068\n",
       "2002-09-05 -21.431923  3.004190 -42.188744  70.848448\n",
       "2002-09-06 -20.957237  3.357265 -41.371870  71.196737\n",
       "2002-09-07 -20.428272  5.040994 -42.227947  70.592623\n",
       "2002-09-08 -20.190222  6.128414 -40.909056  71.599979\n",
       "2002-09-09 -19.591368  8.754031 -40.772367  69.789571\n",
       "2002-09-10 -19.290718  9.911430 -41.413658  70.738739\n",
       "2002-09-11 -19.109395  9.294865 -41.701949  72.655125\n",
       "2002-09-12 -17.308535  6.583368 -42.981743  73.989988\n",
       "2002-09-13 -15.816049  5.932406 -45.900821  74.637468\n",
       "2002-09-14 -15.945986  7.550233 -44.625875  75.447842\n",
       "2002-09-15 -17.089024  7.941927 -44.751254  76.777649\n",
       "2002-09-16 -15.194358  7.170877 -45.077172  77.045589\n",
       "2002-09-17 -15.381417  4.944508 -46.356200  75.788737\n",
       "2002-09-18 -15.228869  6.255351 -44.915371  75.750087\n",
       "2002-09-19 -14.650640  5.269518 -44.018598  77.405234\n",
       "2002-09-20 -13.120291  6.337913 -43.559905  77.060681\n",
       "2002-09-21 -12.914220  5.358061 -42.142510  77.923584\n",
       "2002-09-22 -12.959931  4.788690 -42.118983  79.584575\n",
       "2002-09-23 -12.241738  4.269100 -40.900785  78.848476\n",
       "2002-09-24 -11.372906  5.348322 -41.342631  79.008802\n",
       "2002-09-25 -12.902470  4.987449 -39.524698  77.960018\n",
       "2002-09-26 -12.621655  4.077247 -40.724575  77.983997\n",
       "\n",
       "[1000 rows x 4 columns]"
      ]
     },
     "execution_count": 88,
     "metadata": {},
     "output_type": "execute_result"
    }
   ],
   "source": [
    "pd.read_excel('foo.xlsx', 'Sheet1', index_col=None, na_values=['NA'])"
   ]
  },
  {
   "cell_type": "markdown",
   "metadata": {},
   "source": [
    "# Gotchas"
   ]
  },
  {
   "cell_type": "markdown",
   "metadata": {},
   "source": [
    "작업을 시도 할 때 다음과 같은 예외가 표시됩니다."
   ]
  },
  {
   "cell_type": "code",
   "execution_count": 89,
   "metadata": {},
   "outputs": [
    {
     "ename": "ValueError",
     "evalue": "The truth value of a Series is ambiguous. Use a.empty, a.bool(), a.item(), a.any() or a.all().",
     "output_type": "error",
     "traceback": [
      "\u001b[1;31m---------------------------------------------------------------------------\u001b[0m",
      "\u001b[1;31mValueError\u001b[0m                                Traceback (most recent call last)",
      "\u001b[1;32m<ipython-input-89-5c782b38cd2f>\u001b[0m in \u001b[0;36m<module>\u001b[1;34m()\u001b[0m\n\u001b[1;32m----> 1\u001b[1;33m \u001b[1;32mif\u001b[0m \u001b[0mpd\u001b[0m\u001b[1;33m.\u001b[0m\u001b[0mSeries\u001b[0m\u001b[1;33m(\u001b[0m\u001b[1;33m[\u001b[0m\u001b[1;32mFalse\u001b[0m\u001b[1;33m,\u001b[0m \u001b[1;32mTrue\u001b[0m\u001b[1;33m,\u001b[0m \u001b[1;32mFalse\u001b[0m\u001b[1;33m]\u001b[0m\u001b[1;33m)\u001b[0m\u001b[1;33m:\u001b[0m\u001b[1;33m\u001b[0m\u001b[0m\n\u001b[0m\u001b[0;32m      2\u001b[0m     \u001b[0mprint\u001b[0m\u001b[1;33m(\u001b[0m\u001b[1;34m\"I was true\"\u001b[0m\u001b[1;33m)\u001b[0m\u001b[1;33m\u001b[0m\u001b[0m\n",
      "\u001b[1;32mC:\\Anaconda3\\envs\\py35\\lib\\site-packages\\pandas\\core\\generic.py\u001b[0m in \u001b[0;36m__nonzero__\u001b[1;34m(self)\u001b[0m\n\u001b[0;32m    951\u001b[0m         raise ValueError(\"The truth value of a {0} is ambiguous. \"\n\u001b[0;32m    952\u001b[0m                          \u001b[1;34m\"Use a.empty, a.bool(), a.item(), a.any() or a.all().\"\u001b[0m\u001b[1;33m\u001b[0m\u001b[0m\n\u001b[1;32m--> 953\u001b[1;33m                          .format(self.__class__.__name__))\n\u001b[0m\u001b[0;32m    954\u001b[0m \u001b[1;33m\u001b[0m\u001b[0m\n\u001b[0;32m    955\u001b[0m     \u001b[0m__bool__\u001b[0m \u001b[1;33m=\u001b[0m \u001b[0m__nonzero__\u001b[0m\u001b[1;33m\u001b[0m\u001b[0m\n",
      "\u001b[1;31mValueError\u001b[0m: The truth value of a Series is ambiguous. Use a.empty, a.bool(), a.item(), a.any() or a.all()."
     ]
    }
   ],
   "source": [
    "if pd.Series([False, True, False]):\n",
    "    print(\"I was true\")"
   ]
  },
  {
   "cell_type": "markdown",
   "metadata": {},
   "source": [
    "도움이 필요하다면 <a href=\"https://pandas.pydata.org/pandas-docs/stable/gotchas.html#gotchas\">Comparisons</a> 및 <a href=\"https://pandas.pydata.org/pandas-docs/stable/gotchas.html#gotchas\">Gotchas</a>를 참고하세요.<br>"
   ]
  }
 ],
 "metadata": {
  "kernelspec": {
   "display_name": "Python 3",
   "language": "python",
   "name": "python3"
  },
  "language_info": {
   "codemirror_mode": {
    "name": "ipython",
    "version": 3
   },
   "file_extension": ".py",
   "mimetype": "text/x-python",
   "name": "python",
   "nbconvert_exporter": "python",
   "pygments_lexer": "ipython3",
   "version": "3.6.5"
  }
 },
 "nbformat": 4,
 "nbformat_minor": 2
}
