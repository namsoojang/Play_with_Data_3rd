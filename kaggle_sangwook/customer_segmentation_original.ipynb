{
 "cells": [
  {
   "cell_type": "markdown",
   "metadata": {
    "_cell_guid": "77841518-29e7-4001-9aeb-6267400da121",
    "_uuid": "baf39e29f412685d42adbf39a6030e5f00255d0d"
   },
   "source": [
    "# Customer segmentation\n",
    "_F. Daniel (September 2017)_\n",
    "____\n",
    "\n",
    "This notebook aims at analyzing the content of an E-commerce database that lists purchases made by $\\sim$4000 customers over a period of one year (from 2010/12/01 to 2011/12/09). Based on this analysis, I develop a model that allows to anticipate the purchases that will be made by a new customer, during the following year and this, from its first purchase. <br>\n",
    "\n",
    "___\n",
    "**Acknowledgement**: many thanks to [J. Abécassis](https://www.kaggle.com/judithabk6) for the advices and help provided during the writing of this notebook \n",
    "___\n",
    "**1. Data Preparation**\n",
    "\n",
    "**2. Exploring the content of variables**\n",
    "\n",
    "   - 2.1 Countries\n",
    "   - 2.2 Customers and products\n",
    "       * 2.2.1 Cancelling orders\n",
    "       * 2.2.2 StockCode\n",
    "       * 2.2.3 Basket price\n",
    "\n",
    "**3. Insight on product categories**\n",
    "\n",
    "   - 3.1 Product description \n",
    "   - 3.2 Defining product categories \n",
    "       * 3.2.1 Data encoding\n",
    "       * 3.2.2 Clusters of products\n",
    "       * 3.2.3 Characterizing the content of clusters\n",
    "   \n",
    "**4. Customer categories**\n",
    "\n",
    "   - 4.1 Formating data\n",
    "       * 4.1.1 Grouping products \n",
    "       * 4.1.2 Time spliting of the dataset\n",
    "       * 4.1.3 Grouping orders \n",
    "   - 4.2 Creating customer categories\n",
    "       * 4.2.1 Data enconding\n",
    "       * 4.2.2 Creating categories\n",
    "\n",
    "**5. Classifying customers**\n",
    "\n",
    "   - 5.1 Support Vector Machine Classifier (SVC)\n",
    "       * 5.1.1 Confusion matrix\n",
    "       * 5.1.2 Leraning curves \n",
    "   - 5.2 Logistic regression \n",
    "   - 5.3 k-Nearest Neighbors\n",
    "   - 5.4 Decision Tree\n",
    "   - 5.5 Random Forest\n",
    "   - 5.6 AdaBoost\n",
    "   - 5.7 Gradient Boosting Classifier\n",
    "   - 5.8 Let's vote !\n",
    "   \n",
    "**6. Testing the predictions**\n",
    "\n",
    "**7. Conclusion**"
   ]
  },
  {
   "cell_type": "markdown",
   "metadata": {
    "_cell_guid": "151b89ad-6783-483e-8cf9-081f23052f7f",
    "_uuid": "b2c01e22363fb1afa2ea2b080659cbfbe0416465"
   },
   "source": [
    "## 1. Data preparation"
   ]
  },
  {
   "cell_type": "markdown",
   "metadata": {
    "_cell_guid": "c2c4a258-c804-4622-9155-b01ac0ee2412",
    "_uuid": "f1bb865aa1a9dfc9906cf6cfdb869f871d82e36e"
   },
   "source": [
    "As a first step, I load all the modules that will be used in this notebook:"
   ]
  },
  {
   "cell_type": "code",
   "execution_count": 2,
   "metadata": {
    "_cell_guid": "705714b1-870b-4f34-b5bf-cd027dafaefe",
    "_kg_hide-input": true,
    "_uuid": "bb40a7b23734d82876d812fab6daecd83a46368c"
   },
   "outputs": [
    {
     "data": {
      "text/html": [
       "<script>requirejs.config({paths: { 'plotly': ['https://cdn.plot.ly/plotly-latest.min']},});if(!window.Plotly) {{require(['plotly'],function(plotly) {window.Plotly=plotly;});}}</script>"
      ],
      "text/vnd.plotly.v1+html": [
       "<script>requirejs.config({paths: { 'plotly': ['https://cdn.plot.ly/plotly-latest.min']},});if(!window.Plotly) {{require(['plotly'],function(plotly) {window.Plotly=plotly;});}}</script>"
      ]
     },
     "metadata": {},
     "output_type": "display_data"
    }
   ],
   "source": [
    "import pandas as pd\n",
    "import numpy as np\n",
    "import matplotlib as mpl\n",
    "import matplotlib.pyplot as plt\n",
    "import seaborn as sns\n",
    "import datetime, nltk, warnings\n",
    "import matplotlib.cm as cm\n",
    "import itertools\n",
    "from pathlib import Path\n",
    "from sklearn.preprocessing import StandardScaler\n",
    "from sklearn.cluster import KMeans\n",
    "from sklearn.metrics import silhouette_samples, silhouette_score\n",
    "from sklearn import preprocessing, model_selection, metrics, feature_selection\n",
    "from sklearn.model_selection import GridSearchCV, learning_curve\n",
    "from sklearn.svm import SVC\n",
    "from sklearn.metrics import confusion_matrix\n",
    "from sklearn import neighbors, linear_model, svm, tree, ensemble\n",
    "from wordcloud import WordCloud, STOPWORDS\n",
    "from sklearn.ensemble import AdaBoostClassifier\n",
    "from sklearn.decomposition import PCA\n",
    "from IPython.display import display, HTML\n",
    "import plotly.graph_objs as go\n",
    "from plotly.offline import init_notebook_mode,iplot\n",
    "init_notebook_mode(connected=True)\n",
    "warnings.filterwarnings(\"ignore\")\n",
    "plt.rcParams[\"patch.force_edgecolor\"] = True\n",
    "plt.style.use('fivethirtyeight')\n",
    "mpl.rc('patch', edgecolor = 'dimgray', linewidth=1)\n",
    "%matplotlib inline"
   ]
  },
  {
   "cell_type": "markdown",
   "metadata": {
    "_cell_guid": "00704161-ee27-45e5-8abe-582799682a6a",
    "_uuid": "9fef0af109df66769564679418201e09990a5dea"
   },
   "source": [
    "Then, I load the data. Once done, I also give some basic informations on the content of the dataframe: the type of the various variables, the number of null values and their percentage with respect to the total number of entries:"
   ]
  },
  {
   "cell_type": "code",
   "execution_count": 3,
   "metadata": {
    "_cell_guid": "1063f9e0-e494-4873-939f-8aa5ca40cc89",
    "_kg_hide-input": true,
    "_uuid": "227fc0cb1d5216d52e057e1d2d7debd0e29abe46",
    "scrolled": false
   },
   "outputs": [
    {
     "name": "stdout",
     "output_type": "stream",
     "text": [
      "Dataframe dimensions: (541909, 8)\n"
     ]
    },
    {
     "data": {
      "text/html": [
       "<div>\n",
       "<style scoped>\n",
       "    .dataframe tbody tr th:only-of-type {\n",
       "        vertical-align: middle;\n",
       "    }\n",
       "\n",
       "    .dataframe tbody tr th {\n",
       "        vertical-align: top;\n",
       "    }\n",
       "\n",
       "    .dataframe thead th {\n",
       "        text-align: right;\n",
       "    }\n",
       "</style>\n",
       "<table border=\"1\" class=\"dataframe\">\n",
       "  <thead>\n",
       "    <tr style=\"text-align: right;\">\n",
       "      <th></th>\n",
       "      <th>InvoiceNo</th>\n",
       "      <th>StockCode</th>\n",
       "      <th>Description</th>\n",
       "      <th>Quantity</th>\n",
       "      <th>InvoiceDate</th>\n",
       "      <th>UnitPrice</th>\n",
       "      <th>CustomerID</th>\n",
       "      <th>Country</th>\n",
       "    </tr>\n",
       "  </thead>\n",
       "  <tbody>\n",
       "    <tr>\n",
       "      <th>column type</th>\n",
       "      <td>object</td>\n",
       "      <td>object</td>\n",
       "      <td>object</td>\n",
       "      <td>int64</td>\n",
       "      <td>datetime64[ns]</td>\n",
       "      <td>float64</td>\n",
       "      <td>object</td>\n",
       "      <td>object</td>\n",
       "    </tr>\n",
       "    <tr>\n",
       "      <th>null values (nb)</th>\n",
       "      <td>0</td>\n",
       "      <td>0</td>\n",
       "      <td>1454</td>\n",
       "      <td>0</td>\n",
       "      <td>0</td>\n",
       "      <td>0</td>\n",
       "      <td>135080</td>\n",
       "      <td>0</td>\n",
       "    </tr>\n",
       "    <tr>\n",
       "      <th>null values (%)</th>\n",
       "      <td>0</td>\n",
       "      <td>0</td>\n",
       "      <td>0.268311</td>\n",
       "      <td>0</td>\n",
       "      <td>0</td>\n",
       "      <td>0</td>\n",
       "      <td>24.9267</td>\n",
       "      <td>0</td>\n",
       "    </tr>\n",
       "  </tbody>\n",
       "</table>\n",
       "</div>"
      ],
      "text/plain": [
       "                 InvoiceNo StockCode Description Quantity     InvoiceDate  \\\n",
       "column type         object    object      object    int64  datetime64[ns]   \n",
       "null values (nb)         0         0        1454        0               0   \n",
       "null values (%)          0         0    0.268311        0               0   \n",
       "\n",
       "                 UnitPrice CustomerID Country  \n",
       "column type        float64     object  object  \n",
       "null values (nb)         0     135080       0  \n",
       "null values (%)          0    24.9267       0  "
      ]
     },
     "metadata": {},
     "output_type": "display_data"
    },
    {
     "data": {
      "text/html": [
       "<div>\n",
       "<style scoped>\n",
       "    .dataframe tbody tr th:only-of-type {\n",
       "        vertical-align: middle;\n",
       "    }\n",
       "\n",
       "    .dataframe tbody tr th {\n",
       "        vertical-align: top;\n",
       "    }\n",
       "\n",
       "    .dataframe thead th {\n",
       "        text-align: right;\n",
       "    }\n",
       "</style>\n",
       "<table border=\"1\" class=\"dataframe\">\n",
       "  <thead>\n",
       "    <tr style=\"text-align: right;\">\n",
       "      <th></th>\n",
       "      <th>InvoiceNo</th>\n",
       "      <th>StockCode</th>\n",
       "      <th>Description</th>\n",
       "      <th>Quantity</th>\n",
       "      <th>InvoiceDate</th>\n",
       "      <th>UnitPrice</th>\n",
       "      <th>CustomerID</th>\n",
       "      <th>Country</th>\n",
       "    </tr>\n",
       "  </thead>\n",
       "  <tbody>\n",
       "    <tr>\n",
       "      <th>0</th>\n",
       "      <td>536365</td>\n",
       "      <td>85123A</td>\n",
       "      <td>WHITE HANGING HEART T-LIGHT HOLDER</td>\n",
       "      <td>6</td>\n",
       "      <td>2010-12-01 08:26:00</td>\n",
       "      <td>2.55</td>\n",
       "      <td>17850</td>\n",
       "      <td>United Kingdom</td>\n",
       "    </tr>\n",
       "    <tr>\n",
       "      <th>1</th>\n",
       "      <td>536365</td>\n",
       "      <td>71053</td>\n",
       "      <td>WHITE METAL LANTERN</td>\n",
       "      <td>6</td>\n",
       "      <td>2010-12-01 08:26:00</td>\n",
       "      <td>3.39</td>\n",
       "      <td>17850</td>\n",
       "      <td>United Kingdom</td>\n",
       "    </tr>\n",
       "    <tr>\n",
       "      <th>2</th>\n",
       "      <td>536365</td>\n",
       "      <td>84406B</td>\n",
       "      <td>CREAM CUPID HEARTS COAT HANGER</td>\n",
       "      <td>8</td>\n",
       "      <td>2010-12-01 08:26:00</td>\n",
       "      <td>2.75</td>\n",
       "      <td>17850</td>\n",
       "      <td>United Kingdom</td>\n",
       "    </tr>\n",
       "    <tr>\n",
       "      <th>3</th>\n",
       "      <td>536365</td>\n",
       "      <td>84029G</td>\n",
       "      <td>KNITTED UNION FLAG HOT WATER BOTTLE</td>\n",
       "      <td>6</td>\n",
       "      <td>2010-12-01 08:26:00</td>\n",
       "      <td>3.39</td>\n",
       "      <td>17850</td>\n",
       "      <td>United Kingdom</td>\n",
       "    </tr>\n",
       "    <tr>\n",
       "      <th>4</th>\n",
       "      <td>536365</td>\n",
       "      <td>84029E</td>\n",
       "      <td>RED WOOLLY HOTTIE WHITE HEART.</td>\n",
       "      <td>6</td>\n",
       "      <td>2010-12-01 08:26:00</td>\n",
       "      <td>3.39</td>\n",
       "      <td>17850</td>\n",
       "      <td>United Kingdom</td>\n",
       "    </tr>\n",
       "  </tbody>\n",
       "</table>\n",
       "</div>"
      ],
      "text/plain": [
       "  InvoiceNo StockCode                          Description  Quantity  \\\n",
       "0    536365    85123A   WHITE HANGING HEART T-LIGHT HOLDER         6   \n",
       "1    536365     71053                  WHITE METAL LANTERN         6   \n",
       "2    536365    84406B       CREAM CUPID HEARTS COAT HANGER         8   \n",
       "3    536365    84029G  KNITTED UNION FLAG HOT WATER BOTTLE         6   \n",
       "4    536365    84029E       RED WOOLLY HOTTIE WHITE HEART.         6   \n",
       "\n",
       "          InvoiceDate  UnitPrice CustomerID         Country  \n",
       "0 2010-12-01 08:26:00       2.55      17850  United Kingdom  \n",
       "1 2010-12-01 08:26:00       3.39      17850  United Kingdom  \n",
       "2 2010-12-01 08:26:00       2.75      17850  United Kingdom  \n",
       "3 2010-12-01 08:26:00       3.39      17850  United Kingdom  \n",
       "4 2010-12-01 08:26:00       3.39      17850  United Kingdom  "
      ]
     },
     "metadata": {},
     "output_type": "display_data"
    }
   ],
   "source": [
    "#__________________\n",
    "# read the datafile\n",
    "df_initial = pd.read_csv('../kaggle_sangwook/data.csv',encoding=\"ISO-8859-1\",\n",
    "                         dtype={'CustomerID': str,'InvoiceID': str})\n",
    "print('Dataframe dimensions:', df_initial.shape)\n",
    "#______\n",
    "df_initial['InvoiceDate'] = pd.to_datetime(df_initial['InvoiceDate'])\n",
    "#____________________________________________________________\n",
    "# gives some infos on columns types and numer of null values\n",
    "tab_info=pd.DataFrame(df_initial.dtypes).T.rename(index={0:'column type'})\n",
    "tab_info=tab_info.append(pd.DataFrame(df_initial.isnull().sum()).T.rename(index={0:'null values (nb)'}))\n",
    "tab_info=tab_info.append(pd.DataFrame(df_initial.isnull().sum()/df_initial.shape[0]*100).T.\n",
    "                         rename(index={0:'null values (%)'}))\n",
    "display(tab_info)\n",
    "#__________________\n",
    "# show first lines\n",
    "display(df_initial[:5])"
   ]
  },
  {
   "cell_type": "markdown",
   "metadata": {
    "_cell_guid": "06c4d159-30b1-49d5-8704-e799e62d920e",
    "_uuid": "0bd74433ee980fa630f68bb213fb73cd2cb9c0f2"
   },
   "source": [
    "While looking at the number of null values in the dataframe, it is interesting to note that $\\sim$25% of the entries are not assigned to a particular customer. With the data available, it is impossible to impute values for the user and these entries are thus useless for the current exercise. So I delete them from the dataframe:"
   ]
  },
  {
   "cell_type": "code",
   "execution_count": null,
   "metadata": {
    "_cell_guid": "f9de6b67-a588-43ab-8f51-b28efdee9e32",
    "_kg_hide-input": true,
    "_uuid": "9b915fa18b311e8f93ac862bd49d08d90e03ca48",
    "collapsed": true
   },
   "outputs": [],
   "source": [
    "df_initial.dropna(axis = 0, subset = ['CustomerID'], inplace = True)\n",
    "print('Dataframe dimensions:', df_initial.shape)\n",
    "#____________________________________________________________\n",
    "# gives some infos on columns types and numer of null values\n",
    "tab_info=pd.DataFrame(df_initial.dtypes).T.rename(index={0:'column type'})\n",
    "tab_info=tab_info.append(pd.DataFrame(df_initial.isnull().sum()).T.rename(index={0:'null values (nb)'}))\n",
    "tab_info=tab_info.append(pd.DataFrame(df_initial.isnull().sum()/df_initial.shape[0]*100).T.\n",
    "                         rename(index={0:'null values (%)'}))\n",
    "display(tab_info)"
   ]
  },
  {
   "cell_type": "markdown",
   "metadata": {
    "_cell_guid": "ebbe5646-3bb8-41fa-a723-ceca20d23305",
    "_uuid": "7ac7f800756405f801d09d290624c0767a3b5ef6"
   },
   "source": [
    "OK, therefore, by removing these entries we end up with a dataframe filled at 100% for all variables! Finally, I check for duplicate entries and delete them:"
   ]
  },
  {
   "cell_type": "code",
   "execution_count": null,
   "metadata": {
    "_cell_guid": "baf1ff2e-646b-468b-b7b4-68343f388387",
    "_uuid": "6b988d1dee3deecafd54f2b3555d1f84b509d213",
    "collapsed": true
   },
   "outputs": [],
   "source": [
    "print('Entrées dupliquées: {}'.format(df_initial.duplicated().sum()))\n",
    "df_initial.drop_duplicates(inplace = True)"
   ]
  },
  {
   "cell_type": "markdown",
   "metadata": {
    "_cell_guid": "ba32e71f-0e94-4d44-81cf-8409d644fc8b",
    "_uuid": "bd5c8b02bb28eaa95b66c941143794440e4ef53b"
   },
   "source": [
    "___\n",
    "## 2. Exploring the content of variables\n",
    "\n",
    "This dataframe contains 8 variables that correspond to: \n",
    "\n",
    "**InvoiceNo**: Invoice number. Nominal, a 6-digit integral number uniquely assigned to each transaction. If this code starts with letter 'c', it indicates a cancellation.  <br>\n",
    "**StockCode**: Product (item) code. Nominal, a 5-digit integral number uniquely assigned to each distinct product. <br>\n",
    "**Description**: Product (item) name. Nominal. <br>\n",
    "**Quantity**: The quantities of each product (item) per transaction. Numeric.\t<br>\n",
    "**InvoiceDate**: Invice Date and time. Numeric, the day and time when each transaction was generated. <br>\n",
    "**UnitPrice**: Unit price. Numeric, Product price per unit in sterling. <br>\n",
    "**CustomerID**: Customer number. Nominal, a 5-digit integral number uniquely assigned to each customer. <br>\n",
    "**Country**: Country name. Nominal, the name of the country where each customer resides.<br>\n",
    "\n",
    "___\n",
    "### 2.1 Countries"
   ]
  },
  {
   "cell_type": "markdown",
   "metadata": {
    "_cell_guid": "cd84a8f6-4ee5-43f1-bf29-6a0b38cbc545",
    "_uuid": "f43c23fe62b4183bbe9ee4beb1759f6c9802b15c"
   },
   "source": [
    "Here, I quickly look at the countries from which orders were made:"
   ]
  },
  {
   "cell_type": "code",
   "execution_count": null,
   "metadata": {
    "_cell_guid": "44abc17d-8858-457a-94e1-f012143fda87",
    "_kg_hide-input": true,
    "_uuid": "c4141f12a8b2c733539a75d398cadf0817ca0969",
    "collapsed": true
   },
   "outputs": [],
   "source": [
    "temp = df_initial[['CustomerID', 'InvoiceNo', 'Country']].groupby(['CustomerID', 'InvoiceNo', 'Country']).count()\n",
    "temp = temp.reset_index(drop = False)\n",
    "countries = temp['Country'].value_counts()\n",
    "print('Nb. de pays dans le dataframe: {}'.format(len(countries)))"
   ]
  },
  {
   "cell_type": "markdown",
   "metadata": {
    "_cell_guid": "f4e80201-fe50-4668-9d71-8b820e3f483e",
    "_uuid": "f9a0565eeb7b4c3dc802ebe9c4b810d8b938a3f7"
   },
   "source": [
    "and show the result on a chloropleth map:"
   ]
  },
  {
   "cell_type": "code",
   "execution_count": null,
   "metadata": {
    "_cell_guid": "993e237f-8fbc-47b6-a2f9-6418a7221f07",
    "_kg_hide-input": true,
    "_uuid": "7b84b31aa58c137c8bb05fe5a3ebcb791b13100b",
    "collapsed": true
   },
   "outputs": [],
   "source": [
    "data = dict(type='choropleth',\n",
    "locations = countries.index,\n",
    "locationmode = 'country names', z = countries,\n",
    "text = countries.index, colorbar = {'title':'Order nb.'},\n",
    "colorscale=[[0, 'rgb(224,255,255)'],\n",
    "            [0.01, 'rgb(166,206,227)'], [0.02, 'rgb(31,120,180)'],\n",
    "            [0.03, 'rgb(178,223,138)'], [0.05, 'rgb(51,160,44)'],\n",
    "            [0.10, 'rgb(251,154,153)'], [0.20, 'rgb(255,255,0)'],\n",
    "            [1, 'rgb(227,26,28)']],    \n",
    "reversescale = False)\n",
    "#_______________________\n",
    "layout = dict(title='Number of orders per country',\n",
    "geo = dict(showframe = True, projection={'type':'mercator'}))\n",
    "#______________\n",
    "choromap = go.Figure(data = [data], layout = layout)\n",
    "iplot(choromap, validate=False)"
   ]
  },
  {
   "cell_type": "markdown",
   "metadata": {
    "_cell_guid": "a0a41461-7f22-4ca8-bc97-5aba4249dde7",
    "_uuid": "7a29044f1d76c8fb064a3262f5877ab27673a836"
   },
   "source": [
    "We see that the dataset is largely dominated by orders made from the UK.\n",
    "\n",
    "___\n",
    "### 2.2 Customers and products\n",
    "\n",
    "The dataframe contains $\\sim$400,000 entries. What are the number of users and products in these entries ?"
   ]
  },
  {
   "cell_type": "code",
   "execution_count": null,
   "metadata": {
    "_cell_guid": "677f103d-d199-480c-bca4-fc08f7aa2e92",
    "_kg_hide-input": true,
    "_uuid": "dc2f4b48b76615721e6718efbd31fcd3faf16bec",
    "collapsed": true
   },
   "outputs": [],
   "source": [
    "pd.DataFrame([{'products': len(df_initial['StockCode'].value_counts()),    \n",
    "               'transactions': len(df_initial['InvoiceNo'].value_counts()),\n",
    "               'customers': len(df_initial['CustomerID'].value_counts()),  \n",
    "              }], columns = ['products', 'transactions', 'customers'], index = ['quantity'])"
   ]
  },
  {
   "cell_type": "markdown",
   "metadata": {
    "_cell_guid": "22a37aef-ac7c-4369-ac7e-14d4d221fb36",
    "_uuid": "6aac31ab7152f883a9fe5f67624a75ba2d6111c2"
   },
   "source": [
    "It can be seen that the data concern 4372 users and that they bought 3684 different products. The total number of transactions carried out is of the order of $\\sim$22'000.\n",
    "\n",
    "Now I will determine the number of products purchased in every transaction:"
   ]
  },
  {
   "cell_type": "code",
   "execution_count": null,
   "metadata": {
    "_cell_guid": "72d6dede-4280-4afd-b61b-085ea8c73d67",
    "_kg_hide-input": true,
    "_uuid": "dd0d84bd4275a04e361b5b41924d11b7f6f2e9ff",
    "collapsed": true
   },
   "outputs": [],
   "source": [
    "temp = df_initial.groupby(by=['CustomerID', 'InvoiceNo'], as_index=False)['InvoiceDate'].count()\n",
    "nb_products_per_basket = temp.rename(columns = {'InvoiceDate':'Number of products'})\n",
    "nb_products_per_basket[:10].sort_values('CustomerID')"
   ]
  },
  {
   "cell_type": "markdown",
   "metadata": {
    "_cell_guid": "ac04f52f-3847-400b-abc8-2e04a4145ac8",
    "_uuid": "b4d634aa7a7a44548f5e20d4c84c9c5b16e3b5a7"
   },
   "source": [
    "The first lines of this list shows several things worthy of interest:\n",
    "- the existence of entries with the prefix C for the **InvoiceNo** variable: this indicates transactions that have been canceled\n",
    "- the existence of users who only came once and only purchased one product (e.g. nº12346)\n",
    "- the existence of frequent users that buy a large number of items at each order\n",
    "\n",
    "___\n",
    "#### 2.2.1 Cancelling orders\n",
    "\n",
    "First of all, I count the number of transactions corresponding to canceled orders:"
   ]
  },
  {
   "cell_type": "code",
   "execution_count": null,
   "metadata": {
    "_cell_guid": "9b0e32d8-fc9c-4301-ac18-9c1d7cc5b54f",
    "_kg_hide-input": true,
    "_uuid": "076fba25ed8a2b38fddd83ff862fa21e7f790a11",
    "collapsed": true
   },
   "outputs": [],
   "source": [
    "nb_products_per_basket['order_canceled'] = nb_products_per_basket['InvoiceNo'].apply(lambda x:int('C' in x))\n",
    "display(nb_products_per_basket[:5])\n",
    "#______________________________________________________________________________________________\n",
    "n1 = nb_products_per_basket['order_canceled'].sum()\n",
    "n2 = nb_products_per_basket.shape[0]\n",
    "print('Number of orders canceled: {}/{} ({:.2f}%) '.format(n1, n2, n1/n2*100))"
   ]
  },
  {
   "cell_type": "markdown",
   "metadata": {
    "_cell_guid": "7f7e8633-b8c2-4c20-a4ad-7abccb17ae91",
    "_uuid": "8bfcf5e4bf4dc23e54537f254605792677d3a6b4"
   },
   "source": [
    "We note that the number of cancellations is quite large ($\\sim$16% of the total number of transactions).\n",
    "Now, let's look at the first lines of the dataframe:"
   ]
  },
  {
   "cell_type": "code",
   "execution_count": null,
   "metadata": {
    "_cell_guid": "2f985d42-e0b9-4281-8f30-43c2c13955b9",
    "_kg_hide-input": true,
    "_uuid": "54f5b8a4bc832c1c396419223f43c41b9b0b27de",
    "collapsed": true,
    "scrolled": true
   },
   "outputs": [],
   "source": [
    "display(df_initial.sort_values('CustomerID')[:5])"
   ]
  },
  {
   "cell_type": "markdown",
   "metadata": {
    "_cell_guid": "20b14506-af29-4cab-b864-889fc965038d",
    "_uuid": "ee086333ddbb28cb24784ef8a000f6d54607ceec"
   },
   "source": [
    "On these few lines, we see that when an order is canceled, we have another transactions in the dataframe, mostly identical except for the **Quantity** and **InvoiceDate** variables. I decide to check if this is true for all the entries.\n",
    "To do this, I decide to locate the entries that indicate a negative quantity and check if there is *systematically* an order indicating the same quantity (but positive), with the same description (**CustomerID**, **Description** and **UnitPrice**):"
   ]
  },
  {
   "cell_type": "code",
   "execution_count": null,
   "metadata": {
    "_cell_guid": "06e26580-014e-432d-ab59-b5ceebb816cb",
    "_kg_hide-input": false,
    "_uuid": "b16ddfdd36696a4a92ba15acd387e7eca0757f31",
    "collapsed": true,
    "scrolled": true
   },
   "outputs": [],
   "source": [
    "df_check = df_initial[df_initial['Quantity'] < 0][['CustomerID','Quantity',\n",
    "                                                   'StockCode','Description','UnitPrice']]\n",
    "for index, col in  df_check.iterrows():\n",
    "    if df_initial[(df_initial['CustomerID'] == col[0]) & (df_initial['Quantity'] == -col[1]) \n",
    "                & (df_initial['Description'] == col[2])].shape[0] == 0: \n",
    "        print(df_check.loc[index])\n",
    "        print(15*'-'+'>'+' HYPOTHESIS NOT FULFILLED')\n",
    "        break"
   ]
  },
  {
   "cell_type": "markdown",
   "metadata": {
    "_cell_guid": "e065546a-ff34-4caf-9abf-6384bcc918b9",
    "_uuid": "83d37e6f13986f01c0fbcc8ea4f46cdc175717c4",
    "collapsed": true
   },
   "source": [
    "We see that the initial hypothesis is not fulfilled because of the existence of a  '_Discount_' entry. I check again the hypothesis but this time discarding the '_Discount_' entries:"
   ]
  },
  {
   "cell_type": "code",
   "execution_count": null,
   "metadata": {
    "_cell_guid": "50c6589e-4387-4a3e-a1ea-18bee5bb1dba",
    "_kg_hide-input": true,
    "_uuid": "3b375d17a84505d71b20dbbc43124aa6597a2ef2",
    "collapsed": true
   },
   "outputs": [],
   "source": [
    "df_check = df_initial[(df_initial['Quantity'] < 0) & (df_initial['Description'] != 'Discount')][\n",
    "                                 ['CustomerID','Quantity','StockCode',\n",
    "                                  'Description','UnitPrice']]\n",
    "\n",
    "for index, col in  df_check.iterrows():\n",
    "    if df_initial[(df_initial['CustomerID'] == col[0]) & (df_initial['Quantity'] == -col[1]) \n",
    "                & (df_initial['Description'] == col[2])].shape[0] == 0: \n",
    "        print(index, df_check.loc[index])\n",
    "        print(15*'-'+'>'+' HYPOTHESIS NOT FULFILLED')\n",
    "        break"
   ]
  },
  {
   "cell_type": "markdown",
   "metadata": {
    "_cell_guid": "b232cb1a-9e6c-4b7f-a5de-20ba11fba831",
    "_uuid": "dc9557049aa783c30121902d359f57204e7de83b"
   },
   "source": [
    "Once more, we find that the initial hypothesis is not verified. Hence, cancellations do not necessarily correspond to orders that would have been made beforehand.\n",
    "\n",
    "At this point, I decide to create a new variable in the dataframe that indicate if part of the command has been canceled. For the cancellations without counterparts, a few of them are probably due to the fact that the buy orders were  performed before December 2010 (the point of entry of the database). Below, I make a census of the cancel orders and check for the existence of counterparts:"
   ]
  },
  {
   "cell_type": "code",
   "execution_count": null,
   "metadata": {
    "_cell_guid": "af540729-739b-45b3-858f-f1facf9f8ae6",
    "_kg_hide-input": true,
    "_uuid": "6f5c10794e09eb3d0dc83889d74b2029d6d24756",
    "collapsed": true
   },
   "outputs": [],
   "source": [
    "df_cleaned = df_initial.copy(deep = True)\n",
    "df_cleaned['QuantityCanceled'] = 0\n",
    "\n",
    "entry_to_remove = [] ; doubtfull_entry = []\n",
    "\n",
    "for index, col in  df_initial.iterrows():\n",
    "    if (col['Quantity'] > 0) or col['Description'] == 'Discount': continue        \n",
    "    df_test = df_initial[(df_initial['CustomerID'] == col['CustomerID']) &\n",
    "                         (df_initial['StockCode']  == col['StockCode']) & \n",
    "                         (df_initial['InvoiceDate'] < col['InvoiceDate']) & \n",
    "                         (df_initial['Quantity']   > 0)].copy()\n",
    "    #_________________________________\n",
    "    # Cancelation WITHOUT counterpart\n",
    "    if (df_test.shape[0] == 0): \n",
    "        doubtfull_entry.append(index)\n",
    "    #________________________________\n",
    "    # Cancelation WITH a counterpart\n",
    "    elif (df_test.shape[0] == 1): \n",
    "        index_order = df_test.index[0]\n",
    "        df_cleaned.loc[index_order, 'QuantityCanceled'] = -col['Quantity']\n",
    "        entry_to_remove.append(index)        \n",
    "    #______________________________________________________________\n",
    "    # Various counterparts exist in orders: we delete the last one\n",
    "    elif (df_test.shape[0] > 1): \n",
    "        df_test.sort_index(axis=0 ,ascending=False, inplace = True)        \n",
    "        for ind, val in df_test.iterrows():\n",
    "            if val['Quantity'] < -col['Quantity']: continue\n",
    "            df_cleaned.loc[ind, 'QuantityCanceled'] = -col['Quantity']\n",
    "            entry_to_remove.append(index) \n",
    "            break            "
   ]
  },
  {
   "cell_type": "markdown",
   "metadata": {
    "_cell_guid": "12036cff-e84f-462f-9e86-adcebe689f9e",
    "_uuid": "4203ea85f7c6a8e23771d2996ece331b2a8828aa"
   },
   "source": [
    "In the above function, I checked the two cases:\n",
    "1. a cancel order exists without counterpart\n",
    "2. there's at least one counterpart with the exact same quantity\n",
    "\n",
    "The index of the corresponding cancel order are respectively kept in the `doubtfull_entry` and `entry_to_remove` lists whose sizes are:"
   ]
  },
  {
   "cell_type": "code",
   "execution_count": null,
   "metadata": {
    "_cell_guid": "f1d3a68d-fa59-4671-8be1-cdbb646ce13f",
    "_kg_hide-input": true,
    "_uuid": "d98a0917de35db7afe31c69c324cd32e934edd52",
    "collapsed": true,
    "scrolled": true
   },
   "outputs": [],
   "source": [
    "print(\"entry_to_remove: {}\".format(len(entry_to_remove)))\n",
    "print(\"doubtfull_entry: {}\".format(len(doubtfull_entry)))"
   ]
  },
  {
   "cell_type": "markdown",
   "metadata": {
    "_cell_guid": "08834967-7eb6-4972-8dd1-7c985037207f",
    "_uuid": "41d331ab413c1a28adcf49f83dbb5600dec75a34"
   },
   "source": [
    "Among these entries, the lines listed in the * doubtfull_entry * list correspond to the entries indicating a cancellation but for which there is no command beforehand. In practice, I decide to delete all of these entries, which count respectively for  $\\sim$1.4% and 0.2% of the dataframe entries.\n",
    "\n",
    "Now I check the number of entries that correspond to cancellations and that have not been deleted with the previous filter:"
   ]
  },
  {
   "cell_type": "code",
   "execution_count": null,
   "metadata": {
    "_cell_guid": "50f6c074-08cc-4c55-8285-d674d0d84b45",
    "_kg_hide-input": true,
    "_uuid": "c523275748742927f689725305e90ae6fdeb4136",
    "collapsed": true
   },
   "outputs": [],
   "source": [
    "df_cleaned.drop(entry_to_remove, axis = 0, inplace = True)\n",
    "df_cleaned.drop(doubtfull_entry, axis = 0, inplace = True)\n",
    "remaining_entries = df_cleaned[(df_cleaned['Quantity'] < 0) & (df_cleaned['StockCode'] != 'D')]\n",
    "print(\"nb of entries to delete: {}\".format(remaining_entries.shape[0]))\n",
    "remaining_entries[:5]"
   ]
  },
  {
   "cell_type": "markdown",
   "metadata": {
    "_cell_guid": "b7236f60-519c-47b3-a48a-90c90a8a0d99",
    "_uuid": "7de45401e2c874a5b35601d2d678fe21099c0c9c"
   },
   "source": [
    "If one looks, for example, at the purchases of the consumer of one of the above entries and corresponding to the same product as that of the cancellation, one observes:"
   ]
  },
  {
   "cell_type": "code",
   "execution_count": null,
   "metadata": {
    "_cell_guid": "86494812-a35a-49a8-a80d-5b2ef3b0913f",
    "_uuid": "5ded98b83a85e0fd038b1a5c5edb67d7773d41ee",
    "collapsed": true,
    "scrolled": true
   },
   "outputs": [],
   "source": [
    "df_cleaned[(df_cleaned['CustomerID'] == 14048) & (df_cleaned['StockCode'] == '22464')]"
   ]
  },
  {
   "cell_type": "markdown",
   "metadata": {
    "_cell_guid": "840a05b8-da31-4a61-ba85-d26050ea7224",
    "_uuid": "ecf714d564214e6614fb604566b14d60e174a076"
   },
   "source": [
    "We see that the quantity canceled is greater than the sum of the previous purchases.\n",
    "___\n",
    "#### 2.2.2 StockCode\n",
    "\n",
    "Above, it has been seen that some values of the ** StockCode ** variable indicate a particular transaction (i.e. D for _Discount_). I check the contents of this variable by looking for the set of codes that would contain only letters:"
   ]
  },
  {
   "cell_type": "code",
   "execution_count": null,
   "metadata": {
    "_cell_guid": "e00212c8-5c1e-4dda-a392-cbc68c1964b1",
    "_kg_hide-input": true,
    "_uuid": "57e546917a0ea9a59a0e1dc3e0f9179c7efa66b5",
    "collapsed": true,
    "scrolled": true
   },
   "outputs": [],
   "source": [
    "list_special_codes = df_cleaned[df_cleaned['StockCode'].str.contains('^[a-zA-Z]+', regex=True)]['StockCode'].unique()\n",
    "list_special_codes"
   ]
  },
  {
   "cell_type": "code",
   "execution_count": null,
   "metadata": {
    "_cell_guid": "0a225335-7d6e-4c5b-a874-801e3f329f10",
    "_kg_hide-input": true,
    "_uuid": "ce078be30fea360c161b449a8cb666d98808e936",
    "collapsed": true
   },
   "outputs": [],
   "source": [
    "for code in list_special_codes:\n",
    "    print(\"{:<15} -> {:<30}\".format(code, df_cleaned[df_cleaned['StockCode'] == code]['Description'].unique()[0]))"
   ]
  },
  {
   "cell_type": "markdown",
   "metadata": {
    "_cell_guid": "bc5a1aa1-9861-4f24-a40d-8a989412c9b9",
    "_uuid": "d4cf73dade342afadb96645a654171064c0426ba"
   },
   "source": [
    "We see that there are several types of peculiar transactions, connected e.g. to port charges or bank charges.\n",
    "\n",
    "\n",
    "___\n",
    "#### 2.2.3 Basket Price"
   ]
  },
  {
   "cell_type": "markdown",
   "metadata": {
    "_cell_guid": "d6fb4195-7261-4a24-852c-c69ca70b8575",
    "_uuid": "7c55e84eca46fad51da589f165775174dbc49d90"
   },
   "source": [
    "I create a new variable that indicates the total price of every purchase:"
   ]
  },
  {
   "cell_type": "code",
   "execution_count": null,
   "metadata": {
    "_cell_guid": "3cbf20c0-0a44-49dc-96c3-ffd5455ddf0b",
    "_kg_hide-input": true,
    "_uuid": "5f070241e41d989ed3de0769d9f35f330d086415",
    "collapsed": true
   },
   "outputs": [],
   "source": [
    "df_cleaned['TotalPrice'] = df_cleaned['UnitPrice'] * (df_cleaned['Quantity'] - df_cleaned['QuantityCanceled'])\n",
    "df_cleaned.sort_values('CustomerID')[:5]"
   ]
  },
  {
   "cell_type": "markdown",
   "metadata": {
    "_cell_guid": "e08daf34-d2ad-48fd-b9e4-066571a21a9e",
    "_uuid": "fc8d7023bde00aa28d265f3c2c8ff62b0010ae58"
   },
   "source": [
    "Each entry of the dataframe indicates prizes for a single kind of product. Hence, orders are split on several lines. I collect all the purchases made during a single order to recover the total order prize:"
   ]
  },
  {
   "cell_type": "code",
   "execution_count": null,
   "metadata": {
    "_cell_guid": "5e4530b2-addf-4dc7-9ca8-065c26b73023",
    "_kg_hide-input": true,
    "_uuid": "653fd7be2e985cf4578af4306f40948926fb60b3",
    "collapsed": true
   },
   "outputs": [],
   "source": [
    "#___________________________________________\n",
    "# somme des achats / utilisateur & commande\n",
    "temp = df_cleaned.groupby(by=['CustomerID', 'InvoiceNo'], as_index=False)['TotalPrice'].sum()\n",
    "basket_price = temp.rename(columns = {'TotalPrice':'Basket Price'})\n",
    "#_____________________\n",
    "# date de la commande\n",
    "df_cleaned['InvoiceDate_int'] = df_cleaned['InvoiceDate'].astype('int64')\n",
    "temp = df_cleaned.groupby(by=['CustomerID', 'InvoiceNo'], as_index=False)['InvoiceDate_int'].mean()\n",
    "df_cleaned.drop('InvoiceDate_int', axis = 1, inplace = True)\n",
    "basket_price.loc[:, 'InvoiceDate'] = pd.to_datetime(temp['InvoiceDate_int'])\n",
    "#______________________________________\n",
    "# selection des entrées significatives:\n",
    "basket_price = basket_price[basket_price['Basket Price'] > 0]\n",
    "basket_price.sort_values('CustomerID')[:6]"
   ]
  },
  {
   "cell_type": "markdown",
   "metadata": {
    "_cell_guid": "25044f79-9cef-464a-9b7c-59eec5dac316",
    "_uuid": "2365eaa0e1a3d4d505f7261c8139e04f276301eb"
   },
   "source": [
    "In order to have a global view of the type of order performed in this dataset, I determine how the purchases are divided according to total prizes:"
   ]
  },
  {
   "cell_type": "code",
   "execution_count": null,
   "metadata": {
    "_cell_guid": "25f72313-bc56-4a10-99b1-243f147b1756",
    "_kg_hide-input": true,
    "_uuid": "b1b30be7aa80d7a5287e6fd783b5d8cdbff4032d",
    "collapsed": true
   },
   "outputs": [],
   "source": [
    "#____________________\n",
    "# Décompte des achats\n",
    "price_range = [0, 50, 100, 200, 500, 1000, 5000, 50000]\n",
    "count_price = []\n",
    "for i, price in enumerate(price_range):\n",
    "    if i == 0: continue\n",
    "    val = basket_price[(basket_price['Basket Price'] < price) &\n",
    "                       (basket_price['Basket Price'] > price_range[i-1])]['Basket Price'].count()\n",
    "    count_price.append(val)\n",
    "#____________________________________________\n",
    "# Représentation du nombre d'achats / montant        \n",
    "plt.rc('font', weight='bold')\n",
    "f, ax = plt.subplots(figsize=(11, 6))\n",
    "colors = ['yellowgreen', 'gold', 'wheat', 'c', 'violet', 'royalblue','firebrick']\n",
    "labels = [ '{}<.<{}'.format(price_range[i-1], s) for i,s in enumerate(price_range) if i != 0]\n",
    "sizes  = count_price\n",
    "explode = [0.0 if sizes[i] < 100 else 0.0 for i in range(len(sizes))]\n",
    "ax.pie(sizes, explode = explode, labels=labels, colors = colors,\n",
    "       autopct = lambda x:'{:1.0f}%'.format(x) if x > 1 else '',\n",
    "       shadow = False, startangle=0)\n",
    "ax.axis('equal')\n",
    "f.text(0.5, 1.01, \"Répartition des montants des commandes\", ha='center', fontsize = 18);"
   ]
  },
  {
   "cell_type": "markdown",
   "metadata": {
    "_cell_guid": "81a3ca3c-32f5-4f57-aa54-182d779a5cba",
    "_uuid": "4864a5c03f9a66bff72599c2ff348157e53c4d7c"
   },
   "source": [
    "It can be seen that the vast majority of orders concern relatively large purchases given that $\\sim$65% of purchases give prizes in excess of £ 200.\n",
    "\n",
    "____\n",
    "## 3. Insight on product categories\n",
    "\n",
    "In the dataframe, products are uniquely identified through the **StockCode** variable. A shrort description of the products is given in the **Description** variable. In this section, I intend to use the content of this latter variable in order to group the products into different categories.\n",
    "\n",
    "___\n",
    "### 3.1 Products Description\n",
    "\n",
    "As a first step, I extract from the **Description** variable the information that will prove useful. To do this, I use the following function:"
   ]
  },
  {
   "cell_type": "code",
   "execution_count": null,
   "metadata": {
    "_cell_guid": "62aada7f-1d61-493e-a044-08fcc7bdfb81",
    "_kg_hide-input": true,
    "_uuid": "4ae364672f6cede623fd0e032e34d967e4f32ee1",
    "collapsed": true
   },
   "outputs": [],
   "source": [
    "is_noun = lambda pos: pos[:2] == 'NN'\n",
    "\n",
    "def keywords_inventory(dataframe, colonne = 'Description'):\n",
    "    stemmer = nltk.stem.SnowballStemmer(\"english\")\n",
    "    keywords_roots  = dict()  # collect the words / root\n",
    "    keywords_select = dict()  # association: root <-> keyword\n",
    "    category_keys   = []\n",
    "    count_keywords  = dict()\n",
    "    icount = 0\n",
    "    for s in dataframe[colonne]:\n",
    "        if pd.isnull(s): continue\n",
    "        lines = s.lower()\n",
    "        tokenized = nltk.word_tokenize(lines)\n",
    "        nouns = [word for (word, pos) in nltk.pos_tag(tokenized) if is_noun(pos)] \n",
    "        \n",
    "        for t in nouns:\n",
    "            t = t.lower() ; racine = stemmer.stem(t)\n",
    "            if racine in keywords_roots:                \n",
    "                keywords_roots[racine].add(t)\n",
    "                count_keywords[racine] += 1                \n",
    "            else:\n",
    "                keywords_roots[racine] = {t}\n",
    "                count_keywords[racine] = 1\n",
    "    \n",
    "    for s in keywords_roots.keys():\n",
    "        if len(keywords_roots[s]) > 1:  \n",
    "            min_length = 1000\n",
    "            for k in keywords_roots[s]:\n",
    "                if len(k) < min_length:\n",
    "                    clef = k ; min_length = len(k)            \n",
    "            category_keys.append(clef)\n",
    "            keywords_select[s] = clef\n",
    "        else:\n",
    "            category_keys.append(list(keywords_roots[s])[0])\n",
    "            keywords_select[s] = list(keywords_roots[s])[0]\n",
    "                   \n",
    "    print(\"Nb of keywords in variable '{}': {}\".format(colonne,len(category_keys)))\n",
    "    return category_keys, keywords_roots, keywords_select, count_keywords"
   ]
  },
  {
   "cell_type": "markdown",
   "metadata": {
    "_cell_guid": "309b7a7d-7643-42b1-a31a-7d89ee7599fb",
    "_uuid": "6b0912baaab28d1f50a54dc5300c3391aa676424"
   },
   "source": [
    "This function takes as input the dataframe and analyzes the content of the **Description** column by performing the following operations:\n",
    "\n",
    "- extract the names (proper, common) appearing in the products description\n",
    "- for each name, I extract the root of the word and aggregate the set of names associated with this particular root\n",
    "- count the number of times each root appears in the dataframe\n",
    "- when several words are listed for the same root, I consider that the keyword associated with this root is the shortest name (this systematically selects the singular when there are singular/plural variants)\n",
    "\n",
    "The first step of the analysis is to retrieve the list of products:"
   ]
  },
  {
   "cell_type": "code",
   "execution_count": null,
   "metadata": {
    "_cell_guid": "f4da3052-c465-47bf-9652-a10a8ac51eb6",
    "_kg_hide-input": true,
    "_uuid": "1239a65ae122b1c020db626e5167451a950d8226",
    "collapsed": true
   },
   "outputs": [],
   "source": [
    "df_produits = pd.DataFrame(df_initial['Description'].unique()).rename(columns = {0:'Description'})"
   ]
  },
  {
   "cell_type": "markdown",
   "metadata": {
    "_cell_guid": "99e7be34-0776-4834-8563-a3921307eca8",
    "_uuid": "2c928de8c651e41413c0196efda0b6f71cd26993"
   },
   "source": [
    "Once this list is created, I use the function I previously defined in order to analyze the description of the various products:"
   ]
  },
  {
   "cell_type": "code",
   "execution_count": null,
   "metadata": {
    "_cell_guid": "f52a4134-c9c7-4d17-8510-8f55b1530cbb",
    "_kg_hide-input": true,
    "_uuid": "38c4872616b2c40bf69982070165cc9db3d0ea69",
    "collapsed": true
   },
   "outputs": [],
   "source": [
    "keywords, keywords_roots, keywords_select, count_keywords = keywords_inventory(df_produits)"
   ]
  },
  {
   "cell_type": "markdown",
   "metadata": {
    "_cell_guid": "e05fb8ef-6735-4a62-9161-8bd11f34ba1f",
    "_uuid": "5d664ec4f8c3239f9bf2f4f8ab6a2ec6bfd46edb"
   },
   "source": [
    "The execution of this function returns three variables:\n",
    "- `keywords`: the list of extracted keywords\n",
    "- `keywords_roots`: a dictionary where the keys are the keywords roots and the values are the lists of words associated with those roots\n",
    "- `count_keywords`: dictionary listing the number of times every word is used\n",
    "\n",
    "At this point, I convert the `count_keywords` dictionary into a list, to sort the keywords according to their occurences:"
   ]
  },
  {
   "cell_type": "code",
   "execution_count": null,
   "metadata": {
    "_cell_guid": "e033781a-8038-4302-93ed-78966554b7cc",
    "_kg_hide-input": true,
    "_uuid": "66fb955b137916f16d838f95a6f5bbe5e4952334",
    "collapsed": true
   },
   "outputs": [],
   "source": [
    "list_products = []\n",
    "for k,v in count_keywords.items():\n",
    "    list_products.append([keywords_select[k],v])\n",
    "list_products.sort(key = lambda x:x[1], reverse = True)"
   ]
  },
  {
   "cell_type": "markdown",
   "metadata": {
    "_cell_guid": "19e873fa-7863-40a5-ac2b-459e5fb0e3c1",
    "_uuid": "41cecbbaa4d5d5ced22d0151edb4cfa5cc8da179"
   },
   "source": [
    "Using it, I create a representation of the most common keywords:"
   ]
  },
  {
   "cell_type": "code",
   "execution_count": null,
   "metadata": {
    "_cell_guid": "d6c78812-343e-41af-8e4e-ef0292dc4f7e",
    "_kg_hide-input": true,
    "_uuid": "fcdf4d98e372a1d65c931b7a6d5c29f269938022",
    "collapsed": true
   },
   "outputs": [],
   "source": [
    "liste = sorted(list_products, key = lambda x:x[1], reverse = True)\n",
    "#_______________________________\n",
    "plt.rc('font', weight='normal')\n",
    "fig, ax = plt.subplots(figsize=(7, 25))\n",
    "y_axis = [i[1] for i in liste[:125]]\n",
    "x_axis = [k for k,i in enumerate(liste[:125])]\n",
    "x_label = [i[0] for i in liste[:125]]\n",
    "plt.xticks(fontsize = 15)\n",
    "plt.yticks(fontsize = 13)\n",
    "plt.yticks(x_axis, x_label)\n",
    "plt.xlabel(\"Nb. of occurences\", fontsize = 18, labelpad = 10)\n",
    "ax.barh(x_axis, y_axis, align = 'center')\n",
    "ax = plt.gca()\n",
    "ax.invert_yaxis()\n",
    "#_______________________________________________________________________________________\n",
    "plt.title(\"Words occurence\",bbox={'facecolor':'k', 'pad':5}, color='w',fontsize = 25)\n",
    "plt.show()"
   ]
  },
  {
   "cell_type": "markdown",
   "metadata": {
    "_cell_guid": "e4170374-92b0-4063-9962-a80d36911891",
    "_uuid": "9308d23b2ccc25eb87f324f0da0616d768340739"
   },
   "source": [
    "___\n",
    "### 3.2 Defining product categories "
   ]
  },
  {
   "cell_type": "markdown",
   "metadata": {
    "_cell_guid": "ba5e6966-49e7-4a3d-84cf-9fe809e8315b",
    "_uuid": "5f375df32988b2bb559c77ad5c8d244472ae39f4"
   },
   "source": [
    "The list that was obtained contains more than 1400 keywords and the most frequent ones appear in more than 200 products. However, while examinating the content of the list, I note that some names are useless. Others are do not carry information, like colors. Therefore, I discard these words from the analysis that follows and also, I decide to consider only the words that appear more than 13 times."
   ]
  },
  {
   "cell_type": "code",
   "execution_count": null,
   "metadata": {
    "_cell_guid": "43300478-3b5a-4c7a-9466-34c384ccae60",
    "_kg_hide-input": true,
    "_uuid": "5f42482995f36f15688d8cba7f903e1277da5f92",
    "collapsed": true
   },
   "outputs": [],
   "source": [
    "list_products = []\n",
    "for k,v in count_keywords.items():\n",
    "    word = keywords_select[k]\n",
    "    if word in ['pink', 'blue', 'tag', 'green', 'orange']: continue\n",
    "    if len(word) < 3 or v < 13: continue\n",
    "    if ('+' in word) or ('/' in word): continue\n",
    "    list_products.append([word, v])\n",
    "#______________________________________________________    \n",
    "list_products.sort(key = lambda x:x[1], reverse = True)\n",
    "print('mots conservés:', len(list_products))"
   ]
  },
  {
   "cell_type": "markdown",
   "metadata": {
    "_cell_guid": "68fa97e5-a7c6-4d65-8da6-8fddff742991",
    "_uuid": "fb4589b360ac2ebefebb66f710a6ba757c0ea203"
   },
   "source": [
    "____\n",
    "#### 3.2.1 Data encoding\n",
    "\n",
    "Now I will use these keywords to create groups of product. Firstly, I define the $X$ matrix as:"
   ]
  },
  {
   "cell_type": "markdown",
   "metadata": {
    "_cell_guid": "53f64d8a-69f2-4151-9b1f-4ea7ec3543e9",
    "_uuid": "72e6253ce03dcc5a6dc55c3795d015554378ff6e"
   },
   "source": [
    "   \n",
    "|   | mot 1  |  ...  | mot j  | ...  | mot N  |\n",
    "|:-:|---|---|---|---|---|\n",
    "| produit 1  | $a_{1,1}$  |     |   |   | $a_{1,N}$  |\n",
    "| ...        |            |     | ...  |   |   |\n",
    "|produit i   |    ...     |     | $a_{i,j}$    |   | ...  |\n",
    "|...         |            |     |  ... |   |   |\n",
    "| produit M  | $a_{M,1}$  |     |   |   | $a_{M,N}$   |"
   ]
  },
  {
   "cell_type": "markdown",
   "metadata": {
    "_cell_guid": "3879eff1-3a5e-480e-ac71-3ec4522d83f6",
    "_uuid": "53e086f7d5b756c4f8e59e73b85029c9c807e079"
   },
   "source": [
    "where the $a_ {i, j}$ coefficient  is 1 if the description of the product $i$ contains the word $j$, and 0 otherwise."
   ]
  },
  {
   "cell_type": "code",
   "execution_count": null,
   "metadata": {
    "_cell_guid": "23c77363-438b-4694-9b52-960c0ab3aa82",
    "_kg_hide-input": true,
    "_uuid": "d6faac7eb01d2251fb221569b75e007c8d5146aa",
    "collapsed": true
   },
   "outputs": [],
   "source": [
    "liste_produits = df_cleaned['Description'].unique()\n",
    "X = pd.DataFrame()\n",
    "for key, occurence in list_products:\n",
    "    X.loc[:, key] = list(map(lambda x:int(key.upper() in x), liste_produits))"
   ]
  },
  {
   "cell_type": "markdown",
   "metadata": {
    "_cell_guid": "36f23fa9-72a3-4b71-a76a-5cf2ff57b7ae",
    "_uuid": "378466327c5da8166c75812b43057b119b46e0f9"
   },
   "source": [
    "The $X$ matrix indicates the words contained in the description of the products using the *one-hot-encoding* principle. In practice, I have found that introducing the price range results in more balanced groups in terms of element numbers.\n",
    "Hence, I add 6 extra columns to this matrix, where I indicate the price range of the products:"
   ]
  },
  {
   "cell_type": "code",
   "execution_count": null,
   "metadata": {
    "_cell_guid": "739c9cb1-3278-4d3a-a412-25dd2e8bc7c4",
    "_kg_hide-input": true,
    "_uuid": "b26a6bc55b61d0bcaccaf7c303b90d2a04636ac4",
    "collapsed": true
   },
   "outputs": [],
   "source": [
    "threshold = [0, 1, 2, 3, 5, 10]\n",
    "label_col = []\n",
    "for i in range(len(threshold)):\n",
    "    if i == len(threshold)-1:\n",
    "        col = '.>{}'.format(threshold[i])\n",
    "    else:\n",
    "        col = '{}<.<{}'.format(threshold[i],threshold[i+1])\n",
    "    label_col.append(col)\n",
    "    X.loc[:, col] = 0\n",
    "\n",
    "for i, prod in enumerate(liste_produits):\n",
    "    prix = df_cleaned[ df_cleaned['Description'] == prod]['UnitPrice'].mean()\n",
    "    j = 0\n",
    "    while prix > threshold[j]:\n",
    "        j+=1\n",
    "        if j == len(threshold): break\n",
    "    X.loc[i, label_col[j-1]] = 1"
   ]
  },
  {
   "cell_type": "markdown",
   "metadata": {
    "_cell_guid": "5c1ac4b1-3bfa-4aac-8329-d5d923f7d08d",
    "_uuid": "d6551f396773df6fbf7a49a9985583d20e6a58be"
   },
   "source": [
    "and to choose the appropriate ranges, I check the number of products in the different groups:"
   ]
  },
  {
   "cell_type": "code",
   "execution_count": null,
   "metadata": {
    "_cell_guid": "8587b9a3-d3a6-41ed-ac8a-9e0cdc9af31e",
    "_kg_hide-input": true,
    "_uuid": "6ad9fc6ed72057c63594d9d97d89742202f064f7",
    "collapsed": true
   },
   "outputs": [],
   "source": [
    "print(\"{:<8} {:<20} \\n\".format('gamme', 'nb. produits') + 20*'-')\n",
    "for i in range(len(threshold)):\n",
    "    if i == len(threshold)-1:\n",
    "        col = '.>{}'.format(threshold[i])\n",
    "    else:\n",
    "        col = '{}<.<{}'.format(threshold[i],threshold[i+1])    \n",
    "    print(\"{:<10}  {:<20}\".format(col, X.loc[:, col].sum()))"
   ]
  },
  {
   "cell_type": "markdown",
   "metadata": {
    "_cell_guid": "026d2968-dbd2-46c4-bc39-24c147febb0b",
    "_uuid": "86e19d385e6849a17b262b627028e5aad7575b28"
   },
   "source": [
    "____\n",
    "#### 3.2.2 Creating clusters of products\n",
    "\n",
    "In this section, I will group the products into different classes. In the case of matrices with binary encoding, the most suitable metric for the calculation of distances is the [Hamming's metric](https://en.wikipedia.org/wiki/Distance_de_Hamming). Note that the **kmeans** method of sklearn uses a Euclidean distance that can be used, but it is not to the best choice in the case of categorical variables. However, in order to use the Hamming's metric, we need to use the [kmodes](https://pypi.python.org/pypi/kmodes/) package which is not available on the current plateform. Hence, I use the **kmeans** method even if this is not the best choice.\n",
    "\n",
    "In order to define (approximately) the number of clusters that best represents the data, I use the silhouette score:"
   ]
  },
  {
   "cell_type": "code",
   "execution_count": null,
   "metadata": {
    "_cell_guid": "1c81a7c3-8980-4941-9082-7bf5cf92fc14",
    "_kg_hide-input": true,
    "_uuid": "4ce8586584935e81b9e403ea7a1dd4b2e4c9992e",
    "collapsed": true
   },
   "outputs": [],
   "source": [
    "matrix = X.as_matrix()\n",
    "for n_clusters in range(3,10):\n",
    "    kmeans = KMeans(init='k-means++', n_clusters = n_clusters, n_init=30)\n",
    "    kmeans.fit(matrix)\n",
    "    clusters = kmeans.predict(matrix)\n",
    "    silhouette_avg = silhouette_score(matrix, clusters)\n",
    "    print(\"For n_clusters =\", n_clusters, \"The average silhouette_score is :\", silhouette_avg)"
   ]
  },
  {
   "cell_type": "markdown",
   "metadata": {
    "_cell_guid": "bc57a3e3-9560-47bb-8eb3-3fb1d31f7ad4",
    "_uuid": "6dc86eefc7a90409489f87051c3b33e8cb95ac0a"
   },
   "source": [
    "In practice, the scores obtained above can be considered equivalent since, depending on the run, scores of $ 0.1 \\pm 0.05 $ will be obtained for all clusters with `n_clusters` $> $ 3 (we obtain slightly lower scores for the first cluster). On the other hand, I found that beyond 5 clusters, some clusters contained very few elements. I therefore choose to separate the dataset into 5 clusters. In order to ensure a good classification at every run of the notebook, I iterate untill we obtain the best possible silhouette score, which is, in the present case, around 0.15:"
   ]
  },
  {
   "cell_type": "code",
   "execution_count": null,
   "metadata": {
    "_cell_guid": "b29b3bb2-ef8d-4d7f-a19e-52045018ab8e",
    "_kg_hide-input": true,
    "_uuid": "72dd5bdab528264518bf034b84f66f3c29500fca",
    "collapsed": true
   },
   "outputs": [],
   "source": [
    "n_clusters = 5\n",
    "silhouette_avg = -1\n",
    "while silhouette_avg < 0.145:\n",
    "    kmeans = KMeans(init='k-means++', n_clusters = n_clusters, n_init=30)\n",
    "    kmeans.fit(matrix)\n",
    "    clusters = kmeans.predict(matrix)\n",
    "    silhouette_avg = silhouette_score(matrix, clusters)\n",
    "    \n",
    "    #km = kmodes.KModes(n_clusters = n_clusters, init='Huang', n_init=2, verbose=0)\n",
    "    #clusters = km.fit_predict(matrix)\n",
    "    #silhouette_avg = silhouette_score(matrix, clusters)\n",
    "    print(\"For n_clusters =\", n_clusters, \"The average silhouette_score is :\", silhouette_avg)"
   ]
  },
  {
   "cell_type": "markdown",
   "metadata": {
    "_cell_guid": "1f146c21-7d21-46d4-95f1-a788041957a0",
    "_uuid": "d211d2cc238a1d019469ba922081df9383b91d68"
   },
   "source": [
    "___\n",
    "#### 3.2.3  Characterizing the content of clusters"
   ]
  },
  {
   "cell_type": "markdown",
   "metadata": {
    "_cell_guid": "ac1facaf-0be9-412d-bddf-cae0e920bd33",
    "_uuid": "f793937b3c3c83bc14af54d1d00543a2af26034a"
   },
   "source": [
    "I check the number of elements in every class:"
   ]
  },
  {
   "cell_type": "code",
   "execution_count": null,
   "metadata": {
    "_cell_guid": "ad66161e-87ba-42ca-8128-bda16b470a34",
    "_kg_hide-input": true,
    "_uuid": "83591dd72975afde6a85d70429add02bd278c125",
    "collapsed": true
   },
   "outputs": [],
   "source": [
    "pd.Series(clusters).value_counts()"
   ]
  },
  {
   "cell_type": "markdown",
   "metadata": {
    "_cell_guid": "f5e26953-89a2-4f19-92a2-afaaa2c71e94",
    "_uuid": "3f463103c3107547c46e737a6bf44875b628f4eb"
   },
   "source": [
    "\n",
    "** a / _Silhouette intra-cluster score_ **\n",
    "\n",
    "In order to have an insight on the quality of the classification, we can represent the silhouette scores of each element of the different clusters. This is the purpose of the next figure which is taken from the [sklearn documentation](http://scikit-learn.org/stable/auto_examples/cluster/plot_kmeans_silhouette_analysis.html):"
   ]
  },
  {
   "cell_type": "code",
   "execution_count": null,
   "metadata": {
    "_cell_guid": "c2b26710-2269-47e5-8f0d-98f6eac0015a",
    "_kg_hide-input": true,
    "_uuid": "e9e48bbbc3bb0ffa8134175aefb1fe808dea33e8",
    "collapsed": true
   },
   "outputs": [],
   "source": [
    "def graph_component_silhouette(n_clusters, lim_x, mat_size, sample_silhouette_values, clusters):\n",
    "    plt.rcParams[\"patch.force_edgecolor\"] = True\n",
    "    plt.style.use('fivethirtyeight')\n",
    "    mpl.rc('patch', edgecolor = 'dimgray', linewidth=1)\n",
    "    #____________________________\n",
    "    fig, ax1 = plt.subplots(1, 1)\n",
    "    fig.set_size_inches(8, 8)\n",
    "    ax1.set_xlim([lim_x[0], lim_x[1]])\n",
    "    ax1.set_ylim([0, mat_size + (n_clusters + 1) * 10])\n",
    "    y_lower = 10\n",
    "    for i in range(n_clusters):\n",
    "        #___________________________________________________________________________________\n",
    "        # Aggregate the silhouette scores for samples belonging to cluster i, and sort them\n",
    "        ith_cluster_silhouette_values = sample_silhouette_values[clusters == i]\n",
    "        ith_cluster_silhouette_values.sort()\n",
    "        size_cluster_i = ith_cluster_silhouette_values.shape[0]\n",
    "        y_upper = y_lower + size_cluster_i\n",
    "        color = cm.spectral(float(i) / n_clusters)        \n",
    "        ax1.fill_betweenx(np.arange(y_lower, y_upper), 0, ith_cluster_silhouette_values,\n",
    "                           facecolor=color, edgecolor=color, alpha=0.8)\n",
    "        #____________________________________________________________________\n",
    "        # Label the silhouette plots with their cluster numbers at the middle\n",
    "        ax1.text(-0.03, y_lower + 0.5 * size_cluster_i, str(i), color = 'red', fontweight = 'bold',\n",
    "                bbox=dict(facecolor='white', edgecolor='black', boxstyle='round, pad=0.3'))\n",
    "        #______________________________________\n",
    "        # Compute the new y_lower for next plot\n",
    "        y_lower = y_upper + 10  "
   ]
  },
  {
   "cell_type": "code",
   "execution_count": null,
   "metadata": {
    "_cell_guid": "8ee417cb-29d9-4913-8e12-0c020ecde059",
    "_kg_hide-input": true,
    "_uuid": "cf9b40ed0d865401e4a05e06eec2bff97ace7059",
    "collapsed": true
   },
   "outputs": [],
   "source": [
    "#____________________________________\n",
    "# define individual silouhette scores\n",
    "sample_silhouette_values = silhouette_samples(matrix, clusters)\n",
    "#__________________\n",
    "# and do the graph\n",
    "graph_component_silhouette(n_clusters, [-0.07, 0.33], len(X), sample_silhouette_values, clusters)"
   ]
  },
  {
   "cell_type": "markdown",
   "metadata": {
    "_cell_guid": "24c08c3e-d642-4482-b86f-f5c85cbed038",
    "_uuid": "6662f37da64de5d5951efa1c8f0bd9409ab6e9b4"
   },
   "source": [
    "** b/ _Word Cloud_**\n",
    "\n",
    "Now we can have a look at the type of objects that each cluster represents. In order to obtain a global view of their contents, I determine which keywords are the most frequent in each of them"
   ]
  },
  {
   "cell_type": "code",
   "execution_count": null,
   "metadata": {
    "_cell_guid": "159600b4-def2-4e4d-be54-6d84938721c4",
    "_kg_hide-input": true,
    "_uuid": "848009ae647f20366e148eeae96a4aa02f975618",
    "collapsed": true
   },
   "outputs": [],
   "source": [
    "liste = pd.DataFrame(liste_produits)\n",
    "liste_words = [word for (word, occurence) in list_products]\n",
    "\n",
    "occurence = [dict() for _ in range(n_clusters)]\n",
    "\n",
    "for i in range(n_clusters):\n",
    "    liste_cluster = liste.loc[clusters == i]\n",
    "    for word in liste_words:\n",
    "        if word in ['art', 'set', 'heart', 'pink', 'blue', 'tag']: continue\n",
    "        occurence[i][word] = sum(liste_cluster.loc[:, 0].str.contains(word.upper()))"
   ]
  },
  {
   "cell_type": "markdown",
   "metadata": {
    "_cell_guid": "503ecb33-ba25-4dc0-af23-85a3d4d6881c",
    "_uuid": "6ed38b6e18be3733ed34d043c67ad03e65c38192"
   },
   "source": [
    "and I output the result as wordclouds:"
   ]
  },
  {
   "cell_type": "code",
   "execution_count": null,
   "metadata": {
    "_cell_guid": "2995e126-925b-436f-8b68-55d874637b1e",
    "_kg_hide-input": true,
    "_uuid": "3d88a32f7998249ce42e267bb912acc7420f0c47",
    "collapsed": true
   },
   "outputs": [],
   "source": [
    "#________________________________________________________________________\n",
    "def random_color_func(word=None, font_size=None, position=None,\n",
    "                      orientation=None, font_path=None, random_state=None):\n",
    "    h = int(360.0 * tone / 255.0)\n",
    "    s = int(100.0 * 255.0 / 255.0)\n",
    "    l = int(100.0 * float(random_state.randint(70, 120)) / 255.0)\n",
    "    return \"hsl({}, {}%, {}%)\".format(h, s, l)\n",
    "#________________________________________________________________________\n",
    "def make_wordcloud(liste, increment):\n",
    "    ax1 = fig.add_subplot(4,2,increment)\n",
    "    words = dict()\n",
    "    trunc_occurences = liste[0:150]\n",
    "    for s in trunc_occurences:\n",
    "        words[s[0]] = s[1]\n",
    "    #________________________________________________________\n",
    "    wordcloud = WordCloud(width=1000,height=400, background_color='lightgrey', \n",
    "                          max_words=1628,relative_scaling=1,\n",
    "                          color_func = random_color_func,\n",
    "                          normalize_plurals=False)\n",
    "    wordcloud.generate_from_frequencies(words)\n",
    "    ax1.imshow(wordcloud, interpolation=\"bilinear\")\n",
    "    ax1.axis('off')\n",
    "    plt.title('cluster nº{}'.format(increment-1))\n",
    "#________________________________________________________________________\n",
    "fig = plt.figure(1, figsize=(14,14))\n",
    "color = [0, 160, 130, 95, 280, 40, 330, 110, 25]\n",
    "for i in range(n_clusters):\n",
    "    list_cluster_occurences = occurence[i]\n",
    "\n",
    "    tone = color[i] # define the color of the words\n",
    "    liste = []\n",
    "    for key, value in list_cluster_occurences.items():\n",
    "        liste.append([key, value])\n",
    "    liste.sort(key = lambda x:x[1], reverse = True)\n",
    "    make_wordcloud(liste, i+1)            "
   ]
  },
  {
   "cell_type": "markdown",
   "metadata": {
    "_cell_guid": "aa8f400a-297d-4b1c-944c-8b09b6ed5744",
    "_uuid": "7e14b7478f0ffddb1739678a1df8d0f6de254749"
   },
   "source": [
    "From this representation, we can see that for example, one of the clusters contains objects that could be associated with gifts (keywords: Christmas, packaging, card, ...). Another cluster would rather contain luxury items and jewelry (keywords: necklace, bracelet, lace, silver, ...). Nevertheless, it can also be observed that many words appear in various clusters and it is therefore difficult to clearly distinguish them.\n",
    "\n",
    "** c / _Principal Component Analysis_ **\n",
    "\n",
    "In order to ensure that these clusters are truly distinct, I look at their composition. Given the large number of variables of the initial matrix, I first perform a PCA:"
   ]
  },
  {
   "cell_type": "code",
   "execution_count": null,
   "metadata": {
    "_cell_guid": "85af75c5-bf90-4b8c-9687-caff723d0027",
    "_kg_hide-input": true,
    "_uuid": "33859d205bcf40477d166b679fb97996ba2d5f48",
    "collapsed": true
   },
   "outputs": [],
   "source": [
    "pca = PCA()\n",
    "pca.fit(matrix)\n",
    "pca_samples = pca.transform(matrix)"
   ]
  },
  {
   "cell_type": "markdown",
   "metadata": {
    "_cell_guid": "4fdb1e57-76c2-44da-8d35-a6dceac628f8",
    "_uuid": "58675f9176ee5121d7f22605feea4d983c4ea9b4"
   },
   "source": [
    "and then check for the amount of variance explained by each component:"
   ]
  },
  {
   "cell_type": "code",
   "execution_count": null,
   "metadata": {
    "_cell_guid": "41cd8738-4923-43cd-b26a-fba6d53070e8",
    "_kg_hide-input": true,
    "_uuid": "abce52d76e801aa6197603925618fb032aec78af",
    "collapsed": true
   },
   "outputs": [],
   "source": [
    "fig, ax = plt.subplots(figsize=(14, 5))\n",
    "sns.set(font_scale=1)\n",
    "plt.step(range(matrix.shape[1]), pca.explained_variance_ratio_.cumsum(), where='mid',\n",
    "         label='cumulative explained variance')\n",
    "sns.barplot(np.arange(1,matrix.shape[1]+1), pca.explained_variance_ratio_, alpha=0.5, color = 'g',\n",
    "            label='individual explained variance')\n",
    "plt.xlim(0, 100)\n",
    "\n",
    "ax.set_xticklabels([s if int(s.get_text())%2 == 0 else '' for s in ax.get_xticklabels()])\n",
    "\n",
    "plt.ylabel('Explained variance', fontsize = 14)\n",
    "plt.xlabel('Principal components', fontsize = 14)\n",
    "plt.legend(loc='upper left', fontsize = 13);"
   ]
  },
  {
   "cell_type": "markdown",
   "metadata": {
    "_cell_guid": "29b5ae8a-7430-47b6-a4cd-991dbb3073ca",
    "_uuid": "159540979f024ddac04749daace71e737fc558a1"
   },
   "source": [
    "We see that the number of components required to explain the data is extremely important: we need more than 100 components to explain 90% of the variance of the data. In practice, I decide to keep only a limited number of components since this decomposition is only performed to visualize the data:"
   ]
  },
  {
   "cell_type": "code",
   "execution_count": null,
   "metadata": {
    "_cell_guid": "0e49b019-d1b7-4815-8c5e-7cf27fa5b5b2",
    "_kg_hide-input": true,
    "_uuid": "fb0afe8523c2634860fdaf67d734c1dc0897c4c0",
    "collapsed": true
   },
   "outputs": [],
   "source": [
    "pca = PCA(n_components=50)\n",
    "matrix_9D = pca.fit_transform(matrix)\n",
    "mat = pd.DataFrame(matrix_9D)\n",
    "mat['cluster'] = pd.Series(clusters)"
   ]
  },
  {
   "cell_type": "code",
   "execution_count": null,
   "metadata": {
    "_cell_guid": "675cc670-4512-4983-8b58-e82f3cf2bf3d",
    "_kg_hide-input": true,
    "_uuid": "b9d872fa5038458f3424dfc585a5a823efc7ff7f",
    "collapsed": true
   },
   "outputs": [],
   "source": [
    "import matplotlib.patches as mpatches\n",
    "\n",
    "sns.set_style(\"white\")\n",
    "sns.set_context(\"notebook\", font_scale=1, rc={\"lines.linewidth\": 2.5})\n",
    "\n",
    "LABEL_COLOR_MAP = {0:'r', 1:'gold', 2:'b', 3:'k', 4:'c', 5:'g'}\n",
    "label_color = [LABEL_COLOR_MAP[l] for l in mat['cluster']]\n",
    "\n",
    "fig = plt.figure(figsize = (12,10))\n",
    "increment = 0\n",
    "for ix in range(4):\n",
    "    for iy in range(ix+1, 4):    \n",
    "        increment += 1\n",
    "        ax = fig.add_subplot(3,3,increment)\n",
    "        ax.scatter(mat[ix], mat[iy], c= label_color, alpha=0.4) \n",
    "        plt.ylabel('PCA {}'.format(iy+1), fontsize = 12)\n",
    "        plt.xlabel('PCA {}'.format(ix+1), fontsize = 12)\n",
    "        ax.yaxis.grid(color='lightgray', linestyle=':')\n",
    "        ax.xaxis.grid(color='lightgray', linestyle=':')\n",
    "        ax.spines['right'].set_visible(False)\n",
    "        ax.spines['top'].set_visible(False)\n",
    "        \n",
    "        if increment == 9: break\n",
    "    if increment == 9: break\n",
    "        \n",
    "#_______________________________________________\n",
    "# I set the legend: abreviation -> airline name\n",
    "comp_handler = []\n",
    "for i in range(5):\n",
    "    comp_handler.append(mpatches.Patch(color = LABEL_COLOR_MAP[i], label = i))\n",
    "\n",
    "plt.legend(handles=comp_handler, bbox_to_anchor=(1.1, 0.97), \n",
    "           title='Cluster', facecolor = 'lightgrey',\n",
    "           shadow = True, frameon = True, framealpha = 1,\n",
    "           fontsize = 13, bbox_transform = plt.gcf().transFigure)\n",
    "\n",
    "plt.tight_layout()"
   ]
  },
  {
   "cell_type": "markdown",
   "metadata": {
    "_cell_guid": "731427f7-4c47-4d39-acb0-fb8b6efb0df7",
    "_uuid": "1d070f5bc58c75ac8bb122b5132761f81156f9ff"
   },
   "source": [
    "___\n",
    "## 4. Customer categories\n",
    "\n",
    "### 4.1 Formatting data\n",
    "\n",
    "In the previous section, the different products were grouped in five clusters. In order to prepare the rest of the analysis, a first step consists in introducing this information into the dataframe. To do this, I create the categorical variable **categ_product** where I indicate the cluster of each product :"
   ]
  },
  {
   "cell_type": "code",
   "execution_count": null,
   "metadata": {
    "_cell_guid": "b66c0817-22c1-42cf-b944-8e3db918a671",
    "_kg_hide-input": true,
    "_uuid": "c030102cce28bbf7e268ed40b0388017cd15df8f",
    "collapsed": true
   },
   "outputs": [],
   "source": [
    "corresp = dict()\n",
    "for key, val in zip (liste_produits, clusters):\n",
    "    corresp[key] = val \n",
    "#__________________________________________________________________________\n",
    "df_cleaned['categ_product'] = df_cleaned.loc[:, 'Description'].map(corresp)"
   ]
  },
  {
   "cell_type": "markdown",
   "metadata": {
    "_cell_guid": "bec41c37-5777-49e3-98e0-4a6e9613783b",
    "_uuid": "738635fe9be465fbd0940e799b6070dbb201a780"
   },
   "source": [
    "___\n",
    "#### 4.1.1 Grouping products\n",
    "\n",
    "In a second step, I decide to create the **categ_N** variables (with $ N \\in [0: 4]$) that contains the amount spent in each product category:"
   ]
  },
  {
   "cell_type": "code",
   "execution_count": null,
   "metadata": {
    "_cell_guid": "882978a7-8d65-468e-982a-dd689515d415",
    "_kg_hide-input": true,
    "_uuid": "7b29ea4de78cdf757e031a0d810b24c4a3641057",
    "collapsed": true
   },
   "outputs": [],
   "source": [
    "for i in range(5):\n",
    "    col = 'categ_{}'.format(i)        \n",
    "    df_temp = df_cleaned[df_cleaned['categ_product'] == i]\n",
    "    price_temp = df_temp['UnitPrice'] * (df_temp['Quantity'] - df_temp['QuantityCanceled'])\n",
    "    price_temp = price_temp.apply(lambda x:x if x > 0 else 0)\n",
    "    df_cleaned.loc[:, col] = price_temp\n",
    "    df_cleaned[col].fillna(0, inplace = True)\n",
    "#__________________________________________________________________________________________________\n",
    "df_cleaned[['InvoiceNo', 'Description', 'categ_product', 'categ_0', 'categ_1', 'categ_2', 'categ_3','categ_4']][:5]"
   ]
  },
  {
   "cell_type": "markdown",
   "metadata": {
    "_cell_guid": "46e1dba0-a444-4655-8017-3c30932cb605",
    "_uuid": "e209c1e028ee3b1e99bfa2255a8bb767dfb04596"
   },
   "source": [
    "Up to now, the information related to a single order was split over several lines of the dataframe (one line per product). I decide to collect the information related to a particular order and put in in a single entry. I therefore create a new dataframe that contains, for each order, the amount of the basket, as well as the way it is distributed over the 5 categories of products:"
   ]
  },
  {
   "cell_type": "code",
   "execution_count": null,
   "metadata": {
    "_cell_guid": "9a5249e1-7ac8-43f9-a759-db4df4934e71",
    "_kg_hide-input": true,
    "_uuid": "9d0c9edb309503999f38ccc40fd09d1a311a5019",
    "collapsed": true
   },
   "outputs": [],
   "source": [
    "#___________________________________________\n",
    "# somme des achats / utilisateur & commande\n",
    "temp = df_cleaned.groupby(by=['CustomerID', 'InvoiceNo'], as_index=False)['TotalPrice'].sum()\n",
    "basket_price = temp.rename(columns = {'TotalPrice':'Basket Price'})\n",
    "#____________________________________________________________\n",
    "# pourcentage du prix de la commande / categorie de produit\n",
    "for i in range(5):\n",
    "    col = 'categ_{}'.format(i) \n",
    "    temp = df_cleaned.groupby(by=['CustomerID', 'InvoiceNo'], as_index=False)[col].sum()\n",
    "    basket_price.loc[:, col] = temp \n",
    "#_____________________\n",
    "# date de la commande\n",
    "df_cleaned['InvoiceDate_int'] = df_cleaned['InvoiceDate'].astype('int64')\n",
    "temp = df_cleaned.groupby(by=['CustomerID', 'InvoiceNo'], as_index=False)['InvoiceDate_int'].mean()\n",
    "df_cleaned.drop('InvoiceDate_int', axis = 1, inplace = True)\n",
    "basket_price.loc[:, 'InvoiceDate'] = pd.to_datetime(temp['InvoiceDate_int'])\n",
    "#______________________________________\n",
    "# selection des entrées significatives:\n",
    "basket_price = basket_price[basket_price['Basket Price'] > 0]\n",
    "basket_price.sort_values('CustomerID', ascending = True)[:5]"
   ]
  },
  {
   "cell_type": "markdown",
   "metadata": {
    "_cell_guid": "893c7c56-0ef4-4055-965f-102e1d48bb80",
    "_uuid": "b60b304b08843db5b56367de6f1d366f243ec16c"
   },
   "source": [
    "#### 4.1.2 Separation of data over time\n",
    "\n",
    "The dataframe `basket_price` contains information for a period of 12 months. Later, one of the objectives will be to develop a model capable of characterizing and anticipating the habits of the customers visiting the site and this, from their first visit. In order to be able to test the model in a realistic way, I split the data set by retaining the first 10 months to develop the model and the following two months to test it:"
   ]
  },
  {
   "cell_type": "code",
   "execution_count": null,
   "metadata": {
    "_cell_guid": "c30fa4af-6617-4e25-b297-23efae5e1dcb",
    "_kg_hide-input": true,
    "_uuid": "7be642cc67d95c7b149747f66a8ba8845a17350e",
    "collapsed": true
   },
   "outputs": [],
   "source": [
    "print(basket_price['InvoiceDate'].min(), '->',  basket_price['InvoiceDate'].max())"
   ]
  },
  {
   "cell_type": "code",
   "execution_count": null,
   "metadata": {
    "_cell_guid": "29948719-cecf-48d3-ab66-ca76214b058a",
    "_kg_hide-input": true,
    "_uuid": "854a1781838e9d4f9e2a27e6a0b65c5e86d7a1b0",
    "collapsed": true
   },
   "outputs": [],
   "source": [
    "set_entrainement = basket_price[basket_price['InvoiceDate'] < datetime.date(2011,10,1)]\n",
    "set_test         = basket_price[basket_price['InvoiceDate'] >= datetime.date(2011,10,1)]\n",
    "basket_price = set_entrainement.copy(deep = True)"
   ]
  },
  {
   "cell_type": "markdown",
   "metadata": {
    "_cell_guid": "cf755ead-5dee-4d55-b351-5c3d106ef828",
    "_uuid": "8f4ab5026a66fcdb1e6e62ee552a2737aebc61bb"
   },
   "source": [
    "____\n",
    "#### 4.1.3 Consumer Order Combinations\n",
    "\n",
    "In a second step, I group together the different entries that correspond to the same user. I thus determine the number of purchases made by the user, as well as the minimum, maximum, average amounts and the total amount spent during all the visits:"
   ]
  },
  {
   "cell_type": "code",
   "execution_count": null,
   "metadata": {
    "_cell_guid": "876435e3-49c7-4f98-a58f-55d8f0620ef8",
    "_kg_hide-input": true,
    "_uuid": "a8144451cb606fde4e691486ea9b9d2ccbeae7b9",
    "collapsed": true
   },
   "outputs": [],
   "source": [
    "#________________________________________________________________\n",
    "# nb de visites et stats sur le montant du panier / utilisateurs\n",
    "transactions_per_user=basket_price.groupby(by=['CustomerID'])['Basket Price'].agg(['count','min','max','mean','sum'])\n",
    "for i in range(5):\n",
    "    col = 'categ_{}'.format(i)\n",
    "    transactions_per_user.loc[:,col] = basket_price.groupby(by=['CustomerID'])[col].sum() /\\\n",
    "                                            transactions_per_user['sum']*100\n",
    "\n",
    "transactions_per_user.reset_index(drop = False, inplace = True)\n",
    "basket_price.groupby(by=['CustomerID'])['categ_0'].sum()\n",
    "transactions_per_user.sort_values('CustomerID', ascending = True)[:5]"
   ]
  },
  {
   "cell_type": "markdown",
   "metadata": {
    "_cell_guid": "c02d86a5-f239-4ec0-9374-61a000f81ec7",
    "_uuid": "cd335b44bdd24a675ee3407580171135a1053649"
   },
   "source": [
    "Finally, I define two additional variables that give the number of days elapsed since the first purchase (** FirstPurchase **) and the number of days since the last purchase (** LastPurchase **):"
   ]
  },
  {
   "cell_type": "code",
   "execution_count": null,
   "metadata": {
    "_cell_guid": "60a47c3b-b36a-460a-835b-7f6d3c7af48c",
    "_kg_hide-input": true,
    "_uuid": "29dab7aeb0f6d8d1e898b9d72efa2a6e07f1d3e0",
    "collapsed": true,
    "scrolled": true
   },
   "outputs": [],
   "source": [
    "last_date = basket_price['InvoiceDate'].max().date()\n",
    "\n",
    "first_registration = pd.DataFrame(basket_price.groupby(by=['CustomerID'])['InvoiceDate'].min())\n",
    "last_purchase      = pd.DataFrame(basket_price.groupby(by=['CustomerID'])['InvoiceDate'].max())\n",
    "\n",
    "test  = first_registration.applymap(lambda x:(last_date - x.date()).days)\n",
    "test2 = last_purchase.applymap(lambda x:(last_date - x.date()).days)\n",
    "\n",
    "transactions_per_user.loc[:, 'LastPurchase'] = test2.reset_index(drop = False)['InvoiceDate']\n",
    "transactions_per_user.loc[:, 'FirstPurchase'] = test.reset_index(drop = False)['InvoiceDate']\n",
    "\n",
    "transactions_per_user[:5]"
   ]
  },
  {
   "cell_type": "markdown",
   "metadata": {
    "_cell_guid": "62b7f0bc-6811-4f3c-840d-a7ace9ca8d3c",
    "_uuid": "0d120903f429d18f9a06fea70e2fd035d0c59c0a"
   },
   "source": [
    "A customer category of particular interest is that of customers who make only one purchase. One of the objectives may be, for example, to target these customers in order to retain them. In part, I find that this type of customer represents 1/3 of the customers listed:"
   ]
  },
  {
   "cell_type": "code",
   "execution_count": null,
   "metadata": {
    "_cell_guid": "f0a8717e-bf13-4847-a2d8-d5c518ef7580",
    "_kg_hide-input": true,
    "_uuid": "27a45dcd6d0ac2382f07ef6b091a50fc7006a389",
    "collapsed": true
   },
   "outputs": [],
   "source": [
    "n1 = transactions_per_user[transactions_per_user['count'] == 1].shape[0]\n",
    "n2 = transactions_per_user.shape[0]\n",
    "print(\"nb. de clients avec achat unique: {:<2}/{:<5} ({:<2.2f}%)\".format(n1,n2,n1/n2*100))"
   ]
  },
  {
   "cell_type": "markdown",
   "metadata": {
    "_cell_guid": "0de7eb30-4a0c-49dc-a423-1acce0956e30",
    "_uuid": "f2c4d5aa8a322b09c539e6b3b0196ca7c4247104"
   },
   "source": [
    "___\n",
    "### 4.2 Creation of customers categories"
   ]
  },
  {
   "cell_type": "markdown",
   "metadata": {
    "_cell_guid": "93a76684-228f-447b-bad0-0a61809809cc",
    "_uuid": "5c58d53dcb2159e019c8eb55f0178f40ad293f90"
   },
   "source": [
    "#### 4.2.1 Data encoding\n",
    "\n",
    "The dataframe `transactions_per_user` contains a summary of all the commands that were made. Each entry in this dataframe corresponds to a particular client. I use this information to characterize the different types of customers and only keep a subset of variables:"
   ]
  },
  {
   "cell_type": "code",
   "execution_count": null,
   "metadata": {
    "_cell_guid": "cdc3d67f-1337-4cf6-8a36-7b99d4adc160",
    "_kg_hide-input": true,
    "_uuid": "1769df5bd3f987760e0493c6979c9031e18cd47e",
    "collapsed": true
   },
   "outputs": [],
   "source": [
    "list_cols = ['count','min','max','mean','categ_0','categ_1','categ_2','categ_3','categ_4']\n",
    "#_____________________________________________________________\n",
    "selected_customers = transactions_per_user.copy(deep = True)\n",
    "matrix = selected_customers[list_cols].as_matrix()"
   ]
  },
  {
   "cell_type": "markdown",
   "metadata": {
    "_cell_guid": "9c752c86-845c-4713-8ddc-3a7d1492f3ac",
    "_uuid": "cca71b10aaf0aa363e921b67e8b1e88055ed4dfd"
   },
   "source": [
    "In practice, the different variables I selected have quite different ranges of variation and before continuing the analysis, I  create a matrix where these data are standardized:"
   ]
  },
  {
   "cell_type": "code",
   "execution_count": null,
   "metadata": {
    "_cell_guid": "84be0db9-a24a-4b9b-b541-e1437404ff37",
    "_kg_hide-input": true,
    "_uuid": "5e15c98b0da14a1fe5473ca2fa6c5722968386b6",
    "collapsed": true
   },
   "outputs": [],
   "source": [
    "scaler = StandardScaler()\n",
    "scaler.fit(matrix)\n",
    "print('variables mean values: \\n' + 90*'-' + '\\n' , scaler.mean_)\n",
    "scaled_matrix = scaler.transform(matrix)"
   ]
  },
  {
   "cell_type": "markdown",
   "metadata": {
    "_cell_guid": "77523e66-c44e-48f6-946d-fa79c7d50d61",
    "_uuid": "92f56e55fec1d4fd0b823d53d66ab5fc44016709"
   },
   "source": [
    "In the following, I will create clusters of customers. In practice, before creating these clusters, it is interesting to define a base of smaller dimension allowing to describe the `scaled_matrix` matrix. In this case, I will use this base in order to create a representation of the different clusters and thus verify the quality of the separation of the different groups. I therefore perform a PCA beforehand:"
   ]
  },
  {
   "cell_type": "code",
   "execution_count": null,
   "metadata": {
    "_cell_guid": "302061b0-4e19-4b5b-a969-1f45c27873e1",
    "_kg_hide-input": true,
    "_uuid": "30b6a47f96e223efeb0ab49517b38c192627927f",
    "collapsed": true
   },
   "outputs": [],
   "source": [
    "pca = PCA()\n",
    "pca.fit(scaled_matrix)\n",
    "pca_samples = pca.transform(scaled_matrix)"
   ]
  },
  {
   "cell_type": "markdown",
   "metadata": {
    "_cell_guid": "8fd227dc-8def-4e9e-84fb-1325638a53b9",
    "_uuid": "66da306d298c0790f3b56e7177d582622b46de46"
   },
   "source": [
    "and I represent the amount of variance explained by each of the components:"
   ]
  },
  {
   "cell_type": "code",
   "execution_count": null,
   "metadata": {
    "_cell_guid": "ed6ab99d-fee5-44c3-958c-58b786263e82",
    "_kg_hide-input": true,
    "_uuid": "bb95db84567cb2a3a32652bcf2b3ea5c14b5b550",
    "collapsed": true
   },
   "outputs": [],
   "source": [
    "fig, ax = plt.subplots(figsize=(14, 5))\n",
    "sns.set(font_scale=1)\n",
    "plt.step(range(matrix.shape[1]), pca.explained_variance_ratio_.cumsum(), where='mid',\n",
    "         label='cumulative explained variance')\n",
    "sns.barplot(np.arange(1,matrix.shape[1]+1), pca.explained_variance_ratio_, alpha=0.5, color = 'g',\n",
    "            label='individual explained variance')\n",
    "plt.xlim(0, 10)\n",
    "\n",
    "ax.set_xticklabels([s if int(s.get_text())%2 == 0 else '' for s in ax.get_xticklabels()])\n",
    "\n",
    "plt.ylabel('Explained variance', fontsize = 14)\n",
    "plt.xlabel('Principal components', fontsize = 14)\n",
    "plt.legend(loc='best', fontsize = 13);"
   ]
  },
  {
   "cell_type": "markdown",
   "metadata": {
    "_cell_guid": "25bea85a-ced6-402b-9e47-718ee3b6a434",
    "_uuid": "56151271895b2d34c5bfe02977169a47527bc72f"
   },
   "source": [
    "___\n",
    "#### 4.2.2 Creation of customer categories"
   ]
  },
  {
   "cell_type": "markdown",
   "metadata": {
    "_cell_guid": "7c8dc088-65dc-41b4-88d1-f453d293ce34",
    "_uuid": "dd1242cb2135d3515a5252d7783951f77cbaee75"
   },
   "source": [
    "At this point, I define clusters of clients from the standardized matrix that was defined earlier and using the `k-means` algorithm from` scikit-learn`. I choose the number of clusters based on the silhouette score and I find that the best score is obtained with 11 clusters:"
   ]
  },
  {
   "cell_type": "code",
   "execution_count": null,
   "metadata": {
    "_cell_guid": "ce1adb5f-a0cf-4af4-99fa-585fa71cf89f",
    "_kg_hide-input": true,
    "_uuid": "09711facb0d6dd1e4027724a55b8a5fa0155b616",
    "collapsed": true
   },
   "outputs": [],
   "source": [
    "n_clusters = 11\n",
    "kmeans = KMeans(init='k-means++', n_clusters = n_clusters, n_init=100)\n",
    "kmeans.fit(scaled_matrix)\n",
    "clusters_clients = kmeans.predict(scaled_matrix)\n",
    "silhouette_avg = silhouette_score(scaled_matrix, clusters_clients)\n",
    "print('score de silhouette: {:<.3f}'.format(silhouette_avg))"
   ]
  },
  {
   "cell_type": "markdown",
   "metadata": {
    "_cell_guid": "08aa3753-1dff-4f70-9ee7-e71b79fa1f88",
    "_uuid": "267f2a4c31cf2d9ae6785aa84c98cf0474db6868"
   },
   "source": [
    "At first, I look at the number of customers in each cluster:"
   ]
  },
  {
   "cell_type": "code",
   "execution_count": null,
   "metadata": {
    "_cell_guid": "7e64fcb6-4827-4bb9-883e-f31e9c595dba",
    "_kg_hide-input": true,
    "_uuid": "b1f770e4ac40cc0e868efb12f895653fb5127599",
    "collapsed": true,
    "scrolled": true
   },
   "outputs": [],
   "source": [
    "pd.DataFrame(pd.Series(clusters_clients).value_counts(), columns = ['nb. de clients']).T"
   ]
  },
  {
   "cell_type": "markdown",
   "metadata": {
    "_cell_guid": "1ec4a223-595f-48b7-b235-a647fd7c751f",
    "_uuid": "0378fc93ca892be22acf4aa2b4c4bddebdccf424"
   },
   "source": [
    "** a / _Report via the PCA_ **\n",
    "\n",
    "There is a certain disparity in the sizes of different groups that have been created. Hence I will now try to understand the content of these clusters in order to validate (or not) this particular separation. At first, I use the result of the PCA:"
   ]
  },
  {
   "cell_type": "code",
   "execution_count": null,
   "metadata": {
    "_cell_guid": "051ee4e8-78a1-48d9-aa43-84e089a57df3",
    "_kg_hide-input": true,
    "_uuid": "716227b8a446ac77c9397893964c782333a02e6a",
    "collapsed": true
   },
   "outputs": [],
   "source": [
    "pca = PCA(n_components=6)\n",
    "matrix_3D = pca.fit_transform(scaled_matrix)\n",
    "mat = pd.DataFrame(matrix_3D)\n",
    "mat['cluster'] = pd.Series(clusters_clients)"
   ]
  },
  {
   "cell_type": "markdown",
   "metadata": {
    "_cell_guid": "977a7aac-23e4-4289-8b2f-b43397188f15",
    "_uuid": "363c9044e639fc298c44edafb96f7ded2a916f25"
   },
   "source": [
    "in order to create a representation of the various clusters:"
   ]
  },
  {
   "cell_type": "code",
   "execution_count": null,
   "metadata": {
    "_cell_guid": "6e2ff63a-1bfe-4c7a-b0e4-7fa387e2c560",
    "_kg_hide-input": true,
    "_uuid": "cececaffe4efaff3333c64426b028b793cc677b5",
    "collapsed": true
   },
   "outputs": [],
   "source": [
    "import matplotlib.patches as mpatches\n",
    "\n",
    "sns.set_style(\"white\")\n",
    "sns.set_context(\"notebook\", font_scale=1, rc={\"lines.linewidth\": 2.5})\n",
    "\n",
    "LABEL_COLOR_MAP = {0:'r', 1:'tan', 2:'b', 3:'k', 4:'c', 5:'g', 6:'deeppink', 7:'skyblue', 8:'darkcyan', 9:'orange',\n",
    "                   10:'yellow', 11:'tomato', 12:'seagreen'}\n",
    "label_color = [LABEL_COLOR_MAP[l] for l in mat['cluster']]\n",
    "\n",
    "fig = plt.figure(figsize = (12,10))\n",
    "increment = 0\n",
    "for ix in range(6):\n",
    "    for iy in range(ix+1, 6):   \n",
    "        increment += 1\n",
    "        ax = fig.add_subplot(4,3,increment)\n",
    "        ax.scatter(mat[ix], mat[iy], c= label_color, alpha=0.5) \n",
    "        plt.ylabel('PCA {}'.format(iy+1), fontsize = 12)\n",
    "        plt.xlabel('PCA {}'.format(ix+1), fontsize = 12)\n",
    "        ax.yaxis.grid(color='lightgray', linestyle=':')\n",
    "        ax.xaxis.grid(color='lightgray', linestyle=':')\n",
    "        ax.spines['right'].set_visible(False)\n",
    "        ax.spines['top'].set_visible(False)\n",
    "        \n",
    "        if increment == 12: break\n",
    "    if increment == 12: break\n",
    "        \n",
    "#_______________________________________________\n",
    "# I set the legend: abreviation -> airline name\n",
    "comp_handler = []\n",
    "for i in range(n_clusters):\n",
    "    comp_handler.append(mpatches.Patch(color = LABEL_COLOR_MAP[i], label = i))\n",
    "\n",
    "plt.legend(handles=comp_handler, bbox_to_anchor=(1.1, 0.9), \n",
    "           title='Cluster', facecolor = 'lightgrey',\n",
    "           shadow = True, frameon = True, framealpha = 1,\n",
    "           fontsize = 13, bbox_transform = plt.gcf().transFigure)\n",
    "\n",
    "plt.tight_layout()"
   ]
  },
  {
   "cell_type": "markdown",
   "metadata": {
    "_cell_guid": "abffa92e-d107-405c-8241-9e174971d7d3",
    "_uuid": "69709e6dc7e0a40aa0749be602762e56d6d47db2"
   },
   "source": [
    "From this representation, it can be seen, for example, that the first principal component allow to separate the tiniest clusters from the rest. More generally, we see that there is always a representation in which two clusters will appear to be distinct.\n",
    "\n",
    "** b/ _Score de silhouette intra-cluster_ **\n",
    "\n",
    "As with product categories, another way to look at the quality of the separation is to look at silouhette scores within different clusters:"
   ]
  },
  {
   "cell_type": "code",
   "execution_count": null,
   "metadata": {
    "_cell_guid": "89a83e55-2681-4c31-9e39-52fe2cd0e5cf",
    "_kg_hide-input": true,
    "_uuid": "3a207d8cfdc08bebeffb5cd8ddb00dfb959efb4a",
    "collapsed": true
   },
   "outputs": [],
   "source": [
    "sample_silhouette_values = silhouette_samples(scaled_matrix, clusters_clients)\n",
    "#____________________________________\n",
    "# define individual silouhette scores\n",
    "sample_silhouette_values = silhouette_samples(scaled_matrix, clusters_clients)\n",
    "#__________________\n",
    "# and do the graph\n",
    "graph_component_silhouette(n_clusters, [-0.15, 0.55], len(scaled_matrix), sample_silhouette_values, clusters_clients)"
   ]
  },
  {
   "cell_type": "markdown",
   "metadata": {
    "_cell_guid": "74588f7c-8ae6-48e0-833c-db705394f2e4",
    "_uuid": "2a0230fe29659164fe82104656849b8bb4af8533"
   },
   "source": [
    "** c/ _Customers morphotype_**\n",
    "\n",
    "At this stage, I have verified that the different clusters are indeed disjoint (at least, in a global way). It remains to understand the habits of the customers in each cluster. To do so, I start by adding to the `selected_customers` dataframe a variable that defines the cluster to which each client belongs:"
   ]
  },
  {
   "cell_type": "code",
   "execution_count": null,
   "metadata": {
    "_cell_guid": "1c45a7fd-b564-4595-b725-0d0ae03a25e7",
    "_uuid": "52f45c0a955a33a52c812aaf9e60e5a82f5bd2da",
    "collapsed": true
   },
   "outputs": [],
   "source": [
    "selected_customers.loc[:, 'cluster'] = clusters_clients"
   ]
  },
  {
   "cell_type": "markdown",
   "metadata": {
    "_cell_guid": "749f0a18-3e62-418b-8dab-5febaf415135",
    "_uuid": "9e5adb7895a22bb8084255e7247465fc8d3ad9ec"
   },
   "source": [
    "Then, I average the contents of this dataframe by first selecting the different groups of clients. This gives access to, for example, the average baskets price, the number of visits or the total sums spent by the clients of the different clusters. I also determine the number of clients in each group (variable ** size **):"
   ]
  },
  {
   "cell_type": "code",
   "execution_count": null,
   "metadata": {
    "_cell_guid": "edaa1b78-74be-44cf-952d-f5148824b5d8",
    "_kg_hide-input": true,
    "_uuid": "0fb5e92a263ea5290cfe72fb03257ea6eff632ce",
    "collapsed": true,
    "scrolled": true
   },
   "outputs": [],
   "source": [
    "merged_df = pd.DataFrame()\n",
    "for i in range(n_clusters):\n",
    "    test = pd.DataFrame(selected_customers[selected_customers['cluster'] == i].mean())\n",
    "    test = test.T.set_index('cluster', drop = True)\n",
    "    test['size'] = selected_customers[selected_customers['cluster'] == i].shape[0]\n",
    "    merged_df = pd.concat([merged_df, test])\n",
    "#_____________________________________________________\n",
    "merged_df.drop('CustomerID', axis = 1, inplace = True)\n",
    "print('number of customers:', merged_df['size'].sum())\n",
    "\n",
    "merged_df = merged_df.sort_values('sum')"
   ]
  },
  {
   "cell_type": "markdown",
   "metadata": {
    "_cell_guid": "3513ca75-e71a-4c18-b40c-e79a43d06400",
    "_uuid": "6103373770bfb5b3e2f60b4c9eee383e1956c2b2"
   },
   "source": [
    "Finally, I re-organize the content of the dataframe by ordering the different clusters: first, in relation to the amount wpsent in each product category and then, according to the total amount spent:"
   ]
  },
  {
   "cell_type": "code",
   "execution_count": null,
   "metadata": {
    "_cell_guid": "9e510c5d-cfa4-4d50-ad2e-93fa01cb319e",
    "_kg_hide-input": true,
    "_uuid": "5c6079b1b9dcb0d894e406255d351680219a5b35",
    "collapsed": true
   },
   "outputs": [],
   "source": [
    "liste_index = []\n",
    "for i in range(5):\n",
    "    column = 'categ_{}'.format(i)\n",
    "    liste_index.append(merged_df[merged_df[column] > 45].index.values[0])\n",
    "#___________________________________\n",
    "liste_index_reordered = liste_index\n",
    "liste_index_reordered += [ s for s in merged_df.index if s not in liste_index]\n",
    "#___________________________________________________________\n",
    "merged_df = merged_df.reindex(index = liste_index_reordered)\n",
    "merged_df = merged_df.reset_index(drop = False)\n",
    "display(merged_df[['cluster', 'count', 'min', 'max', 'mean', 'sum', 'categ_0',\n",
    "                   'categ_1', 'categ_2', 'categ_3', 'categ_4', 'size']])"
   ]
  },
  {
   "cell_type": "markdown",
   "metadata": {
    "_cell_guid": "008fe8f4-491a-45d9-9d52-6310d3e1c391",
    "_uuid": "eaabc79f87998688cdde5c37cd526baa9352135b"
   },
   "source": [
    "** d / _Customers morphology_ **\n",
    "\n",
    "Finally, I created a representation of the different morphotypes. To do this, I define a class to create \"Radar Charts\" (which has been adapted from this [kernel](https://www.kaggle.com/yassineghouzam/don-t-know-why-employees-leave -read-this)):"
   ]
  },
  {
   "cell_type": "code",
   "execution_count": null,
   "metadata": {
    "_cell_guid": "e544d9cd-9589-46e8-9af5-3ad59a193b6b",
    "_kg_hide-input": true,
    "_uuid": "3d7b1bbb5feb7c4e5ab1e48a27104b5fa51cbac4",
    "collapsed": true
   },
   "outputs": [],
   "source": [
    "def _scale_data(data, ranges):\n",
    "    (x1, x2) = ranges[0]\n",
    "    d = data[0]\n",
    "    return [(d - y1) / (y2 - y1) * (x2 - x1) + x1 for d, (y1, y2) in zip(data, ranges)]\n",
    "\n",
    "class RadarChart():\n",
    "    def __init__(self, fig, location, sizes, variables, ranges, n_ordinate_levels = 6):\n",
    "\n",
    "        angles = np.arange(0, 360, 360./len(variables))\n",
    "\n",
    "        ix, iy = location[:] ; size_x, size_y = sizes[:]\n",
    "        \n",
    "        axes = [fig.add_axes([ix, iy, size_x, size_y], polar = True, \n",
    "        label = \"axes{}\".format(i)) for i in range(len(variables))]\n",
    "\n",
    "        _, text = axes[0].set_thetagrids(angles, labels = variables)\n",
    "        \n",
    "        for txt, angle in zip(text, angles):\n",
    "            if angle > -1 and angle < 181:\n",
    "                txt.set_rotation(angle - 90)\n",
    "            else:\n",
    "                txt.set_rotation(angle - 270)\n",
    "        \n",
    "        for ax in axes[1:]:\n",
    "            ax.patch.set_visible(False)\n",
    "            ax.xaxis.set_visible(False)\n",
    "            ax.grid(\"off\")\n",
    "        \n",
    "        for i, ax in enumerate(axes):\n",
    "            grid = np.linspace(*ranges[i],num = n_ordinate_levels)\n",
    "            grid_label = [\"\"]+[\"{:.0f}\".format(x) for x in grid[1:-1]]\n",
    "            ax.set_rgrids(grid, labels = grid_label, angle = angles[i])\n",
    "            ax.set_ylim(*ranges[i])\n",
    "        \n",
    "        self.angle = np.deg2rad(np.r_[angles, angles[0]])\n",
    "        self.ranges = ranges\n",
    "        self.ax = axes[0]\n",
    "                \n",
    "    def plot(self, data, *args, **kw):\n",
    "        sdata = _scale_data(data, self.ranges)\n",
    "        self.ax.plot(self.angle, np.r_[sdata, sdata[0]], *args, **kw)\n",
    "\n",
    "    def fill(self, data, *args, **kw):\n",
    "        sdata = _scale_data(data, self.ranges)\n",
    "        self.ax.fill(self.angle, np.r_[sdata, sdata[0]], *args, **kw)\n",
    "\n",
    "    def legend(self, *args, **kw):\n",
    "        self.ax.legend(*args, **kw)\n",
    "        \n",
    "    def title(self, title, *args, **kw):\n",
    "        self.ax.text(0.9, 1, title, transform = self.ax.transAxes, *args, **kw)\n"
   ]
  },
  {
   "cell_type": "markdown",
   "metadata": {
    "_cell_guid": "231c1e12-c833-43ae-86e2-4f32b48c5bb1",
    "_uuid": "fb503c92e6a1ac8f4a6aa6d2136ec94e69a4de48"
   },
   "source": [
    "This allows to have a global view of the content of each cluster:"
   ]
  },
  {
   "cell_type": "code",
   "execution_count": null,
   "metadata": {
    "_cell_guid": "d0066031-e494-407f-9e9f-b79167244fd1",
    "_kg_hide-input": true,
    "_uuid": "3074b64fa2e091118783baa4452fe7ccc22c82cb",
    "collapsed": true
   },
   "outputs": [],
   "source": [
    "fig = plt.figure(figsize=(10,12))\n",
    "\n",
    "attributes = ['count', 'mean', 'sum', 'categ_0', 'categ_1', 'categ_2', 'categ_3', 'categ_4']\n",
    "ranges = [[0.01, 10], [0.01, 1500], [0.01, 10000], [0.01, 75], [0.01, 75], [0.01, 75], [0.01, 75], [0.01, 75]]\n",
    "index  = [0, 1, 2, 3, 4, 5, 6, 7, 8, 9, 10, 11, 12]\n",
    "\n",
    "n_groups = n_clusters ; i_cols = 3\n",
    "i_rows = n_groups//i_cols\n",
    "size_x, size_y = (1/i_cols), (1/i_rows)\n",
    "\n",
    "for ind in range(n_clusters):\n",
    "    ix = ind%3 ; iy = i_rows - ind//3\n",
    "    pos_x = ix*(size_x + 0.05) ; pos_y = iy*(size_y + 0.05)            \n",
    "    location = [pos_x, pos_y]  ; sizes = [size_x, size_y] \n",
    "    #______________________________________________________\n",
    "    data = np.array(merged_df.loc[index[ind], attributes])    \n",
    "    radar = RadarChart(fig, location, sizes, attributes, ranges)\n",
    "    radar.plot(data, color = 'b', linewidth=2.0)\n",
    "    radar.fill(data, alpha = 0.2, color = 'b')\n",
    "    radar.title(title = 'cluster nº{}'.format(index[ind]), color = 'r')\n",
    "    ind += 1 "
   ]
  },
  {
   "cell_type": "markdown",
   "metadata": {
    "_cell_guid": "f20f9253-85b2-4bd5-a3f1-c417e3ebd667",
    "_uuid": "9df02d92f07ba29fac28109e12b69e2a70fd43cf"
   },
   "source": [
    "It can be seen, for example, that the first 5 clusters correspond to a strong preponderance of purchases in a particular category of products. Other clusters will differ from basket averages (** mean **), the total sum spent by the clients (** sum **) or the total number of visits made (** count **).\n",
    "\n",
    "____\n",
    "## 5. Classification of customers\n",
    "\n",
    "In this part, the objective will be to adjust a classifier that will classify consumers in the different client categories that were established in the previous section. The objective is to make this classification possible at the first visit. To fulfill this objective, I will test several classifiers implemented in `scikit-learn`. First, in order to simplify their use, I define a class that allows to interface several of the functionalities common to these different classifiers: "
   ]
  },
  {
   "cell_type": "code",
   "execution_count": null,
   "metadata": {
    "_cell_guid": "13991b6e-7070-4e99-985a-8955cd995840",
    "_kg_hide-input": true,
    "_uuid": "33233378b919c14b0b43dd7bb8f5b7023ccb089a",
    "collapsed": true
   },
   "outputs": [],
   "source": [
    "class Class_Fit(object):\n",
    "    def __init__(self, clf, params=None):\n",
    "        if params:            \n",
    "            self.clf = clf(**params)\n",
    "        else:\n",
    "            self.clf = clf()\n",
    "\n",
    "    def train(self, x_train, y_train):\n",
    "        self.clf.fit(x_train, y_train)\n",
    "\n",
    "    def predict(self, x):\n",
    "        return self.clf.predict(x)\n",
    "    \n",
    "    def grid_search(self, parameters, Kfold):\n",
    "        self.grid = GridSearchCV(estimator = self.clf, param_grid = parameters, cv = Kfold)\n",
    "        \n",
    "    def grid_fit(self, X, Y):\n",
    "        self.grid.fit(X, Y)\n",
    "        \n",
    "    def grid_predict(self, X, Y):\n",
    "        self.predictions = self.grid.predict(X)\n",
    "        print(\"Precision: {:.2f} % \".format(100*metrics.accuracy_score(Y, self.predictions)))\n",
    "        "
   ]
  },
  {
   "cell_type": "markdown",
   "metadata": {
    "_cell_guid": "f3b87dc5-fcd4-454c-9849-441556ae7214",
    "_uuid": "d4afb0435e441c5cfd5bc391e7272b8d4c558cb0"
   },
   "source": [
    "Since the goal is to define the class to which a client belongs and this, as soon as its first visit, I only keep the variables that describe the content of the basket, and do not take into account the variables related to the frequency of visits or variations of the basket price over time:"
   ]
  },
  {
   "cell_type": "code",
   "execution_count": null,
   "metadata": {
    "_cell_guid": "5bdd768a-8cb4-49dc-84fc-33c8b84a3362",
    "_kg_hide-input": true,
    "_uuid": "df64b250e989c1a33fe31921ee308056fc5a57b5",
    "collapsed": true
   },
   "outputs": [],
   "source": [
    "columns = ['mean', 'categ_0', 'categ_1', 'categ_2', 'categ_3', 'categ_4' ]\n",
    "X = selected_customers[columns]\n",
    "Y = selected_customers['cluster']"
   ]
  },
  {
   "cell_type": "markdown",
   "metadata": {
    "_cell_guid": "103f68b9-5503-4c04-af53-15442328061d",
    "_uuid": "fd7f25d71e34ebe5f2d6b64b25c53e6eff5bd024"
   },
   "source": [
    "Finally, I split the dataset in train and test sets:"
   ]
  },
  {
   "cell_type": "code",
   "execution_count": null,
   "metadata": {
    "_cell_guid": "c9c4174c-bd28-47df-9919-e951f45bd7f2",
    "_kg_hide-input": true,
    "_uuid": "43c2d31561df475b5c56f5123c3d1080ed3990a2",
    "collapsed": true
   },
   "outputs": [],
   "source": [
    "X_train, X_test, Y_train, Y_test = model_selection.train_test_split(X, Y, train_size = 0.8)"
   ]
  },
  {
   "cell_type": "markdown",
   "metadata": {
    "_cell_guid": "993f99bb-184f-4511-ac15-43de11249199",
    "_uuid": "07c5a612a0d6e812ae597ee5b6f0ab9c9c5c3e06"
   },
   "source": [
    "___\n",
    "### 5.1 Support Vector Machine Classifier (SVC)\n",
    "\n",
    "The first classifier I use is the SVC classifier. In order to use it, I create an instance of the `Class_Fit` class and then call` grid_search()`. When calling this method, I provide as parameters:\n",
    "- the hyperparameters for which I will seek an optimal value\n",
    "- the number of folds to be used for cross-validation"
   ]
  },
  {
   "cell_type": "code",
   "execution_count": null,
   "metadata": {
    "_cell_guid": "eb88bafc-1335-47e2-bc5d-469a551e54b6",
    "_kg_hide-input": true,
    "_uuid": "31ad3b4f07ec0b501f70909560735d21e3f5a8da",
    "collapsed": true
   },
   "outputs": [],
   "source": [
    "svc = Class_Fit(clf = svm.LinearSVC)\n",
    "svc.grid_search(parameters = [{'C':np.logspace(-2,2,10)}], Kfold = 5)"
   ]
  },
  {
   "cell_type": "markdown",
   "metadata": {
    "_cell_guid": "35d32d3d-bb0e-4134-b7cb-374aca8dbfa2",
    "_uuid": "e854dd6a090e2fa5acf726beaaeefa33872a1f6a"
   },
   "source": [
    "Once this instance is created, I adjust the classifier to the training data:"
   ]
  },
  {
   "cell_type": "code",
   "execution_count": null,
   "metadata": {
    "_cell_guid": "f8f0b1ec-6464-4a34-924c-85810c03a8ad",
    "_kg_hide-input": true,
    "_uuid": "174508011f559d2be87e39718f6798090edef992",
    "collapsed": true
   },
   "outputs": [],
   "source": [
    "svc.grid_fit(X = X_train, Y = Y_train)"
   ]
  },
  {
   "cell_type": "markdown",
   "metadata": {
    "_cell_guid": "157f8b45-94a5-46a7-9045-253da1e80af7",
    "_uuid": "6c0a6ae422b144712020c5587effa9ba153165c2"
   },
   "source": [
    "then I can test the quality of the prediction with respect to the test data:"
   ]
  },
  {
   "cell_type": "code",
   "execution_count": null,
   "metadata": {
    "_cell_guid": "5031fd84-a7a4-4ce1-add7-03e4af50cb15",
    "_kg_hide-input": true,
    "_uuid": "314d70285360f73a73734e8583d1cb7e58c7f71d",
    "collapsed": true
   },
   "outputs": [],
   "source": [
    "svc.grid_predict(X_test, Y_test)"
   ]
  },
  {
   "cell_type": "markdown",
   "metadata": {
    "_cell_guid": "dca8ec0f-ae93-4b38-9d3c-3e4d7617f551",
    "_uuid": "42f54e537dbaaf466a4c1e495408f4c95002ede9"
   },
   "source": [
    "___\n",
    "#### 5.1.1 Confusion matrix\n",
    "\n",
    "The accuracy of the results seems to be correct. Nevertheless, let us remember that when the different classes were defined, there was an imbalance in size between the classes obtained. In particular, one class contains around 40% of the clients. It is therefore interesting to look at how the predictions and real values compare to the breasts of the different classes. This is the subject of the confusion matrices and to represent them, I use the code of the [sklearn documentation](http://scikit-learn.org/stable/auto_examples/model_selection/plot_confusion_matrix.html):"
   ]
  },
  {
   "cell_type": "code",
   "execution_count": null,
   "metadata": {
    "_cell_guid": "3d334a90-3134-4e66-babd-7f2ea02efb11",
    "_kg_hide-input": true,
    "_uuid": "50e9d977bebb38f3568c91ab1856061774d115c6",
    "collapsed": true
   },
   "outputs": [],
   "source": [
    "def plot_confusion_matrix(cm, classes, normalize=False, title='Confusion matrix', cmap=plt.cm.Blues):\n",
    "    if normalize:\n",
    "        cm = cm.astype('float') / cm.sum(axis=1)[:, np.newaxis]\n",
    "        print(\"Normalized confusion matrix\")\n",
    "    else:\n",
    "        print('Confusion matrix, without normalization')\n",
    "    #_________________________________________________\n",
    "    plt.imshow(cm, interpolation='nearest', cmap=cmap)\n",
    "    plt.title(title)\n",
    "    plt.colorbar()\n",
    "    tick_marks = np.arange(len(classes))\n",
    "    plt.xticks(tick_marks, classes, rotation=0)\n",
    "    plt.yticks(tick_marks, classes)\n",
    "    #_________________________________________________\n",
    "    fmt = '.2f' if normalize else 'd'\n",
    "    thresh = cm.max() / 2.\n",
    "    for i, j in itertools.product(range(cm.shape[0]), range(cm.shape[1])):\n",
    "        plt.text(j, i, format(cm[i, j], fmt),\n",
    "                 horizontalalignment=\"center\",\n",
    "                 color=\"white\" if cm[i, j] > thresh else \"black\")\n",
    "    #_________________________________________________\n",
    "    plt.tight_layout()\n",
    "    plt.ylabel('True label')\n",
    "    plt.xlabel('Predicted label')"
   ]
  },
  {
   "cell_type": "markdown",
   "metadata": {
    "_cell_guid": "89ba8c7c-42be-44b2-a729-45ac633010bf",
    "_uuid": "4dc50a2614b3844ebe152a4d5eca33cb397df026"
   },
   "source": [
    "from which I create the following representation:"
   ]
  },
  {
   "cell_type": "code",
   "execution_count": null,
   "metadata": {
    "_cell_guid": "eea554d8-a672-4f1e-a6cf-ef4bf6a6950b",
    "_kg_hide-input": true,
    "_uuid": "edb4632a50b983e80ab28fca93b80e9117d14fc6",
    "collapsed": true
   },
   "outputs": [],
   "source": [
    "class_names = [i for i in range(11)]\n",
    "cnf_matrix = confusion_matrix(Y_test, svc.predictions) \n",
    "np.set_printoptions(precision=2)\n",
    "plt.figure(figsize = (8,8))\n",
    "plot_confusion_matrix(cnf_matrix, classes=class_names, normalize = False, title='Confusion matrix')"
   ]
  },
  {
   "cell_type": "markdown",
   "metadata": {
    "_cell_guid": "1405c216-0a26-49b7-84eb-b7ca59e18751",
    "_uuid": "89bea5dbfef84d99e79457142bb29a8ec136cc5a"
   },
   "source": [
    "___\n",
    "#### 5.1.2 Learning curve\n",
    "\n",
    "A typical way to test the quality of a fit is to draw a learning curve. In particular, this type of curves allow to detect possible drawbacks in the model, linked for example to over- or under-fitting. This also shows to which extent the mode could benefit from a larger data sample. In order to draw this curve, I use the [scikit-learn documentation code again](http://scikit-learn.org/stable/auto_examples/model_selection/plot_learning_curve.html#sphx-glr- self-examples-model-selection-pad-learning-curve-py)"
   ]
  },
  {
   "cell_type": "code",
   "execution_count": null,
   "metadata": {
    "_cell_guid": "76b2a6bb-aa79-406f-95ff-48fb3946c5a8",
    "_kg_hide-input": true,
    "_uuid": "199d688e55c37ba527adb63c31a0c243a45ba8da",
    "collapsed": true
   },
   "outputs": [],
   "source": [
    "def plot_learning_curve(estimator, title, X, y, ylim=None, cv=None,\n",
    "                        n_jobs=-1, train_sizes=np.linspace(.1, 1.0, 10)):\n",
    "    \"\"\"Generate a simple plot of the test and training learning curve\"\"\"\n",
    "    plt.figure()\n",
    "    plt.title(title)\n",
    "    if ylim is not None:\n",
    "        plt.ylim(*ylim)\n",
    "    plt.xlabel(\"Training examples\")\n",
    "    plt.ylabel(\"Score\")\n",
    "    train_sizes, train_scores, test_scores = learning_curve(\n",
    "        estimator, X, y, cv=cv, n_jobs=n_jobs, train_sizes=train_sizes)\n",
    "    train_scores_mean = np.mean(train_scores, axis=1)\n",
    "    train_scores_std = np.std(train_scores, axis=1)\n",
    "    test_scores_mean = np.mean(test_scores, axis=1)\n",
    "    test_scores_std = np.std(test_scores, axis=1)\n",
    "    plt.grid()\n",
    "\n",
    "    plt.fill_between(train_sizes, train_scores_mean - train_scores_std,\n",
    "                     train_scores_mean + train_scores_std, alpha=0.1, color=\"r\")\n",
    "    plt.fill_between(train_sizes, test_scores_mean - test_scores_std,\n",
    "                     test_scores_mean + test_scores_std, alpha=0.1, color=\"g\")\n",
    "    plt.plot(train_sizes, train_scores_mean, 'o-', color=\"r\", label=\"Training score\")\n",
    "    plt.plot(train_sizes, test_scores_mean, 'o-', color=\"g\", label=\"Cross-validation score\")\n",
    "\n",
    "    plt.legend(loc=\"best\")\n",
    "    return plt"
   ]
  },
  {
   "cell_type": "markdown",
   "metadata": {
    "_cell_guid": "deca3435-0c6d-4798-9efb-fd4e3b28357b",
    "_uuid": "2b255e1b50b52bbd9b9f2d4526928a869f9bd4f0"
   },
   "source": [
    "from which I represent the leanring curve of the SVC classifier:"
   ]
  },
  {
   "cell_type": "code",
   "execution_count": null,
   "metadata": {
    "_cell_guid": "5e33dcc9-e613-4098-b282-70cd63c59768",
    "_kg_hide-input": true,
    "_uuid": "b89f7776830508bb4a4424c8cdecbe9b6765f43c",
    "collapsed": true,
    "scrolled": true
   },
   "outputs": [],
   "source": [
    "g = plot_learning_curve(svc.grid.best_estimator_,\n",
    "                        \"SVC learning curves\", X_train, Y_train, ylim = [1.01, 0.6],\n",
    "                        cv = 5,  train_sizes = [0.05, 0.1, 0.2, 0.3, 0.4, 0.5,\n",
    "                                                0.6, 0.7, 0.8, 0.9, 1])"
   ]
  },
  {
   "cell_type": "markdown",
   "metadata": {
    "_cell_guid": "5c0a6c67-93ed-4dd3-bc11-f3cb107ee9c2",
    "_uuid": "5f47f200bbc07f370f1a3e8940af87d35a4c08c7"
   },
   "source": [
    "On this curve, we can see that the train and cross-validation curves converge towards the same limit when the sample size increases. This is typical of modeling with low variance and proves that the model does not suffer from overfitting. Also, we can see that the accuracy of the training curve is correct which is synonymous of a low bias. Hence the model does not underfit the data.\n",
    "\n",
    "___\n",
    "### 5.2 Logistic Regression\n",
    "\n",
    "I now consider the logistic regression classifier. As before, I create an instance of the `Class_Fit` class, adjust the model on the training data and see how the predictions compare to the real values:"
   ]
  },
  {
   "cell_type": "code",
   "execution_count": null,
   "metadata": {
    "_cell_guid": "c37cd77b-f96d-483b-bb57-14db65f97039",
    "_kg_hide-input": true,
    "_uuid": "9ee59b5060327224a4356be75ee1221b4e9fb0ab",
    "collapsed": true
   },
   "outputs": [],
   "source": [
    "lr = Class_Fit(clf = linear_model.LogisticRegression)\n",
    "lr.grid_search(parameters = [{'C':np.logspace(-2,2,20)}], Kfold = 5)\n",
    "lr.grid_fit(X = X_train, Y = Y_train)\n",
    "lr.grid_predict(X_test, Y_test)"
   ]
  },
  {
   "cell_type": "markdown",
   "metadata": {
    "_cell_guid": "96d297a9-dd64-45b0-bce0-94439293e937",
    "_uuid": "a67cbfe332dd968d4fc99fb6c2c28103efb55c3c"
   },
   "source": [
    "Then, I plot the learning curve to have a feeling of the quality of the model:"
   ]
  },
  {
   "cell_type": "code",
   "execution_count": null,
   "metadata": {
    "_cell_guid": "8c4c95f0-8116-4501-ae86-7df54fa6a8dd",
    "_kg_hide-input": true,
    "_uuid": "203206e691175e8ff82cf72cfb34e82ffd2acf0c",
    "collapsed": true
   },
   "outputs": [],
   "source": [
    "g = plot_learning_curve(lr.grid.best_estimator_, \"Logistic Regression learning curves\", X_train, Y_train,\n",
    "                        ylim = [1.01, 0.7], cv = 5, \n",
    "                        train_sizes = [0.05, 0.1, 0.2, 0.3, 0.4, 0.5, 0.6, 0.7, 0.8, 0.9, 1])"
   ]
  },
  {
   "cell_type": "markdown",
   "metadata": {
    "_cell_guid": "600918f4-6211-4f52-a6ec-82777e8ca37a",
    "_uuid": "6e74472ba1f136a34fcdddf01b19d2e9af9d96fa"
   },
   "source": [
    "### 5.3 k-Nearest Neighbors"
   ]
  },
  {
   "cell_type": "code",
   "execution_count": null,
   "metadata": {
    "_cell_guid": "93db008f-7525-4705-aa66-ca3e407bfa3f",
    "_kg_hide-input": true,
    "_uuid": "c898bc2cc957afd96dd317aecc160b23efe3c973",
    "collapsed": true
   },
   "outputs": [],
   "source": [
    "knn = Class_Fit(clf = neighbors.KNeighborsClassifier)\n",
    "knn.grid_search(parameters = [{'n_neighbors': np.arange(1,50,1)}], Kfold = 5)\n",
    "knn.grid_fit(X = X_train, Y = Y_train)\n",
    "knn.grid_predict(X_test, Y_test)"
   ]
  },
  {
   "cell_type": "code",
   "execution_count": null,
   "metadata": {
    "_cell_guid": "80b0d359-06f2-4f75-b394-c77eaefb6a37",
    "_kg_hide-input": true,
    "_uuid": "c10d7fca1e4070dd6a97e5d9f5879e3632d6e83c",
    "collapsed": true
   },
   "outputs": [],
   "source": [
    "g = plot_learning_curve(knn.grid.best_estimator_, \"Nearest Neighbors learning curves\", X_train, Y_train,\n",
    "                        ylim = [1.01, 0.7], cv = 5, \n",
    "                        train_sizes = [0.05, 0.1, 0.2, 0.3, 0.4, 0.5, 0.6, 0.7, 0.8, 0.9, 1])"
   ]
  },
  {
   "cell_type": "markdown",
   "metadata": {
    "_cell_guid": "43089987-a289-407c-b6e7-82dd0b4f86fb",
    "_uuid": "ca3adb1bdc494a6b012b200a1f935031eaf4f5b8"
   },
   "source": [
    "### 5.4 Decision Tree"
   ]
  },
  {
   "cell_type": "code",
   "execution_count": null,
   "metadata": {
    "_cell_guid": "0a4cd7ef-f03c-4c7a-8b78-0dc26dab137b",
    "_kg_hide-input": true,
    "_uuid": "48dbd3e263d5b8113b8ef64677e6df4c20076a7c",
    "collapsed": true
   },
   "outputs": [],
   "source": [
    "tr = Class_Fit(clf = tree.DecisionTreeClassifier)\n",
    "tr.grid_search(parameters = [{'criterion' : ['entropy', 'gini'], 'max_features' :['sqrt', 'log2']}], Kfold = 5)\n",
    "tr.grid_fit(X = X_train, Y = Y_train)\n",
    "tr.grid_predict(X_test, Y_test)"
   ]
  },
  {
   "cell_type": "code",
   "execution_count": null,
   "metadata": {
    "_cell_guid": "896f795a-1cbb-4d08-9019-a1ab6963fc5c",
    "_kg_hide-input": true,
    "_uuid": "66fdbf731275232a3df7ef73fe54aeeef8dd0c33",
    "collapsed": true
   },
   "outputs": [],
   "source": [
    "g = plot_learning_curve(tr.grid.best_estimator_, \"Decision tree learning curves\", X_train, Y_train,\n",
    "                        ylim = [1.01, 0.7], cv = 5, \n",
    "                        train_sizes = [0.05, 0.1, 0.2, 0.3, 0.4, 0.5, 0.6, 0.7, 0.8, 0.9, 1])"
   ]
  },
  {
   "cell_type": "markdown",
   "metadata": {
    "_cell_guid": "67fc7d71-2722-44ef-bf78-893f0e8116d1",
    "_uuid": "6d8db24aa70ef84521664c217b0f9fa731f9cbe1"
   },
   "source": [
    "### 5.5 Random Forest"
   ]
  },
  {
   "cell_type": "code",
   "execution_count": null,
   "metadata": {
    "_cell_guid": "191ce09c-a67d-434e-99e2-f186d9b21095",
    "_kg_hide-input": true,
    "_uuid": "5fd4df1e26bd7cdf10dfcf245fddafff86790f8c",
    "collapsed": true
   },
   "outputs": [],
   "source": [
    "rf = Class_Fit(clf = ensemble.RandomForestClassifier)\n",
    "param_grid = {'criterion' : ['entropy', 'gini'], 'n_estimators' : [20, 40, 60, 80, 100],\n",
    "               'max_features' :['sqrt', 'log2']}\n",
    "rf.grid_search(parameters = param_grid, Kfold = 5)\n",
    "rf.grid_fit(X = X_train, Y = Y_train)\n",
    "rf.grid_predict(X_test, Y_test)"
   ]
  },
  {
   "cell_type": "code",
   "execution_count": null,
   "metadata": {
    "_cell_guid": "8ea75385-53a0-42d2-8f14-0b0d89032b41",
    "_kg_hide-input": true,
    "_uuid": "8bd7e9d31969f8b5fc548ad856012d3027faa9a5",
    "collapsed": true
   },
   "outputs": [],
   "source": [
    "g = plot_learning_curve(rf.grid.best_estimator_, \"Random Forest learning curves\", X_train, Y_train,\n",
    "                        ylim = [1.01, 0.7], cv = 5, \n",
    "                        train_sizes = [0.05, 0.1, 0.2, 0.3, 0.4, 0.5, 0.6, 0.7, 0.8, 0.9, 1])"
   ]
  },
  {
   "cell_type": "markdown",
   "metadata": {
    "_cell_guid": "5d7add5f-9247-4f59-a3ab-12a7a5fc269f",
    "_uuid": "ec49824cd052c1898730e7acb6ce684d63c9c22e"
   },
   "source": [
    "### 5.6 AdaBoost Classifier"
   ]
  },
  {
   "cell_type": "code",
   "execution_count": null,
   "metadata": {
    "_cell_guid": "91c38cf5-f042-47d8-b74e-f7a0f9718f26",
    "_kg_hide-input": true,
    "_uuid": "26780fd696188d6b3f8cd9dad2f187003148ee19",
    "collapsed": true
   },
   "outputs": [],
   "source": [
    "ada = Class_Fit(clf = AdaBoostClassifier)\n",
    "param_grid = {'n_estimators' : [10, 20, 30, 40, 50, 60, 70, 80, 90, 100]}\n",
    "ada.grid_search(parameters = param_grid, Kfold = 5)\n",
    "ada.grid_fit(X = X_train, Y = Y_train)\n",
    "ada.grid_predict(X_test, Y_test)"
   ]
  },
  {
   "cell_type": "code",
   "execution_count": null,
   "metadata": {
    "_cell_guid": "4d188502-2d63-49f6-96fc-51d08e381b39",
    "_kg_hide-input": true,
    "_uuid": "fbc49326d70e7ac314cc9c92f5baba69dc3cf7b8",
    "collapsed": true
   },
   "outputs": [],
   "source": [
    "g = plot_learning_curve(ada.grid.best_estimator_, \"AdaBoost learning curves\", X_train, Y_train,\n",
    "                        ylim = [1.01, 0.4], cv = 5, \n",
    "                        train_sizes = [0.05, 0.1, 0.2, 0.3, 0.4, 0.5, 0.6, 0.7, 0.8, 0.9, 1])"
   ]
  },
  {
   "cell_type": "markdown",
   "metadata": {
    "_cell_guid": "bca75b42-7617-428a-8d56-b8ec68378cee",
    "_uuid": "376352a7039a8037ba7acbcb788b58cfc9b38e67"
   },
   "source": [
    "### 5.7 Gradient Boosting Classifier"
   ]
  },
  {
   "cell_type": "code",
   "execution_count": null,
   "metadata": {
    "_cell_guid": "d3cd367f-d2e9-498d-bb82-c1137dd21fdf",
    "_kg_hide-input": true,
    "_uuid": "f85e385c75291843a7c8db847aee48070f60e7ee",
    "collapsed": true
   },
   "outputs": [],
   "source": [
    "gb = Class_Fit(clf = ensemble.GradientBoostingClassifier)\n",
    "param_grid = {'n_estimators' : [10, 20, 30, 40, 50, 60, 70, 80, 90, 100]}\n",
    "gb.grid_search(parameters = param_grid, Kfold = 5)\n",
    "gb.grid_fit(X = X_train, Y = Y_train)\n",
    "gb.grid_predict(X_test, Y_test)"
   ]
  },
  {
   "cell_type": "code",
   "execution_count": null,
   "metadata": {
    "_cell_guid": "2110efe3-4466-4bcb-a74a-0950253d7f60",
    "_kg_hide-input": true,
    "_uuid": "eeca4c1c096b8a40ea910e2472d5fb6ca44ebb19",
    "collapsed": true,
    "scrolled": true
   },
   "outputs": [],
   "source": [
    "g = plot_learning_curve(gb.grid.best_estimator_, \"Gradient Boosting learning curves\", X_train, Y_train,\n",
    "                        ylim = [1.01, 0.7], cv = 5, \n",
    "                        train_sizes = [0.05, 0.1, 0.2, 0.3, 0.4, 0.5, 0.6, 0.7, 0.8, 0.9, 1])"
   ]
  },
  {
   "cell_type": "markdown",
   "metadata": {
    "_cell_guid": "47f0fdc5-2871-494f-9158-1a88c449a7d6",
    "_uuid": "609d7ed4c45f18359ad51745f03b2a686175b7ad"
   },
   "source": [
    "___\n",
    "### 5.8 Let's vote !\n",
    "\n",
    "Finally, the results of the different classifiers presented in the previous sections can be combined to improve the classification model. This can be achieved by selecting the customer category as the one indicated by the majority of classifiers. To do this, I use the `VotingClassifier` method of the `sklearn` package. As a first step, I adjust the parameters of the various classifiers using the *best* parameters previously found:"
   ]
  },
  {
   "cell_type": "code",
   "execution_count": null,
   "metadata": {
    "_cell_guid": "532dcc6f-33a1-4726-a07a-e4bb2ef0b396",
    "_kg_hide-input": true,
    "_uuid": "40c82b43dd34bb9b7685c76bea0f5ca7e761c1d4",
    "collapsed": true
   },
   "outputs": [],
   "source": [
    "rf_best  = ensemble.RandomForestClassifier(**rf.grid.best_params_)\n",
    "gb_best  = ensemble.GradientBoostingClassifier(**gb.grid.best_params_)\n",
    "svc_best = svm.LinearSVC(**svc.grid.best_params_)\n",
    "tr_best  = tree.DecisionTreeClassifier(**tr.grid.best_params_)\n",
    "knn_best = neighbors.KNeighborsClassifier(**knn.grid.best_params_)\n",
    "lr_best  = linear_model.LogisticRegression(**lr.grid.best_params_)"
   ]
  },
  {
   "cell_type": "markdown",
   "metadata": {
    "_cell_guid": "22aabd16-9cf1-4e3c-bb74-b7ecb6bd9268",
    "_uuid": "2b4e1e4f02a6bfbb8b25a84614b2ada700e4ee4a"
   },
   "source": [
    "Then, I define a classifier that merges the results of the various classifiers:"
   ]
  },
  {
   "cell_type": "code",
   "execution_count": null,
   "metadata": {
    "_cell_guid": "7d80dd22-3e03-4069-b27d-cfad906a5acd",
    "_kg_hide-input": true,
    "_uuid": "9aedb584c04d4291460c4d30d215e6b2a33d879c",
    "collapsed": true
   },
   "outputs": [],
   "source": [
    "votingC = ensemble.VotingClassifier(estimators=[('rf', rf_best),('gb', gb_best),\n",
    "                                                ('knn', knn_best)], voting='soft')    "
   ]
  },
  {
   "cell_type": "markdown",
   "metadata": {
    "_cell_guid": "cc37f5d4-5da2-4d32-a37d-4980b451e467",
    "_uuid": "7e88e55a82db913b1544fdd349768b234e612e3b"
   },
   "source": [
    "and train it:"
   ]
  },
  {
   "cell_type": "code",
   "execution_count": null,
   "metadata": {
    "_cell_guid": "bdd0e288-9e46-477b-94a1-a4bfa7fd9b93",
    "_kg_hide-input": true,
    "_uuid": "a89f838c7552464dd07c477ec3d9fd1aae91718c",
    "collapsed": true
   },
   "outputs": [],
   "source": [
    "votingC = votingC.fit(X_train, Y_train)"
   ]
  },
  {
   "cell_type": "markdown",
   "metadata": {
    "_cell_guid": "eae9f527-9ae0-4ba9-abe2-d667d1cec085",
    "_uuid": "633bb962212746efe42de5702b7083d022da9e3a"
   },
   "source": [
    "Finally, we can create a prediction for this model:"
   ]
  },
  {
   "cell_type": "code",
   "execution_count": null,
   "metadata": {
    "_cell_guid": "40d3aad9-7cdf-45b1-8848-863fd003dbe1",
    "_kg_hide-input": true,
    "_uuid": "d582d291f5e82fb666b2e7bc80acd2851c9d87c5",
    "collapsed": true
   },
   "outputs": [],
   "source": [
    "predictions = votingC.predict(X_test)\n",
    "print(\"Precision: {:.2f} % \".format(100*metrics.accuracy_score(Y_test, predictions)))"
   ]
  },
  {
   "cell_type": "markdown",
   "metadata": {
    "_cell_guid": "35f9a337-973f-4b94-9f45-beb59fc6e518",
    "_uuid": "7a1fa3d722ee821ebbacd93282098168d095282c",
    "collapsed": true
   },
   "source": [
    "Note that when defining the `votingC` classifier, I only used a sub-sample of the whole set of classifiers defined above and only retained the *Random Forest*, the *k-Nearest Neighbors* and the *Gradient Boosting* classifiers. In practice, this choice has been done with respect to the performance of the classification carried out in the next section.\n",
    "\n",
    "___\n",
    "## 6. Testing predictions\n",
    "\n",
    "In the previous section, a few classifiers were trained in order to categorize customers. Until that point, the whole analysis was based on the data of the first 10 months. In this section, I test the model  the last two months of the dataset, that has been stored in the `set_test` dataframe:"
   ]
  },
  {
   "cell_type": "code",
   "execution_count": null,
   "metadata": {
    "_cell_guid": "3b0d4452-2d4d-4640-af80-ae4d95a18ebe",
    "_kg_hide-input": true,
    "_uuid": "230cb86d7b613e90c2e5a6b386779c8847d83d58",
    "collapsed": true
   },
   "outputs": [],
   "source": [
    "basket_price = set_test.copy(deep = True)"
   ]
  },
  {
   "cell_type": "markdown",
   "metadata": {
    "_cell_guid": "c588d958-c150-4ace-a7e9-d660d8ac44fd",
    "_uuid": "07cd014e4d2fd526f56b8fb1f68ff65cf14ecbbe"
   },
   "source": [
    "In a first step, I regroup reformattes these data according to the same procedure as used on the training set. However, I am correcting the data to take into account the difference in time between the two datasets and weights the variables ** count ** and ** sum ** to obtain an equivalence with the training set:"
   ]
  },
  {
   "cell_type": "code",
   "execution_count": null,
   "metadata": {
    "_cell_guid": "a71444d2-fde7-422a-98c8-018d2ed8faff",
    "_kg_hide-input": true,
    "_uuid": "ad3b38fbda3b8da6f9ea86c0edbcf02002d1f277",
    "collapsed": true
   },
   "outputs": [],
   "source": [
    "transactions_per_user=basket_price.groupby(by=['CustomerID'])['Basket Price'].agg(['count','min','max','mean','sum'])\n",
    "for i in range(5):\n",
    "    col = 'categ_{}'.format(i)\n",
    "    transactions_per_user.loc[:,col] = basket_price.groupby(by=['CustomerID'])[col].sum() /\\\n",
    "                                            transactions_per_user['sum']*100\n",
    "\n",
    "transactions_per_user.reset_index(drop = False, inplace = True)\n",
    "basket_price.groupby(by=['CustomerID'])['categ_0'].sum()\n",
    "\n",
    "#_______________________\n",
    "# Correcting time range\n",
    "transactions_per_user['count'] = 5 * transactions_per_user['count']\n",
    "transactions_per_user['sum']   = transactions_per_user['count'] * transactions_per_user['mean']\n",
    "\n",
    "transactions_per_user.sort_values('CustomerID', ascending = True)[:5]"
   ]
  },
  {
   "cell_type": "markdown",
   "metadata": {
    "_cell_guid": "dedce1a8-5db0-463e-9bea-31502016b83c",
    "_uuid": "8278c8e0a594d7f907e0565bde0754c7966f8395"
   },
   "source": [
    "Then, I convert the dataframe into a matrix and retain only variables that define the category to which consumers belong. At this level, I recall the method of normalization that had been used on the training set:"
   ]
  },
  {
   "cell_type": "code",
   "execution_count": null,
   "metadata": {
    "_cell_guid": "ad4089ab-f703-483c-8d03-65f3c282c49a",
    "_kg_hide-input": true,
    "_uuid": "926c8e08380d645553e2c939c1bffd485e52b02e",
    "collapsed": true
   },
   "outputs": [],
   "source": [
    "list_cols = ['count','min','max','mean','categ_0','categ_1','categ_2','categ_3','categ_4']\n",
    "#_____________________________________________________________\n",
    "matrix_test = transactions_per_user[list_cols].as_matrix()\n",
    "scaled_test_matrix = scaler.transform(matrix_test)"
   ]
  },
  {
   "cell_type": "markdown",
   "metadata": {
    "_cell_guid": "36cc9ffd-33ee-4591-816a-45bdaf2f9bac",
    "_uuid": "662fe343d8246f85db0eb386f3fb9ad7db1fff64"
   },
   "source": [
    "Each line in this matrix contains a consumer's buying habits. At this stage, it is a question of using these habits in order to define the category to which the consumer belongs. These categories have been established in Section 4. ** At this stage, it is important to bear in mind that this step does not correspond to the classification stage itself**. Here, we prepare the test data by defining the category to which the customers belong. However, this definition uses data obtained over a period of 2 months (via the variables ** count **, ** min **, ** max ** and ** sum **). The classifier defined in Section 5 uses a more restricted set of variables that will be defined from the first purchase of a client.\n",
    "\n",
    "Here it is a question of using the available data over a period of two months and using this data to define the category to which the customers belong. Then, the classifier can be tested by comparing its predictions with these categories. In order to define the category to which the clients belong, I recall the instance of the `kmeans` method used in section 4. The` predict` method of this instance calculates the distance of the consumers from the centroids of the 11 client classes and the smallest distance will define the belonging to the different categories:"
   ]
  },
  {
   "cell_type": "code",
   "execution_count": null,
   "metadata": {
    "_cell_guid": "7627cb8b-d69c-45b2-9460-e37f3440a2cf",
    "_kg_hide-input": true,
    "_uuid": "25274ee1b5fcb9ada2496fef0479ed26b8c90fea",
    "collapsed": true
   },
   "outputs": [],
   "source": [
    "Y = kmeans.predict(scaled_test_matrix)"
   ]
  },
  {
   "cell_type": "markdown",
   "metadata": {
    "_cell_guid": "d31fcdeb-d360-4c6e-be63-119594641030",
    "_uuid": "2f319c54df9f2dad18a1b5cfba3c513fcec06a34"
   },
   "source": [
    "Finally, in order to prepare the execution of the classifier, it is sufficient to select the variables on which it acts:"
   ]
  },
  {
   "cell_type": "code",
   "execution_count": null,
   "metadata": {
    "_cell_guid": "dc376e15-18a7-45d8-a941-804945f13d0c",
    "_kg_hide-input": true,
    "_uuid": "db8446dff217a860253c13c56bb6e30e03270e54",
    "collapsed": true
   },
   "outputs": [],
   "source": [
    "columns = ['mean', 'categ_0', 'categ_1', 'categ_2', 'categ_3', 'categ_4' ]\n",
    "X = transactions_per_user[columns]"
   ]
  },
  {
   "cell_type": "markdown",
   "metadata": {
    "_cell_guid": "e369377a-c3f3-44a7-b4b6-958d5ba340cb",
    "_uuid": "cb2c10ff04aeff496062c49b2ee1d3ed45e7da31"
   },
   "source": [
    "It remains only to examine the predictions of the different classifiers that have been trained in section 5:"
   ]
  },
  {
   "cell_type": "code",
   "execution_count": null,
   "metadata": {
    "_cell_guid": "1226d84c-0b7b-4d0d-b55a-c9c39c9f0d9a",
    "_kg_hide-input": true,
    "_uuid": "a77b2c4f0fba4a51a4d8915e3cd684e3afd3b6fa",
    "collapsed": true
   },
   "outputs": [],
   "source": [
    "classifiers = [(svc, 'Support Vector Machine'),\n",
    "                (lr, 'Logostic Regression'),\n",
    "                (knn, 'k-Nearest Neighbors'),\n",
    "                (tr, 'Decision Tree'),\n",
    "                (rf, 'Random Forest'),\n",
    "                (gb, 'Gradient Boosting')]\n",
    "#______________________________\n",
    "for clf, label in classifiers:\n",
    "    print(30*'_', '\\n{}'.format(label))\n",
    "    clf.grid_predict(X, Y)"
   ]
  },
  {
   "cell_type": "markdown",
   "metadata": {
    "_cell_guid": "fba41ad5-1481-46a4-956c-6f6562d8cc95",
    "_uuid": "b855c4eed1eb8e5a5a15dd562c6fcb17df2283d9"
   },
   "source": [
    "Finally, as anticipated in Section 5.8, it is possible to improve the quality of the classifier by combining their respective predictions. At this level, I chose to mix *Random Forest*, *Gradient Boosting* and *k-Nearest Neighbors* predictions because this leads to a slight improvement in predictions:"
   ]
  },
  {
   "cell_type": "code",
   "execution_count": null,
   "metadata": {
    "_cell_guid": "13682ddc-d732-4839-a314-ec1bcd00cf2a",
    "_kg_hide-input": true,
    "_uuid": "fb82ea972aae88f12a6466a785c7be659984579c",
    "collapsed": true
   },
   "outputs": [],
   "source": [
    "predictions = votingC.predict(X)\n",
    "print(\"Precision: {:.2f} % \".format(100*metrics.accuracy_score(Y, predictions)))"
   ]
  },
  {
   "cell_type": "markdown",
   "metadata": {
    "_cell_guid": "4b652c34-db71-48eb-a33a-cadeae0f29c8",
    "_uuid": "4bee5cb8360ea528c471e9526ac961d8b46b936b"
   },
   "source": [
    "___\n",
    "## 7. Conclusion\n",
    "\n",
    "The work described in this notebook is based on a database providing details on purchases made on an E-commerce platform over a period of one year. Each entry in the dataset describes the purchase of a product, by a particular customer and at a given date. In total, approximately $\\sim$4000 clients appear in the database. Given the available information, I decided to develop a classifier that allows to anticipate the type of purchase that a customer will make, as well as the number of visits that he will make during a year, and this from its first visit to the E-commerce site.\n",
    "\n",
    "The first stage of this work consisted in describing the different products sold by the site, which was the subject of a first classification. There, I grouped the different products into 5 main categories of goods. In a second step, I performed a classification of the customers by analyzing their consumption habits over a period of 10 months. I have classified clients into 11 major categories based on the type of products they usually buy, the number of visits they make and the amount they spent during the 10 months. Once these categories established, I finally trained several classifiers whose objective is to be able to classify consumers in one of these 11 categories and this from their first purchase. For this, the classifier is based on 5 variables which are:\n",
    "- ** mean **: amount of the basket of the current purchase\n",
    "- ** categ_N ** with $N \\in [0: 4]$: percentage spent in product category with index $N$\n",
    "\n",
    "Finally, the quality of the predictions of the different classifiers was tested over the last two months of the dataset. The data were then processed in two steps: first, all the data was considered (ober the 2 months) to define the category to which each client belongs, and then, the classifier predictions were compared with this category assignment. I then found that 75% of clients are awarded the right classes.\n",
    "The performance of the classifier therefore seems correct given the potential shortcomings of the current model. In particular, a bias that has not been dealt with concerns the seasonality of purchases and the fact that purchasing habits will potentially depend on the time of year (for example, Christmas ). In practice, this seasonal effect may cause the categories defined over a 10-month period to be quite different from those extrapolated from the last two months. In order to correct such bias, it would be beneficial to have data that would cover a longer period of time.\n",
    "\n"
   ]
  },
  {
   "cell_type": "markdown",
   "metadata": {
    "_cell_guid": "096ea945-c6f3-46d6-8616-31f577781bf2",
    "_uuid": "f2eb8ce2754622608f47cafad4799cd4ca56729a",
    "collapsed": true
   },
   "source": [
    "**Thanks for reaching that point of the notebook.** <br>\n",
    "**If you liked it, an upvote would be much appreciated !**"
   ]
  },
  {
   "cell_type": "code",
   "execution_count": null,
   "metadata": {
    "_cell_guid": "d27b2130-f92e-4050-b6f9-683ae49ba4f4",
    "_uuid": "af58a547d8cc9d3bbe25d2f9ab5b23b1845b23e2",
    "collapsed": true
   },
   "outputs": [],
   "source": []
  }
 ],
 "metadata": {
  "kernelspec": {
   "display_name": "Python 3",
   "language": "python",
   "name": "python3"
  },
  "language_info": {
   "codemirror_mode": {
    "name": "ipython",
    "version": 3
   },
   "file_extension": ".py",
   "mimetype": "text/x-python",
   "name": "python",
   "nbconvert_exporter": "python",
   "pygments_lexer": "ipython3",
   "version": "3.6.5"
  }
 },
 "nbformat": 4,
 "nbformat_minor": 1
}
