{
 "cells": [
  {
   "cell_type": "markdown",
   "metadata": {},
   "source": [
    "###### polyfit"
   ]
  },
  {
   "cell_type": "code",
   "execution_count": 3,
   "metadata": {},
   "outputs": [
    {
     "name": "stderr",
     "output_type": "stream",
     "text": [
      "C:\\ProgramData\\Anaconda3\\lib\\site-packages\\sklearn\\externals\\joblib\\func_inspect.py:53: DeprecationWarning: invalid escape sequence \\<\n",
      "  '\\<doctest (.*\\.rst)\\[(.*)\\]\\>', source_file).groups()\n",
      "C:\\ProgramData\\Anaconda3\\lib\\site-packages\\sklearn\\externals\\joblib\\_memory_helpers.py:10: DeprecationWarning: invalid escape sequence \\s\n",
      "  cookie_re = re.compile(\"coding[:=]\\s*([-\\w.]+)\")\n",
      "C:\\ProgramData\\Anaconda3\\lib\\site-packages\\sklearn\\metrics\\classification.py:349: DeprecationWarning: invalid escape sequence \\k\n",
      "  \"\"\"\n",
      "C:\\ProgramData\\Anaconda3\\lib\\site-packages\\sklearn\\metrics\\cluster\\supervised.py:578: DeprecationWarning: invalid escape sequence \\s\n",
      "  \"\"\"\n",
      "C:\\ProgramData\\Anaconda3\\lib\\site-packages\\sklearn\\linear_model\\coordinate_descent.py:261: DeprecationWarning: invalid escape sequence \\s\n",
      "  \"\"\"\n",
      "C:\\ProgramData\\Anaconda3\\lib\\site-packages\\sklearn\\linear_model\\coordinate_descent.py:382: DeprecationWarning: invalid escape sequence \\s\n",
      "  \"\"\"\n",
      "C:\\ProgramData\\Anaconda3\\lib\\site-packages\\sklearn\\linear_model\\coordinate_descent.py:1699: DeprecationWarning: invalid escape sequence \\s\n",
      "  \"\"\"\n",
      "C:\\ProgramData\\Anaconda3\\lib\\site-packages\\sklearn\\linear_model\\coordinate_descent.py:1884: DeprecationWarning: invalid escape sequence \\s\n",
      "  \"\"\"\n",
      "C:\\ProgramData\\Anaconda3\\lib\\site-packages\\sklearn\\linear_model\\coordinate_descent.py:2058: DeprecationWarning: invalid escape sequence \\s\n",
      "  \"\"\"\n",
      "C:\\ProgramData\\Anaconda3\\lib\\site-packages\\sklearn\\linear_model\\coordinate_descent.py:2204: DeprecationWarning: invalid escape sequence \\s\n",
      "  \"\"\"\n",
      "C:\\ProgramData\\Anaconda3\\lib\\site-packages\\sklearn\\linear_model\\omp.py:343: DeprecationWarning: invalid escape sequence \\g\n",
      "  \"\"\"\n"
     ]
    }
   ],
   "source": [
    "import numpy as np\n",
    "from scipy import stats\n",
    "from sklearn import linear_model"
   ]
  },
  {
   "cell_type": "code",
   "execution_count": 4,
   "metadata": {
    "collapsed": true
   },
   "outputs": [],
   "source": [
    "? np.polyfit\n",
    "\n",
    "# Signature: np.polyfit(x, y, deg, rcond=None, full=False, w=None, cov=False)\n",
    "# deg : x다항식의 차수\n",
    "# rcond=None : 정밀도관련 파라미터\n",
    "# full=False : 회귀분석의 다양한 결과를 반환할지 여부\n",
    "# w=None : 가중회귀분석을 위한 가중치(에러의 표준편차의 역수)\n",
    "# cov=False : ?\n"
   ]
  },
  {
   "cell_type": "code",
   "execution_count": 5,
   "metadata": {},
   "outputs": [
    {
     "data": {
      "text/plain": [
       "array([ 0.08703704, -0.81349206,  1.69312169, -0.03968254])"
      ]
     },
     "execution_count": 5,
     "metadata": {},
     "output_type": "execute_result"
    }
   ],
   "source": [
    "x = np.array([0.0, 1.0, 2.0, 3.0,  4.0,  5.0])\n",
    "y = np.array([0.0, 0.8, 0.9, 0.1, -0.8, -1.0])\n",
    "z = np.polyfit(x, y, 3) # z는 4개의 coefficient값을 갖는다. (3차항, 2차항, 1차항, 상수항)\n",
    "z"
   ]
  },
  {
   "cell_type": "code",
   "execution_count": 6,
   "metadata": {
    "collapsed": true
   },
   "outputs": [],
   "source": [
    "# 다중회귀분석용 함수\n",
    "? linear_model.LinearRegression"
   ]
  },
  {
   "cell_type": "code",
   "execution_count": 7,
   "metadata": {
    "collapsed": true
   },
   "outputs": [],
   "source": [
    "? linear_model.LinearRegression.fit\n",
    "# Signature: linear_model.LinearRegression.fit(self, X, y, sample_weight=None)"
   ]
  },
  {
   "cell_type": "code",
   "execution_count": 8,
   "metadata": {},
   "outputs": [
    {
     "data": {
      "text/plain": [
       "array([[   0.,    0.,    0.],\n",
       "       [   1.,    1.,    1.],\n",
       "       [   8.,    4.,    2.],\n",
       "       [  27.,    9.,    3.],\n",
       "       [  64.,   16.,    4.],\n",
       "       [ 125.,   25.,    5.]])"
      ]
     },
     "execution_count": 8,
     "metadata": {},
     "output_type": "execute_result"
    }
   ],
   "source": [
    "# x^3, x^2, x를 각 컬럼으로 하는 행렬 X 생성, 다중회귀분석 시도\n",
    "X = np.reshape(list(x**3)+list(x**2)+list(x), (6, -1), order='F')\n",
    "X"
   ]
  },
  {
   "cell_type": "code",
   "execution_count": 9,
   "metadata": {},
   "outputs": [
    {
     "data": {
      "text/plain": [
       "array([[ 0. ],\n",
       "       [ 0.8],\n",
       "       [ 0.9],\n",
       "       [ 0.1],\n",
       "       [-0.8],\n",
       "       [-1. ]])"
      ]
     },
     "execution_count": 9,
     "metadata": {},
     "output_type": "execute_result"
    }
   ],
   "source": [
    "#  y를 컬럼형태로 변형한 Y 생성\n",
    "Y = np.array(y).reshape(len(y),-1)\n",
    "Y"
   ]
  },
  {
   "cell_type": "code",
   "execution_count": 10,
   "metadata": {},
   "outputs": [
    {
     "data": {
      "text/plain": [
       "(array([[ 0.08703704, -0.81349206,  1.69312169]]), array([-0.03968254]))"
      ]
     },
     "execution_count": 10,
     "metadata": {},
     "output_type": "execute_result"
    }
   ],
   "source": [
    "my_lin = linear_model.LinearRegression()\n",
    "my_lin.fit(X, Y)\n",
    "(my_lin.coef_, my_lin.intercept_)\n",
    "# polyfit의 3차다항식 fitting의 결과와 같음"
   ]
  },
  {
   "cell_type": "markdown",
   "metadata": {},
   "source": [
    "###### np.poly1d"
   ]
  },
  {
   "cell_type": "code",
   "execution_count": 11,
   "metadata": {
    "collapsed": true
   },
   "outputs": [],
   "source": [
    "? np.poly1d\n",
    "\n",
    "# signature: np.poly1d(c_or_r, r=False, variable=None)\n",
    "# c_or_r : array_like\n",
    "#          r=False 인 경우 다항식의 계수(고차항부터 저차항순으로)\n",
    "#          r=True 인 경우 다항식=0 의 해\n",
    "# r=False : c_or_r의 값을 계수로 볼지, 다항식의 해로 볼지 결정하는 파라미터, True면 계수, False면 해\n",
    "# variable : print시 변수"
   ]
  },
  {
   "cell_type": "code",
   "execution_count": 12,
   "metadata": {},
   "outputs": [
    {
     "name": "stdout",
     "output_type": "stream",
     "text": [
      "         3          2\n",
      "0.08704 x - 0.8135 x + 1.693 x - 0.03968\n"
     ]
    }
   ],
   "source": [
    "p = np.poly1d(z)\n",
    "print(p)"
   ]
  },
  {
   "cell_type": "code",
   "execution_count": 13,
   "metadata": {},
   "outputs": [
    {
     "name": "stdout",
     "output_type": "stream",
     "text": [
      "         3          2\n",
      "0.08704 k - 0.8135 k + 1.693 k - 0.03968\n"
     ]
    }
   ],
   "source": [
    "print(np.poly1d(z, variable='k'))"
   ]
  },
  {
   "cell_type": "code",
   "execution_count": 14,
   "metadata": {},
   "outputs": [
    {
     "data": {
      "text/plain": [
       "-0.039682539682539548"
      ]
     },
     "execution_count": 14,
     "metadata": {},
     "output_type": "execute_result"
    }
   ],
   "source": [
    "# p(x) : 다항식에 x를 대입한 결과\n",
    "p(0)"
   ]
  },
  {
   "cell_type": "code",
   "execution_count": 15,
   "metadata": {},
   "outputs": [
    {
     "data": {
      "text/plain": [
       "array([ 6.24151464,  3.08128307,  0.02370685])"
      ]
     },
     "execution_count": 15,
     "metadata": {},
     "output_type": "execute_result"
    }
   ],
   "source": [
    "p.r # 다항식=0 의 해"
   ]
  },
  {
   "cell_type": "code",
   "execution_count": 16,
   "metadata": {},
   "outputs": [
    {
     "data": {
      "text/plain": [
       "array([ 0.08703704, -0.81349206,  1.69312169, -0.03968254])"
      ]
     },
     "execution_count": 16,
     "metadata": {},
     "output_type": "execute_result"
    }
   ],
   "source": [
    "p.c # 다항식의 계수"
   ]
  },
  {
   "cell_type": "code",
   "execution_count": 17,
   "metadata": {},
   "outputs": [
    {
     "data": {
      "text/plain": [
       "3"
      ]
     },
     "execution_count": 17,
     "metadata": {},
     "output_type": "execute_result"
    }
   ],
   "source": [
    "p.order # 다항식의 차수"
   ]
  },
  {
   "cell_type": "code",
   "execution_count": 18,
   "metadata": {},
   "outputs": [
    {
     "name": "stdout",
     "output_type": "stream",
     "text": [
      "   2\n",
      "1 x - 1 x\n"
     ]
    }
   ],
   "source": [
    "# (x-0)*(x-1) = x^2 - x\n",
    "p_1 = np.poly1d([0, 1], r=True)\n",
    "print(p_1)"
   ]
  },
  {
   "cell_type": "markdown",
   "metadata": {},
   "source": [
    "###### Prophet\n",
    "\n",
    "시계열을 trend, seasonality, holiday and event의 세 가지 요소의 합으로 모델링하여 주어진 기간의 데이터를 이용해 모델을 fitting하고 이후 기간의 시계열 변동을 추정.\n",
    "\n",
    "trend는 piece wise linear 또는 logistic 중에서 선택. trend가 바뀌는 지점을 changepoints라고 부르며 사용자가 도메인 지식을 활용해 직접 입력할 수도 있고, 모델이 추정하게 할 수도 있다 모델이 추정하는 경우 changepoints의 빈도를 어떻게 할지 입력해줄 수 있는데 빈도가 높으면 데이터 존재하는 기간에 대해 에러를 축소할수 있는 반면 미래 추정에서는 uncertainty interval을 넗히는 효과(?). logistic의 경우 \n",
    "\n",
    "seasonality는 연, 주, 일 단위의 계절성을 포함하도록 조절할 수 있고, 모델이 결정하게 할 수도 있다. 주기적 변동의 폭을 조정하는 입력값 선택을 통해 사용자의 직관을 추가할 수 있다. \n",
    "\n",
    "holiday도 입력하여 특정일에 데이터가 튀는 경우의 효과를 잘 흡수할 수 있다. 하루가 아닌 연휴의 성격을 띄는 경우 기간을 설정할 수 있다. "
   ]
  },
  {
   "cell_type": "code",
   "execution_count": 19,
   "metadata": {
    "collapsed": true
   },
   "outputs": [],
   "source": [
    "from fbprophet import Prophet\n",
    "? Prophet\n",
    "# Init signature: Prophet(growth='linear', changepoints=None, n_changepoints=25, changepoint_range=0.8, \n",
    "#     yearly_seasonality='auto', weekly_seasonality='auto', daily_seasonality='auto', \n",
    "#     holidays=None, seasonality_mode='additive', seasonality_prior_scale=10.0, holidays_prior_scale=10.0, \n",
    "#     changepoint_prior_scale=0.05, mcmc_samples=0, interval_width=0.8, uncertainty_samples=1000)\n",
    "\n",
    "# 제공되는 데이터(dataframe)에 'ds', 'y'로 컬럼명을 고정해야함. ds는 datestamp.\n",
    "# growth='linear' : linear 또는 logistic 중에 선택. logistic 선택시 dataframe 에 'cap'(carrying capacity)컬럼이 있어야함.\n",
    "# changepoints=None : trend변화 시점을 입력해 줄 수 있음\n",
    "# n_changepoints=25 : trend변화 시점의 수(changepoints 입력시 비활성)\n",
    "# changepoint_range=0.8 : 위 trend변화 시점을 선택할 영역의 비율(changepoints 입력시 비활성)\n",
    "# yearly_seasonality='auto', weekly_seasonality='auto', daily_seasonality='auto' :\n",
    "# 각 기간에 대한 계절성존재 여부, auto는 모델이 직접판단, 'True', 'False', 'number of Fourier terms to generate' 등 입력가능.\n",
    "# holidays=None : 'ds', 'holiday', 'lower_window'(옵션), 'upper_window'(옵션), 'prior_scale'(옵션)\n",
    "# seasonality_mode='additive' : additive 와 multiplicative 중 선택\n",
    "# seasonality_prior_scale=10.0 : 계절성효과의 강도. 값이 클수록 더 큰 계절변동\n",
    "# holidays_prior_scale=10.0 : holiday요소의 강도.\n",
    "# changepoint_prior_scale=0.05 : 값이 클수록 더 많은 changepoint 를 허용함.\n",
    "# mcmc_samples=0 : mcmc = markov chain monte carlo. 0보다 크면 full bayesian inference, 0이면 MAP estimation\n",
    "# interval_width=0.8 : mcmc_samples와 연동(복잡한 내용) \n",
    "# uncertainty_samples=1000 : uncertainty interval을 추정하는데 사용되는 시뮬레이션 수"
   ]
  },
  {
   "cell_type": "code",
   "execution_count": null,
   "metadata": {
    "collapsed": true
   },
   "outputs": [],
   "source": []
  }
 ],
 "metadata": {
  "kernelspec": {
   "display_name": "Python 3",
   "language": "python",
   "name": "python3"
  },
  "language_info": {
   "codemirror_mode": {
    "name": "ipython",
    "version": 3
   },
   "file_extension": ".py",
   "mimetype": "text/x-python",
   "name": "python",
   "nbconvert_exporter": "python",
   "pygments_lexer": "ipython3",
   "version": "3.6.2"
  }
 },
 "nbformat": 4,
 "nbformat_minor": 2
}
